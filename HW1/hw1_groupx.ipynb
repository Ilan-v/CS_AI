{
 "cells": [
  {
   "cell_type": "code",
   "execution_count": 11,
   "metadata": {},
   "outputs": [],
   "source": [
    "import ember\n",
    "import numpy as np\n",
    "import pandas as pd\n",
    "import os\n",
    "import json"
   ]
  },
  {
   "cell_type": "code",
   "execution_count": 16,
   "metadata": {},
   "outputs": [],
   "source": [
    "data_dir = \"data/\"\n",
    "processed_dir = \"data/processed/\""
   ]
  },
  {
   "cell_type": "code",
   "execution_count": 17,
   "metadata": {},
   "outputs": [],
   "source": [
    "#load pickle file\n",
    "df = pd.read_pickle(processed_dir + \"train.pkl\")"
   ]
  },
  {
   "cell_type": "code",
   "execution_count": 54,
   "metadata": {},
   "outputs": [],
   "source": [
    "feature_columns = [\n",
    "    'strings','general', 'header', 'section', 'imports',\n",
    "    'exports', 'datadirectories']\n",
    "statistics_columns = ['histogram','byteentropy']\n",
    "metadata_columns = ['sha256', 'md5', 'appeared', 'label', 'avclass']"
   ]
  },
  {
   "cell_type": "code",
   "execution_count": 55,
   "metadata": {},
   "outputs": [],
   "source": [
    "#load json to dataframe\n",
    "file_dir = data_dir + \"train_features_1.jsonl\"\n",
    "df = pd.read_json(file_dir, lines=True)"
   ]
  },
  {
   "cell_type": "code",
   "execution_count": 56,
   "metadata": {},
   "outputs": [
    {
     "data": {
      "text/html": [
       "<div>\n",
       "<style scoped>\n",
       "    .dataframe tbody tr th:only-of-type {\n",
       "        vertical-align: middle;\n",
       "    }\n",
       "\n",
       "    .dataframe tbody tr th {\n",
       "        vertical-align: top;\n",
       "    }\n",
       "\n",
       "    .dataframe thead th {\n",
       "        text-align: right;\n",
       "    }\n",
       "</style>\n",
       "<table border=\"1\" class=\"dataframe\">\n",
       "  <thead>\n",
       "    <tr style=\"text-align: right;\">\n",
       "      <th></th>\n",
       "      <th>sha256</th>\n",
       "      <th>md5</th>\n",
       "      <th>appeared</th>\n",
       "      <th>label</th>\n",
       "      <th>avclass</th>\n",
       "      <th>size</th>\n",
       "      <th>vsize</th>\n",
       "      <th>has_debug</th>\n",
       "      <th>exports</th>\n",
       "      <th>imports</th>\n",
       "      <th>has_relocations</th>\n",
       "      <th>has_resources</th>\n",
       "      <th>has_signature</th>\n",
       "      <th>has_tls</th>\n",
       "      <th>symbols</th>\n",
       "    </tr>\n",
       "  </thead>\n",
       "  <tbody>\n",
       "    <tr>\n",
       "      <th>0</th>\n",
       "      <td>2ef9a92ee6c955364564b0df75ee3753473014b2ba162b...</td>\n",
       "      <td>7e39aeea7bc21d16b8652516a150b282</td>\n",
       "      <td>2018-01</td>\n",
       "      <td>1</td>\n",
       "      <td>sivis</td>\n",
       "      <td>349811</td>\n",
       "      <td>28672</td>\n",
       "      <td>0</td>\n",
       "      <td>0</td>\n",
       "      <td>55</td>\n",
       "      <td>0</td>\n",
       "      <td>1</td>\n",
       "      <td>0</td>\n",
       "      <td>0</td>\n",
       "      <td>0</td>\n",
       "    </tr>\n",
       "    <tr>\n",
       "      <th>1</th>\n",
       "      <td>50f3f85a10cedf9192f7aa4cd4d2b1ce9e294e23f3dd7e...</td>\n",
       "      <td>09435239e7a0ddfeb78820cf5c31cc06</td>\n",
       "      <td>2018-01</td>\n",
       "      <td>-1</td>\n",
       "      <td>upatre</td>\n",
       "      <td>33776</td>\n",
       "      <td>36864</td>\n",
       "      <td>0</td>\n",
       "      <td>0</td>\n",
       "      <td>33</td>\n",
       "      <td>0</td>\n",
       "      <td>1</td>\n",
       "      <td>0</td>\n",
       "      <td>0</td>\n",
       "      <td>0</td>\n",
       "    </tr>\n",
       "    <tr>\n",
       "      <th>2</th>\n",
       "      <td>f6c68207b3b395feabcbb029c393607db4ff5227ecd5da...</td>\n",
       "      <td>744cac35cdfa2c3a0672184d433cb93e</td>\n",
       "      <td>2018-01</td>\n",
       "      <td>0</td>\n",
       "      <td></td>\n",
       "      <td>161280</td>\n",
       "      <td>184320</td>\n",
       "      <td>0</td>\n",
       "      <td>0</td>\n",
       "      <td>155</td>\n",
       "      <td>1</td>\n",
       "      <td>1</td>\n",
       "      <td>0</td>\n",
       "      <td>0</td>\n",
       "      <td>0</td>\n",
       "    </tr>\n",
       "    <tr>\n",
       "      <th>3</th>\n",
       "      <td>3292ee48fac44b7b70bdfde526f71c09e65764d9b582f5...</td>\n",
       "      <td>b6d6f2dc5ef191e23dfc2892ff626168</td>\n",
       "      <td>2018-01</td>\n",
       "      <td>0</td>\n",
       "      <td></td>\n",
       "      <td>6144</td>\n",
       "      <td>32768</td>\n",
       "      <td>0</td>\n",
       "      <td>0</td>\n",
       "      <td>1</td>\n",
       "      <td>1</td>\n",
       "      <td>1</td>\n",
       "      <td>0</td>\n",
       "      <td>0</td>\n",
       "      <td>0</td>\n",
       "    </tr>\n",
       "    <tr>\n",
       "      <th>4</th>\n",
       "      <td>b9494c218b74a9774a88307ba83c03da0bee3a80899b47...</td>\n",
       "      <td>b6607d4123b0d3afdbca4bdc9a4bcf7a</td>\n",
       "      <td>2018-01</td>\n",
       "      <td>-1</td>\n",
       "      <td>startsurf</td>\n",
       "      <td>1242112</td>\n",
       "      <td>1265664</td>\n",
       "      <td>1</td>\n",
       "      <td>0</td>\n",
       "      <td>85</td>\n",
       "      <td>0</td>\n",
       "      <td>1</td>\n",
       "      <td>0</td>\n",
       "      <td>1</td>\n",
       "      <td>0</td>\n",
       "    </tr>\n",
       "  </tbody>\n",
       "</table>\n",
       "</div>"
      ],
      "text/plain": [
       "                                              sha256  \\\n",
       "0  2ef9a92ee6c955364564b0df75ee3753473014b2ba162b...   \n",
       "1  50f3f85a10cedf9192f7aa4cd4d2b1ce9e294e23f3dd7e...   \n",
       "2  f6c68207b3b395feabcbb029c393607db4ff5227ecd5da...   \n",
       "3  3292ee48fac44b7b70bdfde526f71c09e65764d9b582f5...   \n",
       "4  b9494c218b74a9774a88307ba83c03da0bee3a80899b47...   \n",
       "\n",
       "                                md5 appeared  label    avclass     size  \\\n",
       "0  7e39aeea7bc21d16b8652516a150b282  2018-01      1      sivis   349811   \n",
       "1  09435239e7a0ddfeb78820cf5c31cc06  2018-01     -1     upatre    33776   \n",
       "2  744cac35cdfa2c3a0672184d433cb93e  2018-01      0              161280   \n",
       "3  b6d6f2dc5ef191e23dfc2892ff626168  2018-01      0                6144   \n",
       "4  b6607d4123b0d3afdbca4bdc9a4bcf7a  2018-01     -1  startsurf  1242112   \n",
       "\n",
       "     vsize  has_debug  exports  imports  has_relocations  has_resources  \\\n",
       "0    28672          0        0       55                0              1   \n",
       "1    36864          0        0       33                0              1   \n",
       "2   184320          0        0      155                1              1   \n",
       "3    32768          0        0        1                1              1   \n",
       "4  1265664          1        0       85                0              1   \n",
       "\n",
       "   has_signature  has_tls  symbols  \n",
       "0              0        0        0  \n",
       "1              0        0        0  \n",
       "2              0        0        0  \n",
       "3              0        0        0  \n",
       "4              0        1        0  "
      ]
     },
     "execution_count": 56,
     "metadata": {},
     "output_type": "execute_result"
    }
   ],
   "source": [
    "#flatten general column\n",
    "df_general = pd.concat([df.drop(['general'], axis=1)[metadata_columns], df['general'].apply(pd.Series)], axis=1)\n",
    "df_general.head()"
   ]
  },
  {
   "cell_type": "code",
   "execution_count": 50,
   "metadata": {},
   "outputs": [
    {
     "data": {
      "text/plain": [
       "{'coff': {'timestamp': 1510518005,\n",
       "  'machine': 'I386',\n",
       "  'characteristics': ['CHARA_32BIT_MACHINE', 'DLL', 'EXECUTABLE_IMAGE']},\n",
       " 'optional': {'subsystem': 'WINDOWS_CUI',\n",
       "  'dll_characteristics': ['DYNAMIC_BASE', 'NX_COMPAT', 'FORCE_INTEGRITY'],\n",
       "  'magic': 'PE32',\n",
       "  'major_image_version': 0,\n",
       "  'minor_image_version': 0,\n",
       "  'major_linker_version': 14,\n",
       "  'minor_linker_version': 10,\n",
       "  'major_operating_system_version': 5,\n",
       "  'minor_operating_system_version': 1,\n",
       "  'major_subsystem_version': 5,\n",
       "  'minor_subsystem_version': 1,\n",
       "  'sizeof_code': 1217536,\n",
       "  'sizeof_headers': 1024,\n",
       "  'sizeof_heap_commit': 4096}}"
      ]
     },
     "execution_count": 50,
     "metadata": {},
     "output_type": "execute_result"
    }
   ],
   "source": [
    "df[df['exports'].map(lambda d: len(d)) > 0]['header'].iloc[104]"
   ]
  },
  {
   "cell_type": "code",
   "execution_count": 37,
   "metadata": {},
   "outputs": [
    {
     "name": "stdout",
     "output_type": "stream",
     "text": [
      "55\n"
     ]
    }
   ],
   "source": [
    "#get rows where export is not an empty list\n",
    "a = df[df['imports'].map(lambda d: len(d)) > 0]['imports'][0].values()\n",
    "a = list(a)\n",
    "# count number of values in nested list a\n",
    "count = 0\n",
    "for i in a:\n",
    "    count += len(i)\n",
    "print(count)"
   ]
  },
  {
   "cell_type": "code",
   "execution_count": 24,
   "metadata": {},
   "outputs": [
    {
     "data": {
      "text/plain": [
       "{'size': 349811,\n",
       " 'vsize': 28672,\n",
       " 'has_debug': 0,\n",
       " 'exports': 0,\n",
       " 'imports': 55,\n",
       " 'has_relocations': 0,\n",
       " 'has_resources': 1,\n",
       " 'has_signature': 0,\n",
       " 'has_tls': 0,\n",
       " 'symbols': 0}"
      ]
     },
     "execution_count": 24,
     "metadata": {},
     "output_type": "execute_result"
    }
   ],
   "source": [
    "df[df['imports'].map(lambda d: len(d)) > 0]['general'][0]"
   ]
  },
  {
   "cell_type": "code",
   "execution_count": 9,
   "metadata": {},
   "outputs": [
    {
     "data": {
      "text/plain": [
       "(50000, 14233)"
      ]
     },
     "execution_count": 9,
     "metadata": {},
     "output_type": "execute_result"
    }
   ],
   "source": [
    "df.shape"
   ]
  },
  {
   "cell_type": "code",
   "execution_count": 8,
   "metadata": {},
   "outputs": [
    {
     "data": {
      "text/plain": [
       "('2018-11', '2018-12')"
      ]
     },
     "execution_count": 8,
     "metadata": {},
     "output_type": "execute_result"
    }
   ],
   "source": [
    "# get date range of 'appeard' column\n",
    "df['appeared'].min(), df['appeared'].max()"
   ]
  },
  {
   "cell_type": "markdown",
   "metadata": {},
   "source": [
    "Relevant json files:\n",
    "1. `train_features_1.jsonl` - jan-feb 158158 rows\n",
    "2. `train_features_2.jsonl` - mar-apr, 127891 rows \n",
    "3. `train_features_3.jsonl` - may-jun, 129195 rows\n",
    "4. `train_features_4.jsonl` - jul-aug, 132182 rows\n",
    "5. `train_features_5.jsonl` - sep-oct, 202574 rows\n",
    "6. `test_features.jsonl` - nov-dec, 200000 rows"
   ]
  }
 ],
 "metadata": {
  "kernelspec": {
   "display_name": "Python 3.8.8 ('base')",
   "language": "python",
   "name": "python3"
  },
  "language_info": {
   "codemirror_mode": {
    "name": "ipython",
    "version": 3
   },
   "file_extension": ".py",
   "mimetype": "text/x-python",
   "name": "python",
   "nbconvert_exporter": "python",
   "pygments_lexer": "ipython3",
   "version": "3.8.8"
  },
  "orig_nbformat": 4,
  "vscode": {
   "interpreter": {
    "hash": "d0d24260c26781aab6a6247b3ae992ece4f26fd75ea3713b7a84756a27d5e272"
   }
  }
 },
 "nbformat": 4,
 "nbformat_minor": 2
}
