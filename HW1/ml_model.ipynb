{
 "cells": [
  {
   "attachments": {},
   "cell_type": "markdown",
   "metadata": {},
   "source": [
    "# Imports"
   ]
  },
  {
   "cell_type": "code",
   "execution_count": 23,
   "metadata": {},
   "outputs": [],
   "source": [
    "# Basics\n",
    "import pandas as pd\n",
    "import numpy as np\n",
    "\n",
    "# utils\n",
    "from sklearn.model_selection import train_test_split\n",
    "from sklearn.model_selection import RandomizedSearchCV\n",
    "from sklearn.metrics import roc_curve\n",
    "from deepchecks.tabular import Dataset\n",
    "from deepchecks.tabular.suites import full_suite\n",
    "import shap\n",
    "from collections import Counter\n",
    "from tqdm import tqdm\n",
    "import time\n",
    "import pickle\n",
    "\n",
    "# Models\n",
    "import xgboost as xgb\n",
    "from sklearn.linear_model import LogisticRegression\n",
    "from sklearn.ensemble import RandomForestClassifier\n",
    "from sklearn.ensemble import AdaBoostClassifier\n",
    "from sklearn.decomposition import PCA\n",
    "\n",
    "# Plotting\n",
    "import seaborn as sns\n",
    "import matplotlib.pyplot as plt"
   ]
  },
  {
   "attachments": {},
   "cell_type": "markdown",
   "metadata": {},
   "source": [
    "# Read Data"
   ]
  },
  {
   "cell_type": "code",
   "execution_count": 2,
   "metadata": {},
   "outputs": [],
   "source": [
    "train_data_path = \"data/processed/sample_train.csv\"\n",
    "test_data_path = \"data/processed/sample_test.csv\"\n",
    "vt_train_data_path = \"data/virustotal/train_vt_data.csv\"\n",
    "vt_test_data_path = \"data/virustotal/test_vt_data.csv\""
   ]
  },
  {
   "cell_type": "code",
   "execution_count": 3,
   "metadata": {},
   "outputs": [
    {
     "name": "stderr",
     "output_type": "stream",
     "text": [
      "Columns (4) have mixed types. Specify dtype option on import or set low_memory=False.\n",
      "Columns (4) have mixed types. Specify dtype option on import or set low_memory=False.\n"
     ]
    }
   ],
   "source": [
    "raw_train = pd.read_csv(train_data_path)\n",
    "raw_test = pd.read_csv(test_data_path)\n",
    "vt_train_df = pd.read_csv(vt_train_data_path)\n",
    "vt_test_df = pd.read_csv(vt_test_data_path)"
   ]
  },
  {
   "cell_type": "code",
   "execution_count": 4,
   "metadata": {},
   "outputs": [
    {
     "data": {
      "text/plain": [
       "Index(['sha256', 'md5', 'appeared', 'label', 'avclass', 'size', 'vsize',\n",
       "       'has_debug', 'exports', 'imports', 'has_relocations', 'has_resources',\n",
       "       'has_signature', 'has_tls', 'symbols', 'numstrings', 'avlength',\n",
       "       'printables', 'entropy', 'paths', 'urls', 'registry', 'MZ'],\n",
       "      dtype='object')"
      ]
     },
     "execution_count": 4,
     "metadata": {},
     "output_type": "execute_result"
    }
   ],
   "source": [
    "raw_train.columns"
   ]
  },
  {
   "attachments": {},
   "cell_type": "markdown",
   "metadata": {},
   "source": [
    "# Feature Engineering"
   ]
  },
  {
   "cell_type": "code",
   "execution_count": 5,
   "metadata": {},
   "outputs": [],
   "source": [
    "def feature_engineering(input_df, feature_cols_lst,mode='train'):\n",
    "    df = input_df.copy()\n",
    "    df['has_debug_relocations_resources_signature']=df['has_debug']*df['has_relocations']*df['has_resources']*df['has_signature']\n",
    "    # set hash as index and extract feature cols\n",
    "    df.set_index('sha256', inplace=True)\n",
    "    df = df[feature_cols_lst + ['label']]\n",
    "    if mode == 'train':\n",
    "        # drop duplicates\n",
    "        df.drop_duplicates(inplace=True)\n",
    "    return df"
   ]
  },
  {
   "cell_type": "code",
   "execution_count": 6,
   "metadata": {},
   "outputs": [],
   "source": [
    "feature_cols = ['size', 'vsize',\n",
    "                'exports', 'imports',\n",
    "                'has_tls', 'symbols',\n",
    "                'avlength',\n",
    "                'printables', 'entropy', 'paths', 'urls',\n",
    "                'registry',\n",
    "                'has_debug_relocations_resources_signature']\n",
    "\n",
    "correlated_cols = ['numstrings', 'MZ'] # we came to the conclusion that we wont use these columns"
   ]
  },
  {
   "cell_type": "code",
   "execution_count": 7,
   "metadata": {},
   "outputs": [],
   "source": [
    "df_train = feature_engineering(raw_train, feature_cols)\n",
    "df_test = feature_engineering(raw_test, feature_cols, mode = 'test')"
   ]
  },
  {
   "cell_type": "code",
   "execution_count": 8,
   "metadata": {},
   "outputs": [
    {
     "name": "stdout",
     "output_type": "stream",
     "text": [
      "train original shape: (160000, 23)\n",
      "train shape after preprocess: (147776, 14)\n",
      "test shape: (120000, 14)\n"
     ]
    }
   ],
   "source": [
    "print(f\"train original shape: {raw_train.shape}\")\n",
    "print(f\"train shape after preprocess: {df_train.shape}\")\n",
    "print(f\"test shape: {df_test.shape}\")"
   ]
  },
  {
   "attachments": {},
   "cell_type": "markdown",
   "metadata": {},
   "source": [
    "# Dimensionality Reduction"
   ]
  },
  {
   "cell_type": "code",
   "execution_count": 9,
   "metadata": {},
   "outputs": [],
   "source": [
    "X = df_train[feature_cols].values\n",
    "y = df_train['label'].values"
   ]
  },
  {
   "cell_type": "code",
   "execution_count": 10,
   "metadata": {
    "collapsed": false
   },
   "outputs": [
    {
     "data": {
      "image/png": "[encoded data removed]",
      "text/plain": [
       "<Figure size 432x288 with 1 Axes>"
      ]
     },
     "metadata": {
      "needs_background": "light"
     },
     "output_type": "display_data"
    }
   ],
   "source": [
    "# perform PCA\n",
    "pca = PCA()\n",
    "pca.fit(X)\n",
    "data_pca = pca.transform(X)\n",
    "# plot the results\n",
    "plt.scatter(data_pca[:, 0], data_pca[:, 1], c=df_train['label'])\n",
    "plt.show()"
   ]
  },
  {
   "cell_type": "code",
   "execution_count": 13,
   "metadata": {},
   "outputs": [
    {
     "data": {
      "image/png": "[encoded data removed]",
      "text/plain": [
       "<Figure size 432x288 with 1 Axes>"
      ]
     },
     "metadata": {},
     "output_type": "display_data"
    }
   ],
   "source": [
    "# plot pca cummulative explained variance\n",
    "var_cumsum = np.cumsum(pca.explained_variance_ratio_)\n",
    "plt.plot(var_cumsum)\n",
    "plt.scatter(x=range(var_cumsum.shape[0]), y = var_cumsum)\n",
    "plt.xlabel('number of components')\n",
    "plt.ylabel('cumulative explained variance')\n",
    "plt.show()"
   ]
  },
  {
   "attachments": {},
   "cell_type": "markdown",
   "metadata": {},
   "source": [
    "# Hyper Paramater Tuning"
   ]
  },
  {
   "cell_type": "code",
   "execution_count": 27,
   "metadata": {},
   "outputs": [],
   "source": [
    "# our models\n",
    "model_dic = {\n",
    "    'baseline' : LogisticRegression,\n",
    "    'xgboost' : xgb.XGBClassifier,\n",
    "    'random_forest' : RandomForestClassifier,\n",
    "    'adaboost' : AdaBoostClassifier\n",
    "}\n",
    "\n",
    "hp_dic = {\n",
    "    'baseline' : {'C': [0.1,1,10]},\n",
    "    'xgboost' : {\n",
    "        'max_depth': [3,4,5],\n",
    "        'learning_rate': [0.05,0.1,0.3],\n",
    "        'n_estimators': [50, 100, 200, 300],\n",
    "        'gamma': [0, 0.5, 1]\n",
    "        },\n",
    "\n",
    "    'random_forest' : {\n",
    "        'n_estimators': [50, 100, 200, 300],\n",
    "        'max_depth': [3, 4, 5],\n",
    "        'min_samples_split': [2, 3, 20], \n",
    "        'min_samples_leaf': [1, 2, 10], \n",
    "    },\n",
    "    'adaboost' : {\n",
    "        'n_estimators': [50, 100, 200, 300],\n",
    "        'learning_rate': [0.01,0.05,0.1,0.3],\n",
    "    }\n",
    "}"
   ]
  },
  {
   "cell_type": "code",
   "execution_count": 28,
   "metadata": {},
   "outputs": [],
   "source": [
    "def get_best_params(models_dic,hp_dic):\n",
    "    \"\"\"\n",
    "    find the best paramaters given models and hyper paramters to search\n",
    "    models_dic: dictionary of models\n",
    "    hp_dic: dictionary of hyper parameters\n",
    "    \"\"\"\n",
    "    best_params_dic = {}\n",
    "    for model in models_dic.keys():\n",
    "        print(f\"starting grid search for {model}\")\n",
    "        start = time.time()\n",
    "        clf = models_dic[model]()\n",
    "        clf = RandomizedSearchCV(clf, hp_dic[model], cv=3, scoring='roc_auc', n_jobs=-1)\n",
    "        clf.fit(X, y)\n",
    "        best_params_dic[model] = clf.best_params_\n",
    "        print(f\"finished grid search for {model} in {round(time.time() - start,2)} seconds\")\n",
    "    return best_params_dic"
   ]
  },
  {
   "cell_type": "code",
   "execution_count": 29,
   "metadata": {},
   "outputs": [
    {
     "name": "stdout",
     "output_type": "stream",
     "text": [
      "starting grid search for baseline\n"
     ]
    },
    {
     "name": "stderr",
     "output_type": "stream",
     "text": [
      "The total space of parameters 3 is smaller than n_iter=10. Running 3 iterations. For exhaustive searches, use GridSearchCV.\n"
     ]
    },
    {
     "name": "stdout",
     "output_type": "stream",
     "text": [
      "finished grid search for baseline in 4.17 seconds\n",
      "starting grid search for xgboost\n",
      "finished grid search for xgboost in 69.17 seconds\n",
      "starting grid search for random_forest\n",
      "finished grid search for random_forest in 52.7 seconds\n",
      "starting grid search for adaboost\n",
      "finished grid search for adaboost in 111.08 seconds\n"
     ]
    }
   ],
   "source": [
    "try:\n",
    "    with open('data/model_results/best_params_dic.pkl', 'rb') as f:\n",
    "        best_params_dic = pickle.load(f)\n",
    "except:\n",
    "    best_params_dic = get_best_params(model_dic,hp_dic)\n",
    "    with open('data/model_results/best_params_dic.pkl', 'wb') as f:\n",
    "        pickle.dump(best_params_dic, f)"
   ]
  },
  {
   "cell_type": "code",
   "execution_count": 27,
   "metadata": {},
   "outputs": [],
   "source": [
    "# train the model\n",
    "X_train = df_train[feature_cols]\n",
    "y_train = df_train['label']\n",
    "# xgb_model = xgb.XGBClassifier()\n",
    "# xgb_model.fit(X_train, y_train)"
   ]
  },
  {
   "cell_type": "code",
   "execution_count": 12,
   "metadata": {},
   "outputs": [],
   "source": [
    "# define the dataset\n",
    "dc_train = Dataset(df_train, label = 'label', cat_features= [])\n",
    "dc_test = Dataset(df_test, label = 'label', cat_features= [])\n",
    "# define checks object\n",
    "suite = full_suite()"
   ]
  },
  {
   "cell_type": "code",
   "execution_count": 13,
   "metadata": {},
   "outputs": [],
   "source": [
    "# suite.run(train_dataset = dc_train, test_dataset = dc_test, model = xgb_model)"
   ]
  },
  {
   "cell_type": "code",
   "execution_count": 14,
   "metadata": {},
   "outputs": [
    {
     "name": "stderr",
     "output_type": "stream",
     "text": [
      "invalid value encountered in longlong_scalars\n"
     ]
    },
    {
     "data": {
      "image/png": "[encoded data removed]",
      "text/plain": [
       "<Figure size 720x720 with 1 Axes>"
      ]
     },
     "metadata": {
      "needs_background": "light"
     },
     "output_type": "display_data"
    }
   ],
   "source": [
    "# get precision and recall at different thresholds\n",
    "def get_precision_recall(y_true, y_pred, threshold):\n",
    "    y_pred = (y_pred > threshold).astype(int)\n",
    "    tp = np.sum((y_pred == 1) & (y_true == 1))\n",
    "    fp = np.sum((y_pred == 1) & (y_true == 0))\n",
    "    fn = np.sum((y_pred == 0) & (y_true == 1))\n",
    "    tn = np.sum((y_pred == 0) & (y_true == 0))\n",
    "    precision = tp / (tp + fp)\n",
    "    recall = tp / (tp + fn)\n",
    "    return precision, recall\n",
    "\n",
    "# get the predictions\n",
    "y_pred = xgb_model.predict_proba(df_test[feature_cols])[:, 1]\n",
    "# get the precision and recall at different thresholds\n",
    "thresholds = np.linspace(0, 1, 100)\n",
    "precisions = []\n",
    "recalls = []\n",
    "for threshold in thresholds:\n",
    "    precision, recall = get_precision_recall(df_test['label'], y_pred, threshold)\n",
    "    precisions.append(precision)\n",
    "    recalls.append(recall)\n",
    "# plot the results\n",
    "plt.figure(figsize=(10, 10))\n",
    "plt.plot(thresholds, precisions, label='precision')\n",
    "plt.plot(thresholds, recalls, label='recall')\n",
    "plt.legend()\n",
    "plt.xlabel('threshold')\n",
    "plt.ylabel('score')\n",
    "plt.title('Precision and Recall at different thresholds')\n",
    "plt.show()\n"
   ]
  },
  {
   "cell_type": "code",
   "execution_count": 15,
   "metadata": {},
   "outputs": [
    {
     "name": "stdout",
     "output_type": "stream",
     "text": [
      "TPR at FPR = 0.1: 0.87435\n"
     ]
    }
   ],
   "source": [
    "# calc tpr at fpr = 0.1\n",
    "y_pred = xgb_model.predict_proba(df_test[feature_cols])[:, 1]\n",
    "fpr, tpr, thresholds = roc_curve(df_test['label'], y_pred)\n",
    "# find the threshold that gives fpr = 0.001\n",
    "wanted_fpr = 0.1\n",
    "idx = np.argmin(np.abs(fpr - wanted_fpr))\n",
    "wanted_tpr = tpr[idx]\n",
    "print(f'TPR at FPR = {wanted_fpr}: {wanted_tpr}')"
   ]
  },
  {
   "cell_type": "code",
   "execution_count": 16,
   "metadata": {},
   "outputs": [
    {
     "data": {
      "image/png": "[encoded data removed]",
      "text/plain": [
       "<Figure size 504x360 with 1 Axes>"
      ]
     },
     "metadata": {
      "needs_background": "light"
     },
     "output_type": "display_data"
    }
   ],
   "source": [
    "# plot the results\n",
    "plt.figure(figsize=(7, 5))\n",
    "plt.plot(recalls, precisions, label='precision')\n",
    "plt.legend()\n",
    "plt.xlabel('recall')\n",
    "plt.ylabel('precision')\n",
    "plt.title('Precision and Recall at different thresholds')\n",
    "plt.show()\n"
   ]
  },
  {
   "cell_type": "code",
   "execution_count": 17,
   "metadata": {},
   "outputs": [],
   "source": [
    "# s_data = shap.maskers.Independent(X_train)"
   ]
  },
  {
   "cell_type": "code",
   "execution_count": 18,
   "metadata": {},
   "outputs": [],
   "source": [
    "# plot shap values\n",
    "# explainer = shap.Explainer(xgb_model, X_train.iloc[:1000])\n",
    "# shap_values = explainer(X_train.iloc[:1000])"
   ]
  },
  {
   "cell_type": "code",
   "execution_count": 19,
   "metadata": {},
   "outputs": [],
   "source": [
    "# shap.plots.beeswarm(shap_values)"
   ]
  },
  {
   "attachments": {},
   "cell_type": "markdown",
   "metadata": {},
   "source": [
    "# Extract Results"
   ]
  },
  {
   "cell_type": "code",
   "execution_count": 20,
   "metadata": {},
   "outputs": [],
   "source": [
    "# get predictions probabilities\n",
    "y_test_pred = xgb_model.predict_proba(df_test[feature_cols])[:, 1]\n",
    "y_train_pred = xgb_model.predict_proba(df_train[feature_cols])[:, 1]\n",
    "# save to dataframes\n",
    "df_test['pred'] = y_test_pred\n",
    "df_train['pred'] = y_train_pred"
   ]
  },
  {
   "cell_type": "code",
   "execution_count": 31,
   "metadata": {},
   "outputs": [],
   "source": [
    "# create results dataframe\n",
    "train_results = df_train[['pred', 'label']]\n",
    "test_results = df_test[['pred', 'label']]\n",
    "# merge with vt_df\n",
    "train_results = train_results.merge(vt_train_df, left_index=True, right_on='sha256',how='left')\n",
    "test_results = test_results.merge(vt_test_df, left_index=True, right_on='sha256', how='left')"
   ]
  },
  {
   "cell_type": "code",
   "execution_count": 33,
   "metadata": {},
   "outputs": [
    {
     "data": {
      "text/plain": [
       "(120000, 7)"
      ]
     },
     "execution_count": 33,
     "metadata": {},
     "output_type": "execute_result"
    }
   ],
   "source": [
    "test_results.shape"
   ]
  },
  {
   "cell_type": "code",
   "execution_count": 35,
   "metadata": {},
   "outputs": [],
   "source": [
    "train_results = train_results[['sha256', 'pred', 'label', 'num_undetected', 'num_malicious']]\n",
    "test_results = test_results[['sha256', 'pred', 'label', 'num_undetected', 'num_malicious']]\n",
    "train_results.to_csv('data/results/train_results.csv', index=False)\n",
    "test_results.to_csv('data/results/test_results.csv', index=False)"
   ]
  }
 ],
 "metadata": {
  "kernelspec": {
   "display_name": "base",
   "language": "python",
   "name": "python3"
  },
  "language_info": {
   "codemirror_mode": {
    "name": "ipython",
    "version": 3
   },
   "file_extension": ".py",
   "mimetype": "text/x-python",
   "name": "python",
   "nbconvert_exporter": "python",
   "pygments_lexer": "ipython3",
   "version": "3.8.8"
  },
  "orig_nbformat": 4,
  "vscode": {
   "interpreter": {
    "hash": "d0d24260c26781aab6a6247b3ae992ece4f26fd75ea3713b7a84756a27d5e272"
   }
  }
 },
 "nbformat": 4,
 "nbformat_minor": 2
}
