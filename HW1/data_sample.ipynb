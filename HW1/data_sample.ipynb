{
 "cells": [
  {
   "cell_type": "code",
   "execution_count": 2,
   "metadata": {},
   "outputs": [],
   "source": [
    "import pandas as pd\n",
    "import numpy as np"
   ]
  },
  {
   "cell_type": "code",
   "execution_count": 36,
   "metadata": {},
   "outputs": [
    {
     "data": {
      "text/plain": [
       " 1    300000\n",
       " 0    250000\n",
       "-1    200000\n",
       "Name: label, dtype: int64"
      ]
     },
     "execution_count": 36,
     "metadata": {},
     "output_type": "execute_result"
    }
   ],
   "source": [
    "data = pd.read_parquet('data/processed/train.parquet')\n",
    "data['label'].value_counts()"
   ]
  },
  {
   "cell_type": "code",
   "execution_count": 37,
   "metadata": {},
   "outputs": [
    {
     "data": {
      "text/plain": [
       " 1    396433\n",
       " 0    250000\n",
       "-1    103567\n",
       "Name: label, dtype: int64"
      ]
     },
     "execution_count": 37,
     "metadata": {},
     "output_type": "execute_result"
    }
   ],
   "source": [
    "# fill malware class with malicious, where avclass is available\n",
    "data.loc[(data['avclass']!='') & (data['label']==-1),'label'] = 1\n",
    "data['label'].value_counts()"
   ]
  },
  {
   "cell_type": "code",
   "execution_count": 38,
   "metadata": {},
   "outputs": [],
   "source": [
    "malware_df = data[data['label']==1]\n",
    "malware_df.loc[malware_df['avclass']== '', 'avclass'] = 'unknown'"
   ]
  },
  {
   "cell_type": "code",
   "execution_count": 39,
   "metadata": {},
   "outputs": [
    {
     "data": {
      "text/plain": [
       "xtrat             22284\n",
       "installmonster    21864\n",
       "zusy              18597\n",
       "vtflooder         16132\n",
       "zbot              14363\n",
       "                  ...  \n",
       "killnotes             1\n",
       "bagif                 1\n",
       "magnat                1\n",
       "ciyaamgnrsg           1\n",
       "predatorthief         1\n",
       "Name: avclass, Length: 3069, dtype: int64"
      ]
     },
     "execution_count": 39,
     "metadata": {},
     "output_type": "execute_result"
    }
   ],
   "source": [
    "malware_df['avclass'].value_counts()"
   ]
  },
  {
   "cell_type": "code",
   "execution_count": 29,
   "metadata": {},
   "outputs": [
    {
     "name": "stderr",
     "output_type": "stream",
     "text": [
      "C:\\Users\\ilanv\\AppData\\Local\\Temp/ipykernel_29132/2077531002.py:5: SettingWithCopyWarning: \n",
      "A value is trying to be set on a copy of a slice from a DataFrame.\n",
      "Try using .loc[row_indexer,col_indexer] = value instead\n",
      "\n",
      "See the caveats in the documentation: https://pandas.pydata.org/pandas-docs/stable/user_guide/indexing.html#returning-a-view-versus-a-copy\n",
      "  malware_df.loc[:,'avclass'] = malware_df['avclass'].apply(lambda x: x if x in top_avclasses else 'other')\n"
     ]
    },
    {
     "data": {
      "text/plain": [
       "other             220086\n",
       "xtrat              22284\n",
       "installmonster     21864\n",
       "zusy               18597\n",
       "vtflooder          16132\n",
       "zbot               14363\n",
       "fareit             13701\n",
       "ramnit             13679\n",
       "sality             12700\n",
       "adposhel           11375\n",
       "unknown            10754\n",
       "emotet             10720\n",
       "high               10178\n",
       "Name: avclass, dtype: int64"
      ]
     },
     "execution_count": 29,
     "metadata": {},
     "output_type": "execute_result"
    }
   ],
   "source": [
    "\n",
    "# get avlcasses with more than 10,000 samples\n",
    "top_avclasses = malware_df['avclass'].value_counts()\n",
    "top_avclasses = top_avclasses[top_avclasses>10000]\n",
    "# change all other avclasses to 'other'\n",
    "malware_df.loc[:,'avclass'] = malware_df['avclass'].apply(lambda x: x if x in top_avclasses else 'other')\n",
    "malware_df['avclass'].value_counts()"
   ]
  },
  {
   "cell_type": "code",
   "execution_count": 23,
   "metadata": {},
   "outputs": [
    {
     "data": {
      "text/html": [
       "<div>\n",
       "<style scoped>\n",
       "    .dataframe tbody tr th:only-of-type {\n",
       "        vertical-align: middle;\n",
       "    }\n",
       "\n",
       "    .dataframe tbody tr th {\n",
       "        vertical-align: top;\n",
       "    }\n",
       "\n",
       "    .dataframe thead th {\n",
       "        text-align: right;\n",
       "    }\n",
       "</style>\n",
       "<table border=\"1\" class=\"dataframe\">\n",
       "  <thead>\n",
       "    <tr style=\"text-align: right;\">\n",
       "      <th></th>\n",
       "      <th>sha256</th>\n",
       "      <th>md5</th>\n",
       "      <th>appeared</th>\n",
       "      <th>label</th>\n",
       "      <th>avclass</th>\n",
       "      <th>size</th>\n",
       "      <th>vsize</th>\n",
       "      <th>has_debug</th>\n",
       "      <th>exports</th>\n",
       "      <th>imports</th>\n",
       "      <th>...</th>\n",
       "      <th>has_tls</th>\n",
       "      <th>symbols</th>\n",
       "      <th>numstrings</th>\n",
       "      <th>avlength</th>\n",
       "      <th>printables</th>\n",
       "      <th>entropy</th>\n",
       "      <th>paths</th>\n",
       "      <th>urls</th>\n",
       "      <th>registry</th>\n",
       "      <th>MZ</th>\n",
       "    </tr>\n",
       "  </thead>\n",
       "  <tbody>\n",
       "    <tr>\n",
       "      <th>4445</th>\n",
       "      <td>054af4c048ba0543e3a6d92fc9ff12b2bd576e218da3a2...</td>\n",
       "      <td>88beacae36d147ac22b792392de6b62b</td>\n",
       "      <td>2018-01</td>\n",
       "      <td>1</td>\n",
       "      <td>adposhel</td>\n",
       "      <td>1790976</td>\n",
       "      <td>1810432</td>\n",
       "      <td>0</td>\n",
       "      <td>0</td>\n",
       "      <td>189</td>\n",
       "      <td>...</td>\n",
       "      <td>1</td>\n",
       "      <td>0</td>\n",
       "      <td>4019</td>\n",
       "      <td>7.757402</td>\n",
       "      <td>31177</td>\n",
       "      <td>6.399078</td>\n",
       "      <td>0</td>\n",
       "      <td>0</td>\n",
       "      <td>0</td>\n",
       "      <td>11</td>\n",
       "    </tr>\n",
       "    <tr>\n",
       "      <th>76037</th>\n",
       "      <td>32d12d801ead04cbf83e64e0ab5b6520cc11ec145b3939...</td>\n",
       "      <td>3f26757f25fc2c4422d6365ad47b7fc2</td>\n",
       "      <td>2018-04</td>\n",
       "      <td>1</td>\n",
       "      <td>adposhel</td>\n",
       "      <td>1117184</td>\n",
       "      <td>1130496</td>\n",
       "      <td>1</td>\n",
       "      <td>0</td>\n",
       "      <td>209</td>\n",
       "      <td>...</td>\n",
       "      <td>0</td>\n",
       "      <td>0</td>\n",
       "      <td>1084</td>\n",
       "      <td>8.457565</td>\n",
       "      <td>9168</td>\n",
       "      <td>6.257506</td>\n",
       "      <td>0</td>\n",
       "      <td>0</td>\n",
       "      <td>0</td>\n",
       "      <td>4</td>\n",
       "    </tr>\n",
       "    <tr>\n",
       "      <th>91675</th>\n",
       "      <td>6c2220de78d4264db38484ec5007da738555e4bbd0a621...</td>\n",
       "      <td>644603d2778c85f1ea3bc700abf3178c</td>\n",
       "      <td>2018-04</td>\n",
       "      <td>1</td>\n",
       "      <td>adposhel</td>\n",
       "      <td>1117184</td>\n",
       "      <td>1130496</td>\n",
       "      <td>1</td>\n",
       "      <td>0</td>\n",
       "      <td>209</td>\n",
       "      <td>...</td>\n",
       "      <td>0</td>\n",
       "      <td>0</td>\n",
       "      <td>1089</td>\n",
       "      <td>8.417815</td>\n",
       "      <td>9167</td>\n",
       "      <td>6.253843</td>\n",
       "      <td>0</td>\n",
       "      <td>0</td>\n",
       "      <td>0</td>\n",
       "      <td>6</td>\n",
       "    </tr>\n",
       "  </tbody>\n",
       "</table>\n",
       "<p>3 rows × 23 columns</p>\n",
       "</div>"
      ],
      "text/plain": [
       "                                                  sha256  \\\n",
       "4445   054af4c048ba0543e3a6d92fc9ff12b2bd576e218da3a2...   \n",
       "76037  32d12d801ead04cbf83e64e0ab5b6520cc11ec145b3939...   \n",
       "91675  6c2220de78d4264db38484ec5007da738555e4bbd0a621...   \n",
       "\n",
       "                                    md5 appeared  label   avclass     size  \\\n",
       "4445   88beacae36d147ac22b792392de6b62b  2018-01      1  adposhel  1790976   \n",
       "76037  3f26757f25fc2c4422d6365ad47b7fc2  2018-04      1  adposhel  1117184   \n",
       "91675  644603d2778c85f1ea3bc700abf3178c  2018-04      1  adposhel  1117184   \n",
       "\n",
       "         vsize  has_debug  exports  imports  ...  has_tls  symbols  \\\n",
       "4445   1810432          0        0      189  ...        1        0   \n",
       "76037  1130496          1        0      209  ...        0        0   \n",
       "91675  1130496          1        0      209  ...        0        0   \n",
       "\n",
       "       numstrings  avlength  printables   entropy  paths  urls  registry  MZ  \n",
       "4445         4019  7.757402       31177  6.399078      0     0         0  11  \n",
       "76037        1084  8.457565        9168  6.257506      0     0         0   4  \n",
       "91675        1089  8.417815        9167  6.253843      0     0         0   6  \n",
       "\n",
       "[3 rows x 23 columns]"
      ]
     },
     "execution_count": 23,
     "metadata": {},
     "output_type": "execute_result"
    }
   ],
   "source": [
    "NUM_OF_SAMPLES = 80000\n",
    "NUM_OF_OTHER = 20000\n",
    "FRAC_OF_AVCLASS = (NUM_OF_SAMPLES - NUM_OF_OTHER) / malware_df[malware_df.avclass!='other'].shape[0]\n",
    "# get random samples of malicios samples, sampling by avclass\n",
    "# get 20000 samples of other\n",
    "\n",
    "other_samples = malware_df[malware_df.avclass=='other'].sample(NUM_OF_OTHER)\n",
    "sampled_avc_df = malware_df[malware_df.avclass!='other'].groupby('avclass').sample(frac=FRAC_OF_AVCLASS, random_state=42)\n",
    "# concat the samples\n",
    "sampled_malware_df = pd.concat([sampled_avc_df, other_samples])\n",
    "# sample random benign samples\n",
    "benign_df = data[data['label']==0].sample(NUM_OF_SAMPLES)\n",
    "# concat the samples\n",
    "sampled_df = pd.concat([sampled_malware_df, benign_df])\n",
    "sampled_df.head(3)"
   ]
  },
  {
   "cell_type": "code",
   "execution_count": 19,
   "metadata": {},
   "outputs": [],
   "source": [
    "sampled_df.to_csv('data/processed/sample_train.csv', index=False)"
   ]
  },
  {
   "attachments": {},
   "cell_type": "markdown",
   "metadata": {},
   "source": [
    "# Test Sampling"
   ]
  },
  {
   "cell_type": "code",
   "execution_count": 21,
   "metadata": {},
   "outputs": [
    {
     "data": {
      "text/plain": [
       "1    100000\n",
       "0    100000\n",
       "Name: label, dtype: int64"
      ]
     },
     "execution_count": 21,
     "metadata": {},
     "output_type": "execute_result"
    }
   ],
   "source": [
    "test_df = pd.read_parquet('data/processed/test.parquet')\n",
    "test_df.label.value_counts()"
   ]
  },
  {
   "cell_type": "code",
   "execution_count": 24,
   "metadata": {},
   "outputs": [
    {
     "data": {
      "text/plain": [
       "0    100000\n",
       "1     20000\n",
       "Name: label, dtype: int64"
      ]
     },
     "execution_count": 24,
     "metadata": {},
     "output_type": "execute_result"
    }
   ],
   "source": [
    "test_df_benign = test_df[test_df.label==0]\n",
    "test_df_malware = test_df[test_df.label==1].sample(20000)\n",
    "test_df_sampled = pd.concat([test_df_benign, test_df_malware])\n",
    "test_df_sampled.label.value_counts()"
   ]
  },
  {
   "cell_type": "code",
   "execution_count": 25,
   "metadata": {},
   "outputs": [],
   "source": [
    "test_df_sampled.to_csv('data/processed/sample_test.csv', index=False)"
   ]
  },
  {
   "cell_type": "code",
   "execution_count": 42,
   "metadata": {},
   "outputs": [
    {
     "data": {
      "text/plain": [
       "sha256             163ced46c18ef09d8e2f0ee4b16decf74a533f22ba3b59...\n",
       "md5                                 c747678f13ec94deffeab0c44481a988\n",
       "appeared                                                     2018-11\n",
       "label                                                              1\n",
       "avclass                                                        xtrat\n",
       "size                                                          966594\n",
       "vsize                                                        2072576\n",
       "has_debug                                                          0\n",
       "exports                                                            0\n",
       "imports                                                            2\n",
       "has_relocations                                                    0\n",
       "has_resources                                                      1\n",
       "has_signature                                                      0\n",
       "has_tls                                                            0\n",
       "symbols                                                            0\n",
       "numstrings                                                      4029\n",
       "avlength                                                      5.7034\n",
       "printables                                                     22979\n",
       "entropy                                                     6.554719\n",
       "paths                                                              0\n",
       "urls                                                               0\n",
       "registry                                                           0\n",
       "MZ                                                                14\n",
       "Name: 0, dtype: object"
      ]
     },
     "execution_count": 42,
     "metadata": {},
     "output_type": "execute_result"
    }
   ],
   "source": [
    "test_df.iloc[0]"
   ]
  }
 ],
 "metadata": {
  "kernelspec": {
   "display_name": "base",
   "language": "python",
   "name": "python3"
  },
  "language_info": {
   "codemirror_mode": {
    "name": "ipython",
    "version": 3
   },
   "file_extension": ".py",
   "mimetype": "text/x-python",
   "name": "python",
   "nbconvert_exporter": "python",
   "pygments_lexer": "ipython3",
   "version": "3.8.8 (default, Apr 13 2021, 15:08:03) [MSC v.1916 64 bit (AMD64)]"
  },
  "orig_nbformat": 4,
  "vscode": {
   "interpreter": {
    "hash": "d0d24260c26781aab6a6247b3ae992ece4f26fd75ea3713b7a84756a27d5e272"
   }
  }
 },
 "nbformat": 4,
 "nbformat_minor": 2
}
