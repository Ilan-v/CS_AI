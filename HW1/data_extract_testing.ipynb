{
 "cells": [
  {
   "cell_type": "code",
   "execution_count": 37,
   "metadata": {},
   "outputs": [],
   "source": [
    "import pandas as pd\n",
    "import numpy as np\n",
    "import matplotlib.pyplot as plt\n",
    "import plotly.express as px\n",
    "import seaborn as sns\n",
    "import scipy.stats as stats"
   ]
  },
  {
   "cell_type": "code",
   "execution_count": 2,
   "metadata": {},
   "outputs": [],
   "source": [
    "data_dir = 'data/'"
   ]
  },
  {
   "cell_type": "code",
   "execution_count": 3,
   "metadata": {},
   "outputs": [],
   "source": [
    "df = pd.read_json(f'{data_dir}/train_features_1.jsonl',lines=True)"
   ]
  },
  {
   "cell_type": "code",
   "execution_count": 5,
   "metadata": {},
   "outputs": [
    {
     "data": {
      "text/html": [
       "<div>\n",
       "<style scoped>\n",
       "    .dataframe tbody tr th:only-of-type {\n",
       "        vertical-align: middle;\n",
       "    }\n",
       "\n",
       "    .dataframe tbody tr th {\n",
       "        vertical-align: top;\n",
       "    }\n",
       "\n",
       "    .dataframe thead th {\n",
       "        text-align: right;\n",
       "    }\n",
       "</style>\n",
       "<table border=\"1\" class=\"dataframe\">\n",
       "  <thead>\n",
       "    <tr style=\"text-align: right;\">\n",
       "      <th></th>\n",
       "      <th>sha256</th>\n",
       "      <th>md5</th>\n",
       "      <th>appeared</th>\n",
       "      <th>label</th>\n",
       "      <th>avclass</th>\n",
       "      <th>histogram</th>\n",
       "      <th>byteentropy</th>\n",
       "      <th>strings</th>\n",
       "      <th>general</th>\n",
       "      <th>header</th>\n",
       "      <th>section</th>\n",
       "      <th>imports</th>\n",
       "      <th>exports</th>\n",
       "      <th>datadirectories</th>\n",
       "    </tr>\n",
       "  </thead>\n",
       "  <tbody>\n",
       "    <tr>\n",
       "      <th>0</th>\n",
       "      <td>2ef9a92ee6c955364564b0df75ee3753473014b2ba162b...</td>\n",
       "      <td>7e39aeea7bc21d16b8652516a150b282</td>\n",
       "      <td>2018-01</td>\n",
       "      <td>1</td>\n",
       "      <td>sivis</td>\n",
       "      <td>[60782, 5895, 2020, 1487, 2075, 1367, 1145, 85...</td>\n",
       "      <td>[24434, 11, 18, 5, 9, 8, 35, 21, 3, 4, 8, 4, 2...</td>\n",
       "      <td>{'numstrings': 3863, 'avlength': 17.6435412891...</td>\n",
       "      <td>{'size': 349811, 'vsize': 28672, 'has_debug': ...</td>\n",
       "      <td>{'coff': {'timestamp': 1301832471, 'machine': ...</td>\n",
       "      <td>{'entry': '.code', 'sections': [{'name': '.cod...</td>\n",
       "      <td>{'MSVCRT.dll': ['memset', 'memcpy', '_stricmp'...</td>\n",
       "      <td>[]</td>\n",
       "      <td>[{'name': 'EXPORT_TABLE', 'size': 0, 'virtual_...</td>\n",
       "    </tr>\n",
       "    <tr>\n",
       "      <th>1</th>\n",
       "      <td>50f3f85a10cedf9192f7aa4cd4d2b1ce9e294e23f3dd7e...</td>\n",
       "      <td>09435239e7a0ddfeb78820cf5c31cc06</td>\n",
       "      <td>2018-01</td>\n",
       "      <td>-1</td>\n",
       "      <td>upatre</td>\n",
       "      <td>[11971, 74, 27, 147, 61, 61, 19, 27, 53, 34, 1...</td>\n",
       "      <td>[2006, 2, 3, 0, 4, 3, 3, 1, 9, 1, 3, 0, 1, 2, ...</td>\n",
       "      <td>{'numstrings': 82, 'avlength': 11.097560975609...</td>\n",
       "      <td>{'size': 33776, 'vsize': 36864, 'has_debug': 0...</td>\n",
       "      <td>{'coff': {'timestamp': 1401281511, 'machine': ...</td>\n",
       "      <td>{'entry': '.text', 'sections': [{'name': '.tex...</td>\n",
       "      <td>{'kernel32.dll': ['Sleep', 'VirtualAlloc', 'Si...</td>\n",
       "      <td>[]</td>\n",
       "      <td>[{'name': 'EXPORT_TABLE', 'size': 0, 'virtual_...</td>\n",
       "    </tr>\n",
       "    <tr>\n",
       "      <th>2</th>\n",
       "      <td>f6c68207b3b395feabcbb029c393607db4ff5227ecd5da...</td>\n",
       "      <td>744cac35cdfa2c3a0672184d433cb93e</td>\n",
       "      <td>2018-01</td>\n",
       "      <td>0</td>\n",
       "      <td></td>\n",
       "      <td>[35534, 3516, 1832, 870, 957, 596, 435, 501, 1...</td>\n",
       "      <td>[0, 0, 0, 0, 0, 0, 0, 0, 0, 0, 0, 0, 0, 0, 0, ...</td>\n",
       "      <td>{'numstrings': 1452, 'avlength': 15.4869146005...</td>\n",
       "      <td>{'size': 161280, 'vsize': 184320, 'has_debug':...</td>\n",
       "      <td>{'coff': {'timestamp': 1512336134, 'machine': ...</td>\n",
       "      <td>{'entry': '.text', 'sections': [{'name': '.tex...</td>\n",
       "      <td>{'WrldFlsh.exe': ['pszStatName', 'dbWeather1',...</td>\n",
       "      <td>[]</td>\n",
       "      <td>[{'name': 'EXPORT_TABLE', 'size': 0, 'virtual_...</td>\n",
       "    </tr>\n",
       "    <tr>\n",
       "      <th>3</th>\n",
       "      <td>3292ee48fac44b7b70bdfde526f71c09e65764d9b582f5...</td>\n",
       "      <td>b6d6f2dc5ef191e23dfc2892ff626168</td>\n",
       "      <td>2018-01</td>\n",
       "      <td>0</td>\n",
       "      <td></td>\n",
       "      <td>[3389, 100, 35, 9, 18, 7, 16, 12, 12, 7, 28, 6...</td>\n",
       "      <td>[0, 0, 0, 0, 0, 0, 0, 0, 0, 0, 0, 0, 0, 0, 0, ...</td>\n",
       "      <td>{'numstrings': 65, 'avlength': 20.030769230769...</td>\n",
       "      <td>{'size': 6144, 'vsize': 32768, 'has_debug': 0,...</td>\n",
       "      <td>{'coff': {'timestamp': 1499089577, 'machine': ...</td>\n",
       "      <td>{'entry': '.text', 'sections': [{'name': '.tex...</td>\n",
       "      <td>{'mscoree.dll': ['_CorExeMain']}</td>\n",
       "      <td>[]</td>\n",
       "      <td>[{'name': 'EXPORT_TABLE', 'size': 0, 'virtual_...</td>\n",
       "    </tr>\n",
       "    <tr>\n",
       "      <th>4</th>\n",
       "      <td>b9494c218b74a9774a88307ba83c03da0bee3a80899b47...</td>\n",
       "      <td>b6607d4123b0d3afdbca4bdc9a4bcf7a</td>\n",
       "      <td>2018-01</td>\n",
       "      <td>-1</td>\n",
       "      <td>startsurf</td>\n",
       "      <td>[256325, 3576, 3209, 3073, 3900, 2695, 2711, 2...</td>\n",
       "      <td>[329804, 0, 0, 0, 0, 0, 0, 0, 0, 0, 0, 0, 0, 0...</td>\n",
       "      <td>{'numstrings': 5970, 'avlength': 23.8986599664...</td>\n",
       "      <td>{'size': 1242112, 'vsize': 1265664, 'has_debug...</td>\n",
       "      <td>{'coff': {'timestamp': 1515165337, 'machine': ...</td>\n",
       "      <td>{'entry': '.text', 'sections': [{'name': '.tex...</td>\n",
       "      <td>{'KERNEL32.dll': ['CreateEventA', 'CloseHandle...</td>\n",
       "      <td>[]</td>\n",
       "      <td>[{'name': 'EXPORT_TABLE', 'size': 0, 'virtual_...</td>\n",
       "    </tr>\n",
       "  </tbody>\n",
       "</table>\n",
       "</div>"
      ],
      "text/plain": [
       "                                              sha256  \\\n",
       "0  2ef9a92ee6c955364564b0df75ee3753473014b2ba162b...   \n",
       "1  50f3f85a10cedf9192f7aa4cd4d2b1ce9e294e23f3dd7e...   \n",
       "2  f6c68207b3b395feabcbb029c393607db4ff5227ecd5da...   \n",
       "3  3292ee48fac44b7b70bdfde526f71c09e65764d9b582f5...   \n",
       "4  b9494c218b74a9774a88307ba83c03da0bee3a80899b47...   \n",
       "\n",
       "                                md5 appeared  label    avclass  \\\n",
       "0  7e39aeea7bc21d16b8652516a150b282  2018-01      1      sivis   \n",
       "1  09435239e7a0ddfeb78820cf5c31cc06  2018-01     -1     upatre   \n",
       "2  744cac35cdfa2c3a0672184d433cb93e  2018-01      0              \n",
       "3  b6d6f2dc5ef191e23dfc2892ff626168  2018-01      0              \n",
       "4  b6607d4123b0d3afdbca4bdc9a4bcf7a  2018-01     -1  startsurf   \n",
       "\n",
       "                                           histogram  \\\n",
       "0  [60782, 5895, 2020, 1487, 2075, 1367, 1145, 85...   \n",
       "1  [11971, 74, 27, 147, 61, 61, 19, 27, 53, 34, 1...   \n",
       "2  [35534, 3516, 1832, 870, 957, 596, 435, 501, 1...   \n",
       "3  [3389, 100, 35, 9, 18, 7, 16, 12, 12, 7, 28, 6...   \n",
       "4  [256325, 3576, 3209, 3073, 3900, 2695, 2711, 2...   \n",
       "\n",
       "                                         byteentropy  \\\n",
       "0  [24434, 11, 18, 5, 9, 8, 35, 21, 3, 4, 8, 4, 2...   \n",
       "1  [2006, 2, 3, 0, 4, 3, 3, 1, 9, 1, 3, 0, 1, 2, ...   \n",
       "2  [0, 0, 0, 0, 0, 0, 0, 0, 0, 0, 0, 0, 0, 0, 0, ...   \n",
       "3  [0, 0, 0, 0, 0, 0, 0, 0, 0, 0, 0, 0, 0, 0, 0, ...   \n",
       "4  [329804, 0, 0, 0, 0, 0, 0, 0, 0, 0, 0, 0, 0, 0...   \n",
       "\n",
       "                                             strings  \\\n",
       "0  {'numstrings': 3863, 'avlength': 17.6435412891...   \n",
       "1  {'numstrings': 82, 'avlength': 11.097560975609...   \n",
       "2  {'numstrings': 1452, 'avlength': 15.4869146005...   \n",
       "3  {'numstrings': 65, 'avlength': 20.030769230769...   \n",
       "4  {'numstrings': 5970, 'avlength': 23.8986599664...   \n",
       "\n",
       "                                             general  \\\n",
       "0  {'size': 349811, 'vsize': 28672, 'has_debug': ...   \n",
       "1  {'size': 33776, 'vsize': 36864, 'has_debug': 0...   \n",
       "2  {'size': 161280, 'vsize': 184320, 'has_debug':...   \n",
       "3  {'size': 6144, 'vsize': 32768, 'has_debug': 0,...   \n",
       "4  {'size': 1242112, 'vsize': 1265664, 'has_debug...   \n",
       "\n",
       "                                              header  \\\n",
       "0  {'coff': {'timestamp': 1301832471, 'machine': ...   \n",
       "1  {'coff': {'timestamp': 1401281511, 'machine': ...   \n",
       "2  {'coff': {'timestamp': 1512336134, 'machine': ...   \n",
       "3  {'coff': {'timestamp': 1499089577, 'machine': ...   \n",
       "4  {'coff': {'timestamp': 1515165337, 'machine': ...   \n",
       "\n",
       "                                             section  \\\n",
       "0  {'entry': '.code', 'sections': [{'name': '.cod...   \n",
       "1  {'entry': '.text', 'sections': [{'name': '.tex...   \n",
       "2  {'entry': '.text', 'sections': [{'name': '.tex...   \n",
       "3  {'entry': '.text', 'sections': [{'name': '.tex...   \n",
       "4  {'entry': '.text', 'sections': [{'name': '.tex...   \n",
       "\n",
       "                                             imports exports  \\\n",
       "0  {'MSVCRT.dll': ['memset', 'memcpy', '_stricmp'...      []   \n",
       "1  {'kernel32.dll': ['Sleep', 'VirtualAlloc', 'Si...      []   \n",
       "2  {'WrldFlsh.exe': ['pszStatName', 'dbWeather1',...      []   \n",
       "3                   {'mscoree.dll': ['_CorExeMain']}      []   \n",
       "4  {'KERNEL32.dll': ['CreateEventA', 'CloseHandle...      []   \n",
       "\n",
       "                                     datadirectories  \n",
       "0  [{'name': 'EXPORT_TABLE', 'size': 0, 'virtual_...  \n",
       "1  [{'name': 'EXPORT_TABLE', 'size': 0, 'virtual_...  \n",
       "2  [{'name': 'EXPORT_TABLE', 'size': 0, 'virtual_...  \n",
       "3  [{'name': 'EXPORT_TABLE', 'size': 0, 'virtual_...  \n",
       "4  [{'name': 'EXPORT_TABLE', 'size': 0, 'virtual_...  "
      ]
     },
     "execution_count": 5,
     "metadata": {},
     "output_type": "execute_result"
    }
   ],
   "source": [
    "df.head()"
   ]
  },
  {
   "cell_type": "code",
   "execution_count": 38,
   "metadata": {},
   "outputs": [],
   "source": [
    "df['max_prob'] = df.byteentropy.apply(lambda x: np.array(x).max()/np.array(x).sum())\n",
    "df['max_prob'].describe()\n",
    "df['byte_entropy_val'] = df.byteentropy.apply(lambda x: stats.entropy(np.array(x)))"
   ]
  },
  {
   "cell_type": "code",
   "execution_count": 46,
   "metadata": {},
   "outputs": [],
   "source": [
    "\n",
    "fig = px.histogram(df, x=\"max_entropy\", color=\"label\", marginal=\"box\", hover_data=df.columns)\n",
    "fig.show()"
   ]
  },
  {
   "cell_type": "code",
   "execution_count": 38,
   "metadata": {},
   "outputs": [
    {
     "data": {
      "application/vnd.plotly.v1+json": {
       "config": {
        "plotlyServerURL": "https://plot.ly"
       },
       "data": [
        {
         "alignmentgroup": "True",
         "bingroup": "x",
         "hovertemplate": "x=%{x}<br>count=%{y}<extra></extra>",
         "legendgroup": "",
         "marker": {
          "color": "#636efa",
          "pattern": {
           "shape": ""
          }
         },
         "name": "",
         "nbinsx": 50,
         "offsetgroup": "",
         "orientation": "v",
         "showlegend": false,
         "type": "histogram",
         "x": [
          1008,
          0,
          0,
          6,
          9,
          6,
          3,
          0,
          0,
          0,
          3,
          3,
          9,
          0,
          18,
          115671,
          363,
          30,
          6,
          42,
          12,
          21,
          12,
          35,
          60,
          3,
          51,
          3,
          27,
          12,
          60,
          15647,
          1043,
          450,
          78,
          0,
          0,
          133,
          234,
          0,
          0,
          0,
          243,
          206,
          89,
          1,
          6,
          30285,
          47179,
          43,
          58,
          27,
          8,
          6,
          58,
          42,
          6,
          32,
          29,
          252,
          38,
          30,
          18,
          97582,
          3740,
          216,
          174,
          112,
          323,
          153,
          150,
          406,
          139,
          67,
          1322,
          1208,
          419,
          22963,
          46365,
          16451,
          10145,
          211,
          214,
          151,
          562,
          120,
          118,
          564,
          224,
          133,
          1857,
          2161,
          435,
          28024,
          57484,
          2045,
          23027,
          985,
          2290,
          581,
          2924,
          1453,
          3679,
          2465,
          929,
          449,
          5627,
          5859,
          792,
          8618,
          19739,
          18887,
          50185,
          1566,
          10147,
          2168,
          5280,
          2347,
          25240,
          13818,
          883,
          769,
          2834,
          1987,
          769,
          3468,
          6951,
          21092,
          32161,
          1022,
          4402,
          1858,
          5640,
          2579,
          7350,
          4274,
          1225,
          1205,
          5540,
          2450,
          574,
          3285,
          5812,
          10735,
          48867,
          1859,
          5500,
          3415,
          9262,
          5233,
          16242,
          9381,
          1611,
          1210,
          2585,
          5366,
          1615,
          5202,
          9231,
          12685,
          43540,
          2130,
          4834,
          3193,
          11127,
          4690,
          14321,
          10135,
          3070,
          2921,
          4137,
          4193,
          4015,
          13022,
          21392,
          8928,
          25251,
          2521,
          3217,
          29074,
          4847,
          3814,
          5977,
          5822,
          4087,
          3338,
          4546,
          7488,
          3781,
          7604,
          10357,
          5252,
          17763,
          2103,
          1349,
          4418,
          2849,
          2549,
          1916,
          2090,
          8493,
          1815,
          1894,
          2827,
          3494,
          2944,
          5420,
          11804,
          101609,
          17973,
          10935,
          17865,
          32381,
          33851,
          15170,
          26404,
          67613,
          4716,
          4802,
          9129,
          33404,
          9739,
          28418,
          63175,
          80526,
          18841,
          11607,
          19038,
          28600,
          32117,
          15434,
          24920,
          54063,
          5678,
          5626,
          9211,
          27731,
          11769,
          25390,
          49289,
          1902,
          809,
          880,
          1591,
          943,
          768,
          976,
          957,
          834,
          976,
          792,
          1063,
          796,
          932,
          804,
          1361
         ],
         "xaxis": "x",
         "yaxis": "y"
        }
       ],
       "layout": {
        "barmode": "relative",
        "legend": {
         "tracegroupgap": 0
        },
        "margin": {
         "t": 60
        },
        "template": {
         "data": {
          "bar": [
           {
            "error_x": {
             "color": "#f2f5fa"
            },
            "error_y": {
             "color": "#f2f5fa"
            },
            "marker": {
             "line": {
              "color": "rgb(17,17,17)",
              "width": 0.5
             },
             "pattern": {
              "fillmode": "overlay",
              "size": 10,
              "solidity": 0.2
             }
            },
            "type": "bar"
           }
          ],
          "barpolar": [
           {
            "marker": {
             "line": {
              "color": "rgb(17,17,17)",
              "width": 0.5
             },
             "pattern": {
              "fillmode": "overlay",
              "size": 10,
              "solidity": 0.2
             }
            },
            "type": "barpolar"
           }
          ],
          "carpet": [
           {
            "aaxis": {
             "endlinecolor": "#A2B1C6",
             "gridcolor": "#506784",
             "linecolor": "#506784",
             "minorgridcolor": "#506784",
             "startlinecolor": "#A2B1C6"
            },
            "baxis": {
             "endlinecolor": "#A2B1C6",
             "gridcolor": "#506784",
             "linecolor": "#506784",
             "minorgridcolor": "#506784",
             "startlinecolor": "#A2B1C6"
            },
            "type": "carpet"
           }
          ],
          "choropleth": [
           {
            "colorbar": {
             "outlinewidth": 0,
             "ticks": ""
            },
            "type": "choropleth"
           }
          ],
          "contour": [
           {
            "colorbar": {
             "outlinewidth": 0,
             "ticks": ""
            },
            "colorscale": [
             [
              0,
              "#0d0887"
             ],
             [
              0.1111111111111111,
              "#46039f"
             ],
             [
              0.2222222222222222,
              "#7201a8"
             ],
             [
              0.3333333333333333,
              "#9c179e"
             ],
             [
              0.4444444444444444,
              "#bd3786"
             ],
             [
              0.5555555555555556,
              "#d8576b"
             ],
             [
              0.6666666666666666,
              "#ed7953"
             ],
             [
              0.7777777777777778,
              "#fb9f3a"
             ],
             [
              0.8888888888888888,
              "#fdca26"
             ],
             [
              1,
              "#f0f921"
             ]
            ],
            "type": "contour"
           }
          ],
          "contourcarpet": [
           {
            "colorbar": {
             "outlinewidth": 0,
             "ticks": ""
            },
            "type": "contourcarpet"
           }
          ],
          "heatmap": [
           {
            "colorbar": {
             "outlinewidth": 0,
             "ticks": ""
            },
            "colorscale": [
             [
              0,
              "#0d0887"
             ],
             [
              0.1111111111111111,
              "#46039f"
             ],
             [
              0.2222222222222222,
              "#7201a8"
             ],
             [
              0.3333333333333333,
              "#9c179e"
             ],
             [
              0.4444444444444444,
              "#bd3786"
             ],
             [
              0.5555555555555556,
              "#d8576b"
             ],
             [
              0.6666666666666666,
              "#ed7953"
             ],
             [
              0.7777777777777778,
              "#fb9f3a"
             ],
             [
              0.8888888888888888,
              "#fdca26"
             ],
             [
              1,
              "#f0f921"
             ]
            ],
            "type": "heatmap"
           }
          ],
          "heatmapgl": [
           {
            "colorbar": {
             "outlinewidth": 0,
             "ticks": ""
            },
            "colorscale": [
             [
              0,
              "#0d0887"
             ],
             [
              0.1111111111111111,
              "#46039f"
             ],
             [
              0.2222222222222222,
              "#7201a8"
             ],
             [
              0.3333333333333333,
              "#9c179e"
             ],
             [
              0.4444444444444444,
              "#bd3786"
             ],
             [
              0.5555555555555556,
              "#d8576b"
             ],
             [
              0.6666666666666666,
              "#ed7953"
             ],
             [
              0.7777777777777778,
              "#fb9f3a"
             ],
             [
              0.8888888888888888,
              "#fdca26"
             ],
             [
              1,
              "#f0f921"
             ]
            ],
            "type": "heatmapgl"
           }
          ],
          "histogram": [
           {
            "marker": {
             "pattern": {
              "fillmode": "overlay",
              "size": 10,
              "solidity": 0.2
             }
            },
            "type": "histogram"
           }
          ],
          "histogram2d": [
           {
            "colorbar": {
             "outlinewidth": 0,
             "ticks": ""
            },
            "colorscale": [
             [
              0,
              "#0d0887"
             ],
             [
              0.1111111111111111,
              "#46039f"
             ],
             [
              0.2222222222222222,
              "#7201a8"
             ],
             [
              0.3333333333333333,
              "#9c179e"
             ],
             [
              0.4444444444444444,
              "#bd3786"
             ],
             [
              0.5555555555555556,
              "#d8576b"
             ],
             [
              0.6666666666666666,
              "#ed7953"
             ],
             [
              0.7777777777777778,
              "#fb9f3a"
             ],
             [
              0.8888888888888888,
              "#fdca26"
             ],
             [
              1,
              "#f0f921"
             ]
            ],
            "type": "histogram2d"
           }
          ],
          "histogram2dcontour": [
           {
            "colorbar": {
             "outlinewidth": 0,
             "ticks": ""
            },
            "colorscale": [
             [
              0,
              "#0d0887"
             ],
             [
              0.1111111111111111,
              "#46039f"
             ],
             [
              0.2222222222222222,
              "#7201a8"
             ],
             [
              0.3333333333333333,
              "#9c179e"
             ],
             [
              0.4444444444444444,
              "#bd3786"
             ],
             [
              0.5555555555555556,
              "#d8576b"
             ],
             [
              0.6666666666666666,
              "#ed7953"
             ],
             [
              0.7777777777777778,
              "#fb9f3a"
             ],
             [
              0.8888888888888888,
              "#fdca26"
             ],
             [
              1,
              "#f0f921"
             ]
            ],
            "type": "histogram2dcontour"
           }
          ],
          "mesh3d": [
           {
            "colorbar": {
             "outlinewidth": 0,
             "ticks": ""
            },
            "type": "mesh3d"
           }
          ],
          "parcoords": [
           {
            "line": {
             "colorbar": {
              "outlinewidth": 0,
              "ticks": ""
             }
            },
            "type": "parcoords"
           }
          ],
          "pie": [
           {
            "automargin": true,
            "type": "pie"
           }
          ],
          "scatter": [
           {
            "marker": {
             "line": {
              "color": "#283442"
             }
            },
            "type": "scatter"
           }
          ],
          "scatter3d": [
           {
            "line": {
             "colorbar": {
              "outlinewidth": 0,
              "ticks": ""
             }
            },
            "marker": {
             "colorbar": {
              "outlinewidth": 0,
              "ticks": ""
             }
            },
            "type": "scatter3d"
           }
          ],
          "scattercarpet": [
           {
            "marker": {
             "colorbar": {
              "outlinewidth": 0,
              "ticks": ""
             }
            },
            "type": "scattercarpet"
           }
          ],
          "scattergeo": [
           {
            "marker": {
             "colorbar": {
              "outlinewidth": 0,
              "ticks": ""
             }
            },
            "type": "scattergeo"
           }
          ],
          "scattergl": [
           {
            "marker": {
             "line": {
              "color": "#283442"
             }
            },
            "type": "scattergl"
           }
          ],
          "scattermapbox": [
           {
            "marker": {
             "colorbar": {
              "outlinewidth": 0,
              "ticks": ""
             }
            },
            "type": "scattermapbox"
           }
          ],
          "scatterpolar": [
           {
            "marker": {
             "colorbar": {
              "outlinewidth": 0,
              "ticks": ""
             }
            },
            "type": "scatterpolar"
           }
          ],
          "scatterpolargl": [
           {
            "marker": {
             "colorbar": {
              "outlinewidth": 0,
              "ticks": ""
             }
            },
            "type": "scatterpolargl"
           }
          ],
          "scatterternary": [
           {
            "marker": {
             "colorbar": {
              "outlinewidth": 0,
              "ticks": ""
             }
            },
            "type": "scatterternary"
           }
          ],
          "surface": [
           {
            "colorbar": {
             "outlinewidth": 0,
             "ticks": ""
            },
            "colorscale": [
             [
              0,
              "#0d0887"
             ],
             [
              0.1111111111111111,
              "#46039f"
             ],
             [
              0.2222222222222222,
              "#7201a8"
             ],
             [
              0.3333333333333333,
              "#9c179e"
             ],
             [
              0.4444444444444444,
              "#bd3786"
             ],
             [
              0.5555555555555556,
              "#d8576b"
             ],
             [
              0.6666666666666666,
              "#ed7953"
             ],
             [
              0.7777777777777778,
              "#fb9f3a"
             ],
             [
              0.8888888888888888,
              "#fdca26"
             ],
             [
              1,
              "#f0f921"
             ]
            ],
            "type": "surface"
           }
          ],
          "table": [
           {
            "cells": {
             "fill": {
              "color": "#506784"
             },
             "line": {
              "color": "rgb(17,17,17)"
             }
            },
            "header": {
             "fill": {
              "color": "#2a3f5f"
             },
             "line": {
              "color": "rgb(17,17,17)"
             }
            },
            "type": "table"
           }
          ]
         },
         "layout": {
          "annotationdefaults": {
           "arrowcolor": "#f2f5fa",
           "arrowhead": 0,
           "arrowwidth": 1
          },
          "autotypenumbers": "strict",
          "coloraxis": {
           "colorbar": {
            "outlinewidth": 0,
            "ticks": ""
           }
          },
          "colorscale": {
           "diverging": [
            [
             0,
             "#8e0152"
            ],
            [
             0.1,
             "#c51b7d"
            ],
            [
             0.2,
             "#de77ae"
            ],
            [
             0.3,
             "#f1b6da"
            ],
            [
             0.4,
             "#fde0ef"
            ],
            [
             0.5,
             "#f7f7f7"
            ],
            [
             0.6,
             "#e6f5d0"
            ],
            [
             0.7,
             "#b8e186"
            ],
            [
             0.8,
             "#7fbc41"
            ],
            [
             0.9,
             "#4d9221"
            ],
            [
             1,
             "#276419"
            ]
           ],
           "sequential": [
            [
             0,
             "#0d0887"
            ],
            [
             0.1111111111111111,
             "#46039f"
            ],
            [
             0.2222222222222222,
             "#7201a8"
            ],
            [
             0.3333333333333333,
             "#9c179e"
            ],
            [
             0.4444444444444444,
             "#bd3786"
            ],
            [
             0.5555555555555556,
             "#d8576b"
            ],
            [
             0.6666666666666666,
             "#ed7953"
            ],
            [
             0.7777777777777778,
             "#fb9f3a"
            ],
            [
             0.8888888888888888,
             "#fdca26"
            ],
            [
             1,
             "#f0f921"
            ]
           ],
           "sequentialminus": [
            [
             0,
             "#0d0887"
            ],
            [
             0.1111111111111111,
             "#46039f"
            ],
            [
             0.2222222222222222,
             "#7201a8"
            ],
            [
             0.3333333333333333,
             "#9c179e"
            ],
            [
             0.4444444444444444,
             "#bd3786"
            ],
            [
             0.5555555555555556,
             "#d8576b"
            ],
            [
             0.6666666666666666,
             "#ed7953"
            ],
            [
             0.7777777777777778,
             "#fb9f3a"
            ],
            [
             0.8888888888888888,
             "#fdca26"
            ],
            [
             1,
             "#f0f921"
            ]
           ]
          },
          "colorway": [
           "#636efa",
           "#EF553B",
           "#00cc96",
           "#ab63fa",
           "#FFA15A",
           "#19d3f3",
           "#FF6692",
           "#B6E880",
           "#FF97FF",
           "#FECB52"
          ],
          "font": {
           "color": "#f2f5fa"
          },
          "geo": {
           "bgcolor": "rgb(17,17,17)",
           "lakecolor": "rgb(17,17,17)",
           "landcolor": "rgb(17,17,17)",
           "showlakes": true,
           "showland": true,
           "subunitcolor": "#506784"
          },
          "hoverlabel": {
           "align": "left"
          },
          "hovermode": "closest",
          "mapbox": {
           "style": "dark"
          },
          "paper_bgcolor": "rgb(17,17,17)",
          "plot_bgcolor": "rgb(17,17,17)",
          "polar": {
           "angularaxis": {
            "gridcolor": "#506784",
            "linecolor": "#506784",
            "ticks": ""
           },
           "bgcolor": "rgb(17,17,17)",
           "radialaxis": {
            "gridcolor": "#506784",
            "linecolor": "#506784",
            "ticks": ""
           }
          },
          "scene": {
           "xaxis": {
            "backgroundcolor": "rgb(17,17,17)",
            "gridcolor": "#506784",
            "gridwidth": 2,
            "linecolor": "#506784",
            "showbackground": true,
            "ticks": "",
            "zerolinecolor": "#C8D4E3"
           },
           "yaxis": {
            "backgroundcolor": "rgb(17,17,17)",
            "gridcolor": "#506784",
            "gridwidth": 2,
            "linecolor": "#506784",
            "showbackground": true,
            "ticks": "",
            "zerolinecolor": "#C8D4E3"
           },
           "zaxis": {
            "backgroundcolor": "rgb(17,17,17)",
            "gridcolor": "#506784",
            "gridwidth": 2,
            "linecolor": "#506784",
            "showbackground": true,
            "ticks": "",
            "zerolinecolor": "#C8D4E3"
           }
          },
          "shapedefaults": {
           "line": {
            "color": "#f2f5fa"
           }
          },
          "sliderdefaults": {
           "bgcolor": "#C8D4E3",
           "bordercolor": "rgb(17,17,17)",
           "borderwidth": 1,
           "tickwidth": 0
          },
          "ternary": {
           "aaxis": {
            "gridcolor": "#506784",
            "linecolor": "#506784",
            "ticks": ""
           },
           "baxis": {
            "gridcolor": "#506784",
            "linecolor": "#506784",
            "ticks": ""
           },
           "bgcolor": "rgb(17,17,17)",
           "caxis": {
            "gridcolor": "#506784",
            "linecolor": "#506784",
            "ticks": ""
           }
          },
          "title": {
           "x": 0.05
          },
          "updatemenudefaults": {
           "bgcolor": "#506784",
           "borderwidth": 0
          },
          "xaxis": {
           "automargin": true,
           "gridcolor": "#283442",
           "linecolor": "#506784",
           "ticks": "",
           "title": {
            "standoff": 15
           },
           "zerolinecolor": "#283442",
           "zerolinewidth": 2
          },
          "yaxis": {
           "automargin": true,
           "gridcolor": "#283442",
           "linecolor": "#506784",
           "ticks": "",
           "title": {
            "standoff": 15
           },
           "zerolinecolor": "#283442",
           "zerolinewidth": 2
          }
         }
        },
        "xaxis": {
         "anchor": "y",
         "domain": [
          0,
          1
         ],
         "title": {
          "text": "x"
         }
        },
        "yaxis": {
         "anchor": "x",
         "domain": [
          0,
          1
         ],
         "title": {
          "text": "count"
         }
        }
       }
      }
     },
     "metadata": {},
     "output_type": "display_data"
    }
   ],
   "source": [
    "# plot histogram of a with plotly using dark theme\n",
    "fig = px.histogram(x=a,nbins=50,template='plotly_dark')\n",
    "fig.show()"
   ]
  },
  {
   "cell_type": "code",
   "execution_count": 41,
   "metadata": {},
   "outputs": [
    {
     "data": {
      "image/png": "[encoded data removed]",
      "text/plain": [
       "<Figure size 864x504 with 1 Axes>"
      ]
     },
     "metadata": {
      "needs_background": "light"
     },
     "output_type": "display_data"
    }
   ],
   "source": [
    "# plot histogram of max_entropy by label with seaborn\n",
    "a = sns.displot(df, x=\"max_prob\", hue=\"label\", kind=\"kde\", fill=True)\n",
    "\n",
    "# a = sns.displot(df, x=\"max_entropy\", hue=\"label\", kind=\"kde\", fill=True,\n",
    "#                 palette=[\"#8DE4FF\", \"#8AEA92\", \"#DEB986\"])\n",
    "\n",
    "# change figure size\n",
    "a.fig.set_size_inches(12,7)\n",
    "# plt.fig.set_size_inches(10,5)"
   ]
  },
  {
   "cell_type": "code",
   "execution_count": 44,
   "metadata": {},
   "outputs": [
    {
     "data": {
      "image/png": "[encoded data removed]",
      "text/plain": [
       "<Figure size 864x504 with 1 Axes>"
      ]
     },
     "metadata": {
      "needs_background": "light"
     },
     "output_type": "display_data"
    }
   ],
   "source": [
    "a = sns.displot(df, x=\"byte_entropy_val\", hue=\"label\", kind=\"kde\", fill=True)\n",
    "a.fig.set_size_inches(12,7)"
   ]
  },
  {
   "cell_type": "code",
   "execution_count": 50,
   "metadata": {},
   "outputs": [
    {
     "data": {
      "text/html": [
       "<div>\n",
       "<style scoped>\n",
       "    .dataframe tbody tr th:only-of-type {\n",
       "        vertical-align: middle;\n",
       "    }\n",
       "\n",
       "    .dataframe tbody tr th {\n",
       "        vertical-align: top;\n",
       "    }\n",
       "\n",
       "    .dataframe thead th {\n",
       "        text-align: right;\n",
       "    }\n",
       "</style>\n",
       "<table border=\"1\" class=\"dataframe\">\n",
       "  <thead>\n",
       "    <tr style=\"text-align: right;\">\n",
       "      <th></th>\n",
       "      <th>sha256</th>\n",
       "      <th>md5</th>\n",
       "      <th>appeared</th>\n",
       "      <th>label</th>\n",
       "      <th>avclass</th>\n",
       "      <th>size</th>\n",
       "      <th>vsize</th>\n",
       "      <th>has_debug</th>\n",
       "      <th>exports</th>\n",
       "      <th>imports</th>\n",
       "      <th>...</th>\n",
       "      <th>symbols</th>\n",
       "      <th>numstrings</th>\n",
       "      <th>avlength</th>\n",
       "      <th>printabledist</th>\n",
       "      <th>printables</th>\n",
       "      <th>entropy</th>\n",
       "      <th>paths</th>\n",
       "      <th>urls</th>\n",
       "      <th>registry</th>\n",
       "      <th>MZ</th>\n",
       "    </tr>\n",
       "  </thead>\n",
       "  <tbody>\n",
       "    <tr>\n",
       "      <th>0</th>\n",
       "      <td>2ef9a92ee6c955364564b0df75ee3753473014b2ba162b...</td>\n",
       "      <td>7e39aeea7bc21d16b8652516a150b282</td>\n",
       "      <td>2018-01</td>\n",
       "      <td>1</td>\n",
       "      <td>sivis</td>\n",
       "      <td>349811</td>\n",
       "      <td>28672</td>\n",
       "      <td>0</td>\n",
       "      <td>0</td>\n",
       "      <td>55</td>\n",
       "      <td>...</td>\n",
       "      <td>0</td>\n",
       "      <td>3863</td>\n",
       "      <td>17.643541</td>\n",
       "      <td>[7399, 89, 373, 105, 116, 114, 101, 94, 430, 4...</td>\n",
       "      <td>68157</td>\n",
       "      <td>5.683164</td>\n",
       "      <td>6</td>\n",
       "      <td>22</td>\n",
       "      <td>0</td>\n",
       "      <td>7</td>\n",
       "    </tr>\n",
       "    <tr>\n",
       "      <th>1</th>\n",
       "      <td>50f3f85a10cedf9192f7aa4cd4d2b1ce9e294e23f3dd7e...</td>\n",
       "      <td>09435239e7a0ddfeb78820cf5c31cc06</td>\n",
       "      <td>2018-01</td>\n",
       "      <td>-1</td>\n",
       "      <td>upatre</td>\n",
       "      <td>33776</td>\n",
       "      <td>36864</td>\n",
       "      <td>0</td>\n",
       "      <td>0</td>\n",
       "      <td>33</td>\n",
       "      <td>...</td>\n",
       "      <td>0</td>\n",
       "      <td>82</td>\n",
       "      <td>11.097561</td>\n",
       "      <td>[23, 3, 0, 2, 2, 0, 1, 1, 0, 0, 3, 3, 2, 5, 12...</td>\n",
       "      <td>910</td>\n",
       "      <td>5.454550</td>\n",
       "      <td>0</td>\n",
       "      <td>0</td>\n",
       "      <td>0</td>\n",
       "      <td>2</td>\n",
       "    </tr>\n",
       "    <tr>\n",
       "      <th>2</th>\n",
       "      <td>f6c68207b3b395feabcbb029c393607db4ff5227ecd5da...</td>\n",
       "      <td>744cac35cdfa2c3a0672184d433cb93e</td>\n",
       "      <td>2018-01</td>\n",
       "      <td>0</td>\n",
       "      <td></td>\n",
       "      <td>161280</td>\n",
       "      <td>184320</td>\n",
       "      <td>0</td>\n",
       "      <td>0</td>\n",
       "      <td>155</td>\n",
       "      <td>...</td>\n",
       "      <td>0</td>\n",
       "      <td>1452</td>\n",
       "      <td>15.486915</td>\n",
       "      <td>[844, 28, 94, 26, 36, 51, 77, 27, 37, 31, 14, ...</td>\n",
       "      <td>22487</td>\n",
       "      <td>5.668189</td>\n",
       "      <td>0</td>\n",
       "      <td>204</td>\n",
       "      <td>0</td>\n",
       "      <td>2</td>\n",
       "    </tr>\n",
       "    <tr>\n",
       "      <th>3</th>\n",
       "      <td>3292ee48fac44b7b70bdfde526f71c09e65764d9b582f5...</td>\n",
       "      <td>b6d6f2dc5ef191e23dfc2892ff626168</td>\n",
       "      <td>2018-01</td>\n",
       "      <td>0</td>\n",
       "      <td></td>\n",
       "      <td>6144</td>\n",
       "      <td>32768</td>\n",
       "      <td>0</td>\n",
       "      <td>0</td>\n",
       "      <td>1</td>\n",
       "      <td>...</td>\n",
       "      <td>0</td>\n",
       "      <td>65</td>\n",
       "      <td>20.030769</td>\n",
       "      <td>[58, 1, 22, 3, 0, 0, 0, 0, 0, 0, 0, 0, 1, 7, 3...</td>\n",
       "      <td>1302</td>\n",
       "      <td>5.111368</td>\n",
       "      <td>0</td>\n",
       "      <td>0</td>\n",
       "      <td>0</td>\n",
       "      <td>1</td>\n",
       "    </tr>\n",
       "    <tr>\n",
       "      <th>4</th>\n",
       "      <td>b9494c218b74a9774a88307ba83c03da0bee3a80899b47...</td>\n",
       "      <td>b6607d4123b0d3afdbca4bdc9a4bcf7a</td>\n",
       "      <td>2018-01</td>\n",
       "      <td>-1</td>\n",
       "      <td>startsurf</td>\n",
       "      <td>1242112</td>\n",
       "      <td>1265664</td>\n",
       "      <td>1</td>\n",
       "      <td>0</td>\n",
       "      <td>85</td>\n",
       "      <td>...</td>\n",
       "      <td>0</td>\n",
       "      <td>5970</td>\n",
       "      <td>23.898660</td>\n",
       "      <td>[811, 428, 531, 579, 693, 717, 766, 942, 981, ...</td>\n",
       "      <td>142675</td>\n",
       "      <td>6.384166</td>\n",
       "      <td>0</td>\n",
       "      <td>0</td>\n",
       "      <td>0</td>\n",
       "      <td>35</td>\n",
       "    </tr>\n",
       "  </tbody>\n",
       "</table>\n",
       "<p>5 rows × 24 columns</p>\n",
       "</div>"
      ],
      "text/plain": [
       "                                              sha256  \\\n",
       "0  2ef9a92ee6c955364564b0df75ee3753473014b2ba162b...   \n",
       "1  50f3f85a10cedf9192f7aa4cd4d2b1ce9e294e23f3dd7e...   \n",
       "2  f6c68207b3b395feabcbb029c393607db4ff5227ecd5da...   \n",
       "3  3292ee48fac44b7b70bdfde526f71c09e65764d9b582f5...   \n",
       "4  b9494c218b74a9774a88307ba83c03da0bee3a80899b47...   \n",
       "\n",
       "                                md5 appeared  label    avclass     size  \\\n",
       "0  7e39aeea7bc21d16b8652516a150b282  2018-01      1      sivis   349811   \n",
       "1  09435239e7a0ddfeb78820cf5c31cc06  2018-01     -1     upatre    33776   \n",
       "2  744cac35cdfa2c3a0672184d433cb93e  2018-01      0              161280   \n",
       "3  b6d6f2dc5ef191e23dfc2892ff626168  2018-01      0                6144   \n",
       "4  b6607d4123b0d3afdbca4bdc9a4bcf7a  2018-01     -1  startsurf  1242112   \n",
       "\n",
       "     vsize  has_debug  exports  imports  ...  symbols  numstrings   avlength  \\\n",
       "0    28672          0        0       55  ...        0        3863  17.643541   \n",
       "1    36864          0        0       33  ...        0          82  11.097561   \n",
       "2   184320          0        0      155  ...        0        1452  15.486915   \n",
       "3    32768          0        0        1  ...        0          65  20.030769   \n",
       "4  1265664          1        0       85  ...        0        5970  23.898660   \n",
       "\n",
       "                                       printabledist  printables   entropy  \\\n",
       "0  [7399, 89, 373, 105, 116, 114, 101, 94, 430, 4...       68157  5.683164   \n",
       "1  [23, 3, 0, 2, 2, 0, 1, 1, 0, 0, 3, 3, 2, 5, 12...         910  5.454550   \n",
       "2  [844, 28, 94, 26, 36, 51, 77, 27, 37, 31, 14, ...       22487  5.668189   \n",
       "3  [58, 1, 22, 3, 0, 0, 0, 0, 0, 0, 0, 0, 1, 7, 3...        1302  5.111368   \n",
       "4  [811, 428, 531, 579, 693, 717, 766, 942, 981, ...      142675  6.384166   \n",
       "\n",
       "   paths urls  registry  MZ  \n",
       "0      6   22         0   7  \n",
       "1      0    0         0   2  \n",
       "2      0  204         0   2  \n",
       "3      0    0         0   1  \n",
       "4      0    0         0  35  \n",
       "\n",
       "[5 rows x 24 columns]"
      ]
     },
     "execution_count": 50,
     "metadata": {},
     "output_type": "execute_result"
    }
   ],
   "source": [
    "# flatten strings and general columns data into new dataframe\n",
    "metadata_columns = ['sha256', 'md5', 'appeared', 'label', 'avclass']\n",
    "df_general = pd.concat([df.drop(['general'], axis=1)[metadata_columns], df['general'].apply(pd.Series)], axis=1)\n",
    "df_strings = pd.concat([df_general, df['strings'].apply(pd.Series)], axis=1)\n",
    "\n",
    "df_strings.head()"
   ]
  },
  {
   "cell_type": "code",
   "execution_count": 49,
   "metadata": {},
   "outputs": [
    {
     "ename": "AttributeError",
     "evalue": "'str' object has no attribute 'values'",
     "output_type": "error",
     "traceback": [
      "\u001b[1;31m---------------------------------------------------------------------------\u001b[0m",
      "\u001b[1;31mAttributeError\u001b[0m                            Traceback (most recent call last)",
      "\u001b[1;32m~\\AppData\\Local\\Temp/ipykernel_40628/2840377215.py\u001b[0m in \u001b[0;36m<module>\u001b[1;34m\u001b[0m\n\u001b[0;32m      1\u001b[0m \u001b[0mt_df\u001b[0m \u001b[1;33m=\u001b[0m \u001b[0mdf\u001b[0m\u001b[1;33m.\u001b[0m\u001b[0miloc\u001b[0m\u001b[1;33m[\u001b[0m\u001b[1;33m:\u001b[0m\u001b[1;36m1000\u001b[0m\u001b[1;33m]\u001b[0m\u001b[1;33m\u001b[0m\u001b[1;33m\u001b[0m\u001b[0m\n\u001b[1;32m----> 2\u001b[1;33m \u001b[0mnorm_df\u001b[0m \u001b[1;33m=\u001b[0m \u001b[0mpd\u001b[0m\u001b[1;33m.\u001b[0m\u001b[0mjson_normalize\u001b[0m\u001b[1;33m(\u001b[0m\u001b[0mt_df\u001b[0m\u001b[1;33m[\u001b[0m\u001b[1;33m[\u001b[0m\u001b[1;34m'general'\u001b[0m\u001b[1;33m,\u001b[0m\u001b[1;34m'strings'\u001b[0m\u001b[1;33m]\u001b[0m\u001b[1;33m]\u001b[0m\u001b[1;33m,\u001b[0m\u001b[0mmax_level\u001b[0m\u001b[1;33m=\u001b[0m\u001b[1;36m1\u001b[0m\u001b[1;33m)\u001b[0m\u001b[1;33m\u001b[0m\u001b[1;33m\u001b[0m\u001b[0m\n\u001b[0m\u001b[0;32m      3\u001b[0m \u001b[0mnorm_df\u001b[0m\u001b[1;33m.\u001b[0m\u001b[0mhead\u001b[0m\u001b[1;33m(\u001b[0m\u001b[1;33m)\u001b[0m\u001b[1;33m\u001b[0m\u001b[1;33m\u001b[0m\u001b[0m\n",
      "\u001b[1;32mf:\\Apps\\anaconda3\\lib\\site-packages\\pandas\\io\\json\\_normalize.py\u001b[0m in \u001b[0;36m_json_normalize\u001b[1;34m(data, record_path, meta, meta_prefix, record_prefix, errors, sep, max_level)\u001b[0m\n\u001b[0;32m    456\u001b[0m \u001b[1;33m\u001b[0m\u001b[0m\n\u001b[0;32m    457\u001b[0m     \u001b[1;32mif\u001b[0m \u001b[0mrecord_path\u001b[0m \u001b[1;32mis\u001b[0m \u001b[1;32mNone\u001b[0m\u001b[1;33m:\u001b[0m\u001b[1;33m\u001b[0m\u001b[1;33m\u001b[0m\u001b[0m\n\u001b[1;32m--> 458\u001b[1;33m         \u001b[1;32mif\u001b[0m \u001b[0many\u001b[0m\u001b[1;33m(\u001b[0m\u001b[1;33m[\u001b[0m\u001b[0misinstance\u001b[0m\u001b[1;33m(\u001b[0m\u001b[0mx\u001b[0m\u001b[1;33m,\u001b[0m \u001b[0mdict\u001b[0m\u001b[1;33m)\u001b[0m \u001b[1;32mfor\u001b[0m \u001b[0mx\u001b[0m \u001b[1;32min\u001b[0m \u001b[0my\u001b[0m\u001b[1;33m.\u001b[0m\u001b[0mvalues\u001b[0m\u001b[1;33m(\u001b[0m\u001b[1;33m)\u001b[0m\u001b[1;33m]\u001b[0m \u001b[1;32mfor\u001b[0m \u001b[0my\u001b[0m \u001b[1;32min\u001b[0m \u001b[0mdata\u001b[0m\u001b[1;33m)\u001b[0m\u001b[1;33m:\u001b[0m\u001b[1;33m\u001b[0m\u001b[1;33m\u001b[0m\u001b[0m\n\u001b[0m\u001b[0;32m    459\u001b[0m             \u001b[1;31m# naive normalization, this is idempotent for flat records\u001b[0m\u001b[1;33m\u001b[0m\u001b[1;33m\u001b[0m\u001b[1;33m\u001b[0m\u001b[0m\n\u001b[0;32m    460\u001b[0m             \u001b[1;31m# and potentially will inflate the data considerably for\u001b[0m\u001b[1;33m\u001b[0m\u001b[1;33m\u001b[0m\u001b[1;33m\u001b[0m\u001b[0m\n",
      "\u001b[1;32mf:\\Apps\\anaconda3\\lib\\site-packages\\pandas\\io\\json\\_normalize.py\u001b[0m in \u001b[0;36m<genexpr>\u001b[1;34m(.0)\u001b[0m\n\u001b[0;32m    456\u001b[0m \u001b[1;33m\u001b[0m\u001b[0m\n\u001b[0;32m    457\u001b[0m     \u001b[1;32mif\u001b[0m \u001b[0mrecord_path\u001b[0m \u001b[1;32mis\u001b[0m \u001b[1;32mNone\u001b[0m\u001b[1;33m:\u001b[0m\u001b[1;33m\u001b[0m\u001b[1;33m\u001b[0m\u001b[0m\n\u001b[1;32m--> 458\u001b[1;33m         \u001b[1;32mif\u001b[0m \u001b[0many\u001b[0m\u001b[1;33m(\u001b[0m\u001b[1;33m[\u001b[0m\u001b[0misinstance\u001b[0m\u001b[1;33m(\u001b[0m\u001b[0mx\u001b[0m\u001b[1;33m,\u001b[0m \u001b[0mdict\u001b[0m\u001b[1;33m)\u001b[0m \u001b[1;32mfor\u001b[0m \u001b[0mx\u001b[0m \u001b[1;32min\u001b[0m \u001b[0my\u001b[0m\u001b[1;33m.\u001b[0m\u001b[0mvalues\u001b[0m\u001b[1;33m(\u001b[0m\u001b[1;33m)\u001b[0m\u001b[1;33m]\u001b[0m \u001b[1;32mfor\u001b[0m \u001b[0my\u001b[0m \u001b[1;32min\u001b[0m \u001b[0mdata\u001b[0m\u001b[1;33m)\u001b[0m\u001b[1;33m:\u001b[0m\u001b[1;33m\u001b[0m\u001b[1;33m\u001b[0m\u001b[0m\n\u001b[0m\u001b[0;32m    459\u001b[0m             \u001b[1;31m# naive normalization, this is idempotent for flat records\u001b[0m\u001b[1;33m\u001b[0m\u001b[1;33m\u001b[0m\u001b[1;33m\u001b[0m\u001b[0m\n\u001b[0;32m    460\u001b[0m             \u001b[1;31m# and potentially will inflate the data considerably for\u001b[0m\u001b[1;33m\u001b[0m\u001b[1;33m\u001b[0m\u001b[1;33m\u001b[0m\u001b[0m\n",
      "\u001b[1;31mAttributeError\u001b[0m: 'str' object has no attribute 'values'"
     ]
    }
   ],
   "source": [
    "t_df = df.iloc[:1000]\n",
    "norm_df = pd.json_normalize(t_df[['general','strings']])\n",
    "norm_df.head()"
   ]
  },
  {
   "cell_type": "code",
   "execution_count": 54,
   "metadata": {},
   "outputs": [
    {
     "data": {
      "text/plain": [
       "{'entry': '.text',\n",
       " 'sections': [{'name': '.text',\n",
       "   'size': 103424,\n",
       "   'entropy': 6.680143962077214,\n",
       "   'vsize': 103066,\n",
       "   'props': ['CNT_CODE', 'MEM_EXECUTE', 'MEM_READ']},\n",
       "  {'name': '.rdata',\n",
       "   'size': 20992,\n",
       "   'entropy': 5.619611663752287,\n",
       "   'vsize': 20710,\n",
       "   'props': ['CNT_INITIALIZED_DATA', 'MEM_READ']},\n",
       "  {'name': '.data',\n",
       "   'size': 25088,\n",
       "   'entropy': 3.028531057133172,\n",
       "   'vsize': 33512,\n",
       "   'props': ['CNT_INITIALIZED_DATA', 'MEM_READ', 'MEM_WRITE']},\n",
       "  {'name': '.rsrc',\n",
       "   'size': 2560,\n",
       "   'entropy': 3.830881802428471,\n",
       "   'vsize': 2264,\n",
       "   'props': ['CNT_INITIALIZED_DATA', 'MEM_READ']},\n",
       "  {'name': '.reloc',\n",
       "   'size': 8192,\n",
       "   'entropy': 5.782244559175467,\n",
       "   'vsize': 7906,\n",
       "   'props': ['CNT_INITIALIZED_DATA', 'MEM_DISCARDABLE', 'MEM_READ']}]}"
      ]
     },
     "execution_count": 54,
     "metadata": {},
     "output_type": "execute_result"
    }
   ],
   "source": [
    "df.iloc[2]['section']"
   ]
  }
 ],
 "metadata": {
  "kernelspec": {
   "display_name": "Python 3.8.8 ('base')",
   "language": "python",
   "name": "python3"
  },
  "language_info": {
   "codemirror_mode": {
    "name": "ipython",
    "version": 3
   },
   "file_extension": ".py",
   "mimetype": "text/x-python",
   "name": "python",
   "nbconvert_exporter": "python",
   "pygments_lexer": "ipython3",
   "version": "3.8.8"
  },
  "orig_nbformat": 4,
  "vscode": {
   "interpreter": {
    "hash": "d0d24260c26781aab6a6247b3ae992ece4f26fd75ea3713b7a84756a27d5e272"
   }
  }
 },
 "nbformat": 4,
 "nbformat_minor": 2
}
