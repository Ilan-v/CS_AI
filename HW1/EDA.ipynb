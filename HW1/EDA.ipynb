{
  "cells": [
    {
      "cell_type": "markdown",
      "metadata": {
        "id": "boEC5uu2zx-_"
      },
      "source": [
        "# <font color='lightgreen'>Cyber Security Task 1 - EMBER Semi Supervised </font>\n",
        "Shlomit Finegold,  Ilan Vasilevsky\n",
        "\n",
        "---\n",
        "\n",
        "\n",
        "\n"
      ]
    },
    {
      "cell_type": "markdown",
      "metadata": {
        "id": "0110uVyQ5ZV9"
      },
      "source": [
        "# <font color='lightgreen'>Imports & functions</font>\n"
      ]
    },
    {
      "cell_type": "code",
      "execution_count": null,
      "metadata": {
        "id": "SUoIaFO75lkt"
      },
      "outputs": [],
      "source": [
        "import pandas as pd # import pandas library\n",
        "from plotly.subplots import make_subplots\n",
        "import plotly.express as px\n",
        "import plotly.graph_objects as go\n",
        "import numpy as np\n",
        "from sklearn.manifold import TSNE\n",
        "\n",
        "import warnings\n",
        "warnings.filterwarnings('ignore')"
      ]
    },
    {
      "cell_type": "code",
      "execution_count": null,
      "metadata": {
        "id": "ny2zIK5AKSe-"
      },
      "outputs": [],
      "source": [
        "def prep_data(origin_df):\n",
        "  # split appeared to year and month\n",
        "  origin_df[['year', 'month']] = origin_df['appeared'].str.split('-', 1, expand=True)\n",
        "  new_df=origin_df.loc[origin_df['year']=='2018'].reset_index()\n",
        "  new_df = new_df.drop(columns=['index'])\n",
        "  # add categorial field = has avclass or not\n",
        "  new_df['avclass_null']=\"has_value\"\n",
        "  new_df['avclass_null'].loc[new_df['avclass'].isnull()]=\"missing_value\"\n",
        "  #remove redundant\n",
        "  new_df=new_df.drop(columns=['appeared','year'])\n",
        "  return new_df"
      ]
    },
    {
      "cell_type": "markdown",
      "metadata": {
        "id": "QJ4IEj58zqBp"
      },
      "source": [
        "# <font color='lightgreen'>Load and prep data</font>\n"
      ]
    },
    {
      "cell_type": "code",
      "execution_count": null,
      "metadata": {
        "colab": {
          "base_uri": "https://localhost:8080/",
          "height": 396
        },
        "id": "nujaQ17JykZN",
        "outputId": "a65c525e-1645-48c7-d026-b102c1121cac"
      },
      "outputs": [],
      "source": [
        "#load train\n",
        "path = \"data/processed/train_v2.csv\"\n",
        "df_train = pd.read_csv(path)\n",
        "df_train[\"origin\"]=\"train\""
      ]
    },
    {
      "cell_type": "code",
      "execution_count": null,
      "metadata": {
        "id": "dCqohbLL9tgc"
      },
      "outputs": [],
      "source": [
        "# load test\n",
        "path = \"data/processed/test.csv\"\n",
        "df_test = pd.read_csv(path)\n",
        "df_test[\"origin\"]=\"test\""
      ]
    },
    {
      "cell_type": "code",
      "execution_count": null,
      "metadata": {
        "id": "l7erbp7V91T2"
      },
      "outputs": [],
      "source": [
        "#concat train and test\n",
        "df = pd.concat([df_train,df_test])"
      ]
    },
    {
      "cell_type": "code",
      "execution_count": null,
      "metadata": {
        "id": "ejYnJdwJ7jeW"
      },
      "outputs": [],
      "source": [
        "#prep data\n",
        "df_2018=prep_data(df)"
      ]
    },
    {
      "cell_type": "markdown",
      "metadata": {
        "id": "C5CGhLje62OQ"
      },
      "source": [
        "# <font color='lightgreen'>Data description</font>"
      ]
    },
    {
      "cell_type": "code",
      "execution_count": null,
      "metadata": {
        "id": "cOBnhp4K7cDD"
      },
      "outputs": [],
      "source": [
        "print(\"data shape is: \",df_2018.shape)"
      ]
    },
    {
      "cell_type": "code",
      "execution_count": null,
      "metadata": {},
      "outputs": [],
      "source": [
        "df_2018.sha256.nunique()"
      ]
    },
    {
      "cell_type": "code",
      "execution_count": null,
      "metadata": {},
      "outputs": [],
      "source": [
        "df_2018 = df_2018.drop(columns=['index'])\n",
        "df_2018.head()"
      ]
    },
    {
      "cell_type": "code",
      "execution_count": null,
      "metadata": {
        "id": "3cRrh_qd8JnP"
      },
      "outputs": [],
      "source": [
        "pd.set_option('display.max_columns', None)\n",
        "df_2018.head()"
      ]
    },
    {
      "cell_type": "markdown",
      "metadata": {
        "id": "nkboW7ji8ovw"
      },
      "source": [
        "## Data description -Visualisation "
      ]
    },
    {
      "cell_type": "markdown",
      "metadata": {
        "id": "sMOcbKoh_Gi1"
      },
      "source": [
        "### test-train split (per months)"
      ]
    },
    {
      "cell_type": "code",
      "execution_count": null,
      "metadata": {
        "colab": {
          "base_uri": "https://localhost:8080/",
          "height": 417
        },
        "id": "kIhd8dCDERZh",
        "outputId": "9412d9b1-d1f6-41b1-cb9b-cf783a81cd9d"
      },
      "outputs": [],
      "source": [
        "fig = px.pie(df_2018, names='origin',color_discrete_sequence=px.colors.qualitative.Pastel[4:6],title='origin dist',width=400, height=400)\n",
        "fig.update_traces(textposition='inside', textinfo='percent+label')\n",
        "\n",
        "fig.show()"
      ]
    },
    {
      "cell_type": "code",
      "execution_count": null,
      "metadata": {
        "colab": {
          "base_uri": "https://localhost:8080/",
          "height": 417
        },
        "id": "3-hxsY7C8oRB",
        "outputId": "537f4d42-6f58-4a73-99fa-ec2a60d5bb4d"
      },
      "outputs": [],
      "source": [
        "month_grouped=df_2018.groupby([\"month\",\"origin\"])[\"index\"].count().reset_index(name=\"count\")\n",
        "fig = px.bar(month_grouped, x=\"month\", y=\"count\", color=\"origin\", title=\"month split - train vs test\",text_auto=True,color_discrete_sequence=px.colors.qualitative.Pastel[4:6],width=1000, height=400)\n",
        "fig.show()"
      ]
    },
    {
      "cell_type": "markdown",
      "metadata": {
        "id": "CvSgMubw_Jmp"
      },
      "source": [
        "### label distrabution"
      ]
    },
    {
      "cell_type": "code",
      "execution_count": null,
      "metadata": {
        "colab": {
          "base_uri": "https://localhost:8080/",
          "height": 617
        },
        "id": "n87QT_og_Mio",
        "outputId": "f7ef4b5b-130b-46fd-c33f-1335f2972ceb"
      },
      "outputs": [],
      "source": [
        "label_grouped=df_2018.groupby([\"origin\",\"label\"])[\"index\"].count().reset_index(name=\"count\")\n",
        "label_grouped['label']=label_grouped['label'].astype(str)\n",
        "label_grouped['percent_label'] = 100 * label_grouped['count'] / label_grouped.groupby('origin')['count'].transform('sum')\n",
        "fig = px.bar(label_grouped, x=\"origin\", y=\"percent_label\",title=\"label split per origin\", color=\"label\", text=label_grouped['percent_label'],color_discrete_sequence=px.colors.qualitative.Pastel)\n",
        "fig.update_traces(texttemplate='%{text:.4}%')\n",
        "fig.update_layout(width=400,height=600)\n",
        "\n",
        "fig.show()\n"
      ]
    },
    {
      "cell_type": "markdown",
      "metadata": {
        "id": "BYnZQwRk_Ndg"
      },
      "source": [
        "### AV class distrabution"
      ]
    },
    {
      "cell_type": "code",
      "execution_count": null,
      "metadata": {
        "colab": {
          "base_uri": "https://localhost:8080/",
          "height": 668
        },
        "id": "K_o6Q_bSM0mB",
        "outputId": "6d627279-4e3a-4399-b3c3-616b592588c5"
      },
      "outputs": [],
      "source": [
        "avclass_grouped=df_2018.groupby([\"avclass\"])[\"index\"].count().reset_index(name=\"count\")\n",
        "avclass_grouped['avclass'].loc[avclass_grouped['count']<3000]=\"low_count_av_class\"\n",
        "fig = px.bar(avclass_grouped.sort_values(by=\"count\"), x=\"avclass\", y=\"count\", text_auto=True, title=\"avclass dist\",color_discrete_sequence=px.colors.qualitative.Pastel[8:9])\n",
        "fig.update_layout(width=1200,height=500)\n",
        "fig.show()"
      ]
    },
    {
      "cell_type": "code",
      "execution_count": null,
      "metadata": {
        "colab": {
          "base_uri": "https://localhost:8080/",
          "height": 617
        },
        "id": "EQ7iINBVFVrj",
        "outputId": "fee6a3b6-a040-4314-bc3c-ac13bd5caaad"
      },
      "outputs": [],
      "source": [
        "avclass_null_grouped=df_2018.groupby([\"origin\",\"avclass_null\"])[\"index\"].count().reset_index(name=\"count\")\n",
        "avclass_null_grouped['avclass_null']=avclass_null_grouped['avclass_null'].astype(str)\n",
        "avclass_null_grouped['percent_avclass_null'] = 100 * avclass_null_grouped['count'] / avclass_null_grouped.groupby('origin')['count'].transform('sum')\n",
        "fig = px.bar(avclass_null_grouped, x=\"origin\", y=\"percent_avclass_null\",title=\"has av class split per origin\", color=\"avclass_null\", text=avclass_null_grouped['percent_avclass_null'],color_discrete_sequence=px.colors.qualitative.Pastel[8:10])\n",
        "fig.update_traces(texttemplate='%{text:.4}%')\n",
        "fig.update_layout(width=400,height=600)\n",
        "fig.show()"
      ]
    },
    {
      "cell_type": "code",
      "execution_count": null,
      "metadata": {
        "colab": {
          "base_uri": "https://localhost:8080/",
          "height": 263
        },
        "id": "Lm6Zl2bHFuaN",
        "outputId": "cb328639-3b59-4a71-e334-7fd929a65f33"
      },
      "outputs": [],
      "source": [
        "avclass_null_label_grouped=df_2018.groupby([\"avclass_null\",\"label\",\"origin\"])[\"index\"].count().reset_index(name=\"count\")\n",
        "avclass_null_label_grouped['label']=avclass_null_label_grouped['label'].astype(str)\n",
        "avclass_null_label_grouped['percent_label'] = 100 * avclass_null_label_grouped['count'] / avclass_null_label_grouped.groupby(['avclass_null','origin'])['count'].transform('sum')\n",
        "\n",
        "fig = px.bar(avclass_null_label_grouped, x=\"avclass_null\", y=\"percent_label\",title=\"label split per avclass-has value or not\", color=\"label\", text=avclass_null_label_grouped['percent_label'],color_discrete_sequence=px.colors.qualitative.Pastel, facet_col=\"origin\")\n",
        "fig.update_traces(texttemplate='%{text:.4}%')\n",
        "fig.update_layout(width=1100,height=600,)\n",
        "\n",
        "fig.show()"
      ]
    },
    {
      "cell_type": "code",
      "execution_count": null,
      "metadata": {
        "colab": {
          "base_uri": "https://localhost:8080/"
        },
        "id": "JOh-uY6bDVzo",
        "outputId": "b9fd3f92-e02b-4cc7-ff39-2d55e6e87996"
      },
      "outputs": [],
      "source": [
        "df_2018.isna().sum()"
      ]
    },
    {
      "cell_type": "markdown",
      "metadata": {
        "id": "DZePb3XTLrg1"
      },
      "source": [
        "# <font color='lightgreen'>Data exploration - for checking feature importance</font>"
      ]
    },
    {
      "cell_type": "markdown",
      "metadata": {
        "id": "yrqxPRQgIzct"
      },
      "source": [
        "##Load train sampled data\n",
        " The exploration will be done on sampled data that will be used for the model as well.\n",
        " \n",
        " <font color='red'>**Ilan's to fill in how he sampled**</font>\n",
        "Sampling 80k samples from train set: \n",
        " 1. for every row having an avclass but labeled as -1 we switched the label to 1\n",
        " 2. rows having an empty string we put in unknown avclass\n",
        " 3. we sampled 60k rows according to the distribution of avclasses having more than 10k rows. all other avlasses were categorized as 'other'. The last 20k samples were chosen randomly from 'other' avclass"
      ]
    },
    {
      "cell_type": "code",
      "execution_count": null,
      "metadata": {
        "id": "L5rwWnNKIqCK"
      },
      "outputs": [],
      "source": [
        "path = \"data/processed/sample_train.csv\"\n",
        "sampled_train = pd.read_csv(path)"
      ]
    },
    {
      "cell_type": "code",
      "execution_count": null,
      "metadata": {
        "id": "We3VFP7rQhPj"
      },
      "outputs": [],
      "source": [
        "clean_train=prep_data(sampled_train)"
      ]
    },
    {
      "cell_type": "code",
      "execution_count": null,
      "metadata": {
        "colab": {
          "base_uri": "https://localhost:8080/"
        },
        "id": "YkcwY7YWJU_Y",
        "outputId": "d2c398bb-a77a-422e-9621-0c8286ad0470"
      },
      "outputs": [],
      "source": [
        "print(\"data shape is: \",clean_train.shape)"
      ]
    },
    {
      "cell_type": "code",
      "execution_count": null,
      "metadata": {
        "colab": {
          "base_uri": "https://localhost:8080/",
          "height": 270
        },
        "id": "Bf2TR7f1JhU6",
        "outputId": "ee6b06ff-1a05-4294-b176-5924d11568bd"
      },
      "outputs": [],
      "source": [
        "clean_train.head()"
      ]
    },
    {
      "cell_type": "markdown",
      "metadata": {
        "id": "z-oNqNkdNYzC"
      },
      "source": [
        "## av class"
      ]
    },
    {
      "cell_type": "code",
      "execution_count": null,
      "metadata": {
        "colab": {
          "base_uri": "https://localhost:8080/",
          "height": 542
        },
        "id": "w7FLHpPoL4DX",
        "outputId": "a013b2b6-a7a6-4c90-8b2c-181743965c78"
      },
      "outputs": [],
      "source": [
        "avclass_grouped2=clean_train.groupby([\"avclass\"])[\"sha256\"].count().reset_index(name=\"count\")\n",
        "fig = px.bar(avclass_grouped2.sort_values(by=\"count\"), x=\"avclass\", y=\"count\", text_auto=True, title=\"avclass dist\",color_discrete_sequence=px.colors.qualitative.Pastel[8:9])\n",
        "fig.show()\n"
      ]
    },
    {
      "cell_type": "code",
      "execution_count": null,
      "metadata": {
        "colab": {
          "base_uri": "https://localhost:8080/",
          "height": 617
        },
        "id": "vyiltX0pQSeW",
        "outputId": "4b1d33fe-8168-4b9e-b607-ddefd684ef76"
      },
      "outputs": [],
      "source": [
        "fig = px.pie(clean_train, names='avclass_null',color_discrete_sequence=px.colors.qualitative.Pastel[8:10],title='avclass_null dist',width=600, height=600)\n",
        "fig.update_traces(textposition='inside', textinfo='percent+label')\n",
        "\n",
        "fig.show()"
      ]
    },
    {
      "cell_type": "markdown",
      "metadata": {
        "id": "KivKEJw4dar9"
      },
      "source": [
        "## Categorial features"
      ]
    },
    {
      "cell_type": "code",
      "execution_count": null,
      "metadata": {
        "id": "WC47_jcEdaT_"
      },
      "outputs": [],
      "source": [
        "categiral_cols_lst=['has_debug','has_relocations','has_resources','has_signature','has_tls','month']"
      ]
    },
    {
      "cell_type": "code",
      "execution_count": null,
      "metadata": {
        "colab": {
          "base_uri": "https://localhost:8080/",
          "height": 1000
        },
        "id": "JwX1rw_bduqe",
        "outputId": "9e35314d-c5e3-4e86-b2e4-1ccb73cac5e7"
      },
      "outputs": [],
      "source": [
        "for col in categiral_cols_lst:\n",
        "  temp_grouped=clean_train.groupby([col,\"label\"])[\"sha256\"].count().reset_index(name=\"count\")\n",
        "  temp_grouped['label']=temp_grouped['label'].astype(str)\n",
        "  temp_grouped['percent_label'] = 100 * temp_grouped['count'] / temp_grouped.groupby(col)['count'].transform('sum')\n",
        "\n",
        "  fig = px.bar(temp_grouped, x=col, y=\"percent_label\",title=\"label split per \"+col, color=\"label\", text=temp_grouped['percent_label'],color_discrete_sequence=px.colors.qualitative.Pastel)\n",
        "  fig.update_traces(texttemplate='%{text:.4}%')\n",
        "  fig.update_layout(width=800,height=800,)\n",
        "\n",
        "  fig.show()"
      ]
    },
    {
      "cell_type": "markdown",
      "metadata": {
        "id": "8jRjjNi7dfXX"
      },
      "source": [
        "## Categorial features"
      ]
    },
    {
      "cell_type": "markdown",
      "metadata": {
        "id": "wyTLwluWe9E8"
      },
      "source": [
        "## Numeric features"
      ]
    },
    {
      "cell_type": "code",
      "execution_count": null,
      "metadata": {
        "id": "Cc3Raydfea20"
      },
      "outputs": [],
      "source": [
        "all_cols_lst=clean_train.columns.to_list()\n",
        "index_n_labels_cols=['index','sha256','md5','label','avclass','avclass_null']\n",
        "relevant_cols_lst = [col for col in all_cols_lst if col not in index_n_labels_cols]\n",
        "numeric_cols_lst = [col for col in relevant_cols_lst if col not in categiral_cols_lst]"
      ]
    },
    {
      "cell_type": "code",
      "execution_count": null,
      "metadata": {
        "colab": {
          "base_uri": "https://localhost:8080/",
          "height": 1000
        },
        "id": "QfLDG120fnFk",
        "outputId": "c334e2ca-837c-4888-e175-307f60d70d8b"
      },
      "outputs": [],
      "source": [
        "for col in numeric_cols_lst:\n",
        "  log_col=col+\"_log\"\n",
        "  clean_train[log_col]=np.log10(clean_train[col]) # converting to log for better visualisation\n",
        "  fig = px.violin(clean_train, y=log_col, x=\"label\",box=True,color_discrete_sequence=px.colors.qualitative.Pastel, color=\"label\",title=\"Box plot (violin) of log \"+col)\n",
        "  fig.update_layout(width=800,height=800,)\n",
        "  fig.show()"
      ]
    },
    {
      "cell_type": "markdown",
      "metadata": {
        "id": "9eSeVA6eWfdK"
      },
      "source": [
        "## Feature selection and engineering"
      ]
    },
    {
      "cell_type": "code",
      "execution_count": null,
      "metadata": {
        "id": "jq3MmR3gMLsZ"
      },
      "outputs": [],
      "source": [
        "clean_train['has_debug_relocations_resources_signature']=clean_train['has_debug']*clean_train['has_relocations']*clean_train['has_resources']*clean_train['has_signature']"
      ]
    },
    {
      "cell_type": "code",
      "execution_count": null,
      "metadata": {
        "id": "uK661vBcMyNv"
      },
      "outputs": [],
      "source": [
        "all_features_clean_train=clean_train"
      ]
    },
    {
      "cell_type": "code",
      "execution_count": null,
      "metadata": {
        "id": "HRvwkvfaM5v7"
      },
      "outputs": [],
      "source": [
        "clean_train=all_features_clean_train[['label','has_debug_relocations_resources_signature','size','vsize','symbols','numstrings','avlength','paths','urls','registry','MZ']]"
      ]
    },
    {
      "cell_type": "markdown",
      "metadata": {
        "id": "Wa09JGCQWkDZ"
      },
      "source": [
        "### heatmap"
      ]
    },
    {
      "cell_type": "code",
      "execution_count": null,
      "metadata": {
        "id": "QtKaABFBxa-K"
      },
      "outputs": [],
      "source": [
        "from sklearn.preprocessing import MinMaxScaler\n",
        "\n",
        "scaler = MinMaxScaler()\n",
        "scaler.fit(clean_train)\n",
        "scaled = scaler.transform(clean_train)\n",
        "train_scaled = pd.DataFrame(scaled,columns=clean_train.columns.to_list())"
      ]
    },
    {
      "cell_type": "code",
      "execution_count": null,
      "metadata": {
        "colab": {
          "base_uri": "https://localhost:8080/",
          "height": 817
        },
        "id": "S0aEyk9QK8z1",
        "outputId": "624319c2-0568-4b31-cf8a-27fe9e81cee6"
      },
      "outputs": [],
      "source": [
        "\n",
        "corr_matrix = train_scaled.corr()\n",
        "fig = px.imshow(corr_matrix, text_auto=True)\n",
        "fig.update_layout(width=1000,height=800,)\n",
        "fig.show()"
      ]
    },
    {
      "cell_type": "code",
      "execution_count": null,
      "metadata": {
        "id": "zrmyVaT2VVqn"
      },
      "outputs": [],
      "source": [
        "clean_train=clean_train.drop(columns=['MZ','numstrings'])"
      ]
    },
    {
      "cell_type": "markdown",
      "metadata": {
        "id": "TNUgPS17Wnm9"
      },
      "source": [
        "### tsne"
      ]
    },
    {
      "cell_type": "code",
      "execution_count": null,
      "metadata": {
        "colab": {
          "base_uri": "https://localhost:8080/",
          "height": 686
        },
        "id": "H70Mi99XUub8",
        "outputId": "bc268169-57fd-44d7-9580-9ead5ece6f37"
      },
      "outputs": [],
      "source": [
        "\n",
        "features = clean_train[['has_debug_relocations_resources_signature','size','vsize','symbols','avlength','paths','urls','registry']]\n",
        "\n",
        "tsne = TSNE(n_components=2, random_state=42)\n",
        "projections = tsne.fit_transform(features)\n",
        "\n",
        "fig = px.scatter(\n",
        "    projections, x=0, y=1,\n",
        "    color=clean_train.label, labels={'color': 'label'}\n",
        ")\n",
        "fig.show()"
      ]
    },
    {
      "cell_type": "markdown",
      "metadata": {
        "id": "v0DBWdWGeekU"
      },
      "source": [
        "###<u>**Features selection explanation:**</u> \n",
        "\n",
        "<u> Categorial features:</u> \n",
        "\n",
        "- since we don't have all months and the trend is not super clear we can ignore this field\n",
        "\n",
        "- since all the binary fields except has tls distrabute the same we can combine them into 1, has tls doesn't seem ot contribute a lot by itself\n",
        "\n",
        "<u> Numeric features:</u> \n",
        "- printables seems to distrabute the same for lable 0 anfd 1 therefore not needed\n",
        "- entropy seems to distrabute the same for lable 0 anfd 1 therefore not needed\n",
        "- size is correlated to MZ and numstrings so we can remove MZ,numstirngs and keep only size (it's also a bit more correlated with the label than the other two)\n"
      ]
    },
    {
      "cell_type": "code",
      "execution_count": null,
      "metadata": {
        "colab": {
          "base_uri": "https://localhost:8080/",
          "height": 224
        },
        "id": "GhTqPgEVlaHg",
        "outputId": "7d0c56c9-94f0-4a00-8dfb-2a830e138d09"
      },
      "outputs": [],
      "source": [
        "print(\"final data set for training:\")\n",
        "clean_train.head()"
      ]
    },
    {
      "cell_type": "code",
      "execution_count": null,
      "metadata": {
        "id": "B1H12IoimPRw"
      },
      "outputs": [],
      "source": [
        "# clean_train.to_csv('clean_sampled_train.csv')\n",
        "# !cp clean_sampled_train.csv \"/content/drive/MyDrive/Ai in Cybersecurity/task 1/data_files/clean_sampled_train.csv\""
      ]
    }
  ],
  "metadata": {
    "colab": {
      "provenance": []
    },
    "kernelspec": {
      "display_name": "base",
      "language": "python",
      "name": "python3"
    },
    "language_info": {
      "codemirror_mode": {
        "name": "ipython",
        "version": 3
      },
      "file_extension": ".py",
      "mimetype": "text/x-python",
      "name": "python",
      "nbconvert_exporter": "python",
      "pygments_lexer": "ipython3",
      "version": "3.8.8"
    },
    "vscode": {
      "interpreter": {
        "hash": "d0d24260c26781aab6a6247b3ae992ece4f26fd75ea3713b7a84756a27d5e272"
      }
    }
  },
  "nbformat": 4,
  "nbformat_minor": 0
}
