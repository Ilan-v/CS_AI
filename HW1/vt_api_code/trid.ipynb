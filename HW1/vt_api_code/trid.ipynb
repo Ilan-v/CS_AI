{
 "cells": [
  {
   "cell_type": "code",
   "execution_count": 1,
   "metadata": {},
   "outputs": [],
   "source": [
    "import pandas as pd\n",
    "import numpy as np"
   ]
  },
  {
   "cell_type": "code",
   "execution_count": null,
   "metadata": {},
   "outputs": [],
   "source": [
    "vt_data_path = \"data/virustotal/train_vt_data.csv\"\n",
    "vt_df = pd.read_csv(vt_data_path)"
   ]
  },
  {
   "cell_type": "code",
   "execution_count": null,
   "metadata": {},
   "outputs": [],
   "source": [
    "# convert trid to list of dictionaries\n",
    "vt_df['trid'] = vt_df['trid'].apply(lambda x: eval(x))"
   ]
  },
  {
   "cell_type": "code",
   "execution_count": null,
   "metadata": {},
   "outputs": [],
   "source": [
    "trid_probs = {}\n",
    "def update_trid_dic(trid_list):\n",
    "    for trid in trid_list:\n",
    "        # count \n",
    "        trid_prob_lst = trid_probs.get(trid['file_type'], [])\n",
    "        trid_prob_lst.append(trid['probability'])\n",
    "        trid_probs[trid['file_type']] = trid_prob_lst\n",
    "\n",
    "a = vt_df['trid'].apply(update_trid_dic)"
   ]
  },
  {
   "cell_type": "code",
   "execution_count": null,
   "metadata": {},
   "outputs": [],
   "source": [
    "# convert to dataframe\n",
    "keys = list(trid_probs.keys())\n",
    "values = list(trid_probs.values())\n",
    "trid_df = pd.DataFrame({'file_type': keys, 'probabilities': values})"
   ]
  },
  {
   "cell_type": "code",
   "execution_count": null,
   "metadata": {},
   "outputs": [],
   "source": [
    "# extract attributes\n",
    "trid_df['num_probabilities'] = trid_df['probabilities'].apply(lambda x: len(x))\n",
    "trid_df['mean'] = trid_df['probabilities'].apply(lambda x: np.mean(x))\n",
    "trid_df['median'] = trid_df['probabilities'].apply(lambda x: np.median(x))\n",
    "trid_df['std'] = trid_df['probabilities'].apply(lambda x: np.std(x))\n",
    "trid_df['min'] = trid_df['probabilities'].apply(lambda x: np.min(x))\n",
    "trid_df['max'] = trid_df['probabilities'].apply(lambda x: np.max(x))\n",
    "trid_df['weighted_sum']  = trid_df['probabilities'].apply(lambda x: np.sum(x))"
   ]
  }
 ],
 "metadata": {
  "kernelspec": {
   "display_name": "base",
   "language": "python",
   "name": "python3"
  },
  "language_info": {
   "codemirror_mode": {
    "name": "ipython",
    "version": 3
   },
   "file_extension": ".py",
   "mimetype": "text/x-python",
   "name": "python",
   "nbconvert_exporter": "python",
   "pygments_lexer": "ipython3",
   "version": "3.9.7"
  },
  "orig_nbformat": 4,
  "vscode": {
   "interpreter": {
    "hash": "5f2772d500cfd5a3727f553e00f078c3ed1413cb482c87be9f8795da4fd24128"
   }
  }
 },
 "nbformat": 4,
 "nbformat_minor": 2
}
