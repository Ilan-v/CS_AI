{
 "cells": [
  {
   "cell_type": "code",
   "execution_count": 1,
   "metadata": {},
   "outputs": [],
   "source": [
    "import json\n",
    "import pandas as pd\n",
    "import os"
   ]
  },
  {
   "cell_type": "code",
   "execution_count": 2,
   "metadata": {},
   "outputs": [],
   "source": [
    "data_dir = 'data/virustotal/'\n",
    "train_dir = data_dir + 'train/'\n",
    "test_dir = data_dir + 'test/'"
   ]
  },
  {
   "cell_type": "code",
   "execution_count": 3,
   "metadata": {},
   "outputs": [],
   "source": [
    "example_file = train_dir + 'train_file_data_1.json'"
   ]
  },
  {
   "cell_type": "code",
   "execution_count": 4,
   "metadata": {},
   "outputs": [],
   "source": [
    "# open example file\n",
    "with open(example_file) as f:\n",
    "    data = json.load(f)"
   ]
  },
  {
   "cell_type": "code",
   "execution_count": 5,
   "metadata": {},
   "outputs": [],
   "source": [
    "df = pd.DataFrame(data.keys(), columns=['sha256'])"
   ]
  },
  {
   "cell_type": "code",
   "execution_count": 6,
   "metadata": {},
   "outputs": [],
   "source": [
    "# data.keys()"
   ]
  },
  {
   "cell_type": "code",
   "execution_count": 8,
   "metadata": {},
   "outputs": [
    {
     "data": {
      "text/plain": [
       "{'harmless': 0,\n",
       " 'type-unsupported': 2,\n",
       " 'suspicious': 0,\n",
       " 'confirmed-timeout': 0,\n",
       " 'timeout': 0,\n",
       " 'failure': 0,\n",
       " 'malicious': 57,\n",
       " 'undetected': 13}"
      ]
     },
     "execution_count": 8,
     "metadata": {},
     "output_type": "execute_result"
    }
   ],
   "source": [
    "data['6c5599c437e92f6b97ec19065adff95074010f3d3677504c48744a6439a75cff']['data']['attributes']['last_analysis_stats']"
   ]
  },
  {
   "cell_type": "code",
   "execution_count": 15,
   "metadata": {},
   "outputs": [],
   "source": [
    "df['num_undetected'] = df['sha256'].apply(lambda x: data[x]['data']['attributes']['last_analysis_stats']['undetected'])\n",
    "df['num_malicious'] = df['sha256'].apply(lambda x: data[x]['data']['attributes']['last_analysis_stats']['malicious'])\n",
    "df['num_harmless'] = df['sha256'].apply(lambda x: data[x]['data']['attributes']['last_analysis_stats']['harmless'])"
   ]
  },
  {
   "cell_type": "code",
   "execution_count": 16,
   "metadata": {},
   "outputs": [],
   "source": [
    "df['trid'] = df['sha256'].apply(lambda x: data[x]['data']['attributes']['trid'])"
   ]
  },
  {
   "cell_type": "code",
   "execution_count": 17,
   "metadata": {},
   "outputs": [
    {
     "data": {
      "text/html": [
       "<div>\n",
       "<style scoped>\n",
       "    .dataframe tbody tr th:only-of-type {\n",
       "        vertical-align: middle;\n",
       "    }\n",
       "\n",
       "    .dataframe tbody tr th {\n",
       "        vertical-align: top;\n",
       "    }\n",
       "\n",
       "    .dataframe thead th {\n",
       "        text-align: right;\n",
       "    }\n",
       "</style>\n",
       "<table border=\"1\" class=\"dataframe\">\n",
       "  <thead>\n",
       "    <tr style=\"text-align: right;\">\n",
       "      <th></th>\n",
       "      <th>sha256</th>\n",
       "      <th>num_undetected</th>\n",
       "      <th>num_malicious</th>\n",
       "      <th>num_harmless</th>\n",
       "      <th>trid</th>\n",
       "    </tr>\n",
       "  </thead>\n",
       "  <tbody>\n",
       "    <tr>\n",
       "      <th>0</th>\n",
       "      <td>6c5599c437e92f6b97ec19065adff95074010f3d367750...</td>\n",
       "      <td>13</td>\n",
       "      <td>57</td>\n",
       "      <td>0</td>\n",
       "      <td>[{'file_type': 'Win32 EXE PECompact compressed...</td>\n",
       "    </tr>\n",
       "  </tbody>\n",
       "</table>\n",
       "</div>"
      ],
      "text/plain": [
       "                                              sha256  num_undetected  \\\n",
       "0  6c5599c437e92f6b97ec19065adff95074010f3d367750...              13   \n",
       "\n",
       "   num_malicious  num_harmless  \\\n",
       "0             57             0   \n",
       "\n",
       "                                                trid  \n",
       "0  [{'file_type': 'Win32 EXE PECompact compressed...  "
      ]
     },
     "execution_count": 17,
     "metadata": {},
     "output_type": "execute_result"
    }
   ],
   "source": [
    "df[df.sha256 == '6c5599c437e92f6b97ec19065adff95074010f3d3677504c48744a6439a75cff']"
   ]
  }
 ],
 "metadata": {
  "kernelspec": {
   "display_name": "base",
   "language": "python",
   "name": "python3"
  },
  "language_info": {
   "codemirror_mode": {
    "name": "ipython",
    "version": 3
   },
   "file_extension": ".py",
   "mimetype": "text/x-python",
   "name": "python",
   "nbconvert_exporter": "python",
   "pygments_lexer": "ipython3",
   "version": "3.9.7 (default, Sep 16 2021, 16:59:28) [MSC v.1916 64 bit (AMD64)]"
  },
  "orig_nbformat": 4,
  "vscode": {
   "interpreter": {
    "hash": "5f2772d500cfd5a3727f553e00f078c3ed1413cb482c87be9f8795da4fd24128"
   }
  }
 },
 "nbformat": 4,
 "nbformat_minor": 2
}
