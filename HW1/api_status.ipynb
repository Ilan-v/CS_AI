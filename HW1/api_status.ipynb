{
 "cells": [
  {
   "cell_type": "code",
   "execution_count": 35,
   "metadata": {},
   "outputs": [],
   "source": [
    "import pandas as pd\n",
    "import json"
   ]
  },
  {
   "cell_type": "code",
   "execution_count": 41,
   "metadata": {},
   "outputs": [],
   "source": [
    "train_status_df = pd.read_csv('data/virustotal/train_file_status.csv')"
   ]
  },
  {
   "cell_type": "code",
   "execution_count": 27,
   "metadata": {},
   "outputs": [
    {
     "data": {
      "text/html": [
       "<div>\n",
       "<style scoped>\n",
       "    .dataframe tbody tr th:only-of-type {\n",
       "        vertical-align: middle;\n",
       "    }\n",
       "\n",
       "    .dataframe tbody tr th {\n",
       "        vertical-align: top;\n",
       "    }\n",
       "\n",
       "    .dataframe thead th {\n",
       "        text-align: right;\n",
       "    }\n",
       "</style>\n",
       "<table border=\"1\" class=\"dataframe\">\n",
       "  <thead>\n",
       "    <tr style=\"text-align: right;\">\n",
       "      <th></th>\n",
       "      <th>sha256</th>\n",
       "      <th>status_code</th>\n",
       "      <th>timestamp</th>\n",
       "      <th>file_number</th>\n",
       "    </tr>\n",
       "  </thead>\n",
       "  <tbody>\n",
       "    <tr>\n",
       "      <th>0</th>\n",
       "      <td>4e95598af9069d1bd6e3d4ebce8cedcdb6f0cb2dcde256...</td>\n",
       "      <td>200</td>\n",
       "      <td>2022-12-08 19:29:45.320117</td>\n",
       "      <td>0</td>\n",
       "    </tr>\n",
       "    <tr>\n",
       "      <th>1</th>\n",
       "      <td>95418ae82b6df09e74a4a61465456c9cdd3a837be31591...</td>\n",
       "      <td>200</td>\n",
       "      <td>2022-12-08 19:29:45.877640</td>\n",
       "      <td>0</td>\n",
       "    </tr>\n",
       "    <tr>\n",
       "      <th>2</th>\n",
       "      <td>5775b3768a1cbfade40ebdf80ede44f56d13c486ac758c...</td>\n",
       "      <td>200</td>\n",
       "      <td>2022-12-08 19:29:46.396444</td>\n",
       "      <td>0</td>\n",
       "    </tr>\n",
       "    <tr>\n",
       "      <th>3</th>\n",
       "      <td>8295854d7621d23d22a12f27834b3a0c72558e9d7f5302...</td>\n",
       "      <td>200</td>\n",
       "      <td>2022-12-08 19:29:47.255967</td>\n",
       "      <td>0</td>\n",
       "    </tr>\n",
       "    <tr>\n",
       "      <th>4</th>\n",
       "      <td>caa78b62d2b99ccc02f01c2fda1cf83144703845c87c92...</td>\n",
       "      <td>200</td>\n",
       "      <td>2022-12-08 19:29:48.004431</td>\n",
       "      <td>0</td>\n",
       "    </tr>\n",
       "  </tbody>\n",
       "</table>\n",
       "</div>"
      ],
      "text/plain": [
       "                                              sha256  status_code  \\\n",
       "0  4e95598af9069d1bd6e3d4ebce8cedcdb6f0cb2dcde256...          200   \n",
       "1  95418ae82b6df09e74a4a61465456c9cdd3a837be31591...          200   \n",
       "2  5775b3768a1cbfade40ebdf80ede44f56d13c486ac758c...          200   \n",
       "3  8295854d7621d23d22a12f27834b3a0c72558e9d7f5302...          200   \n",
       "4  caa78b62d2b99ccc02f01c2fda1cf83144703845c87c92...          200   \n",
       "\n",
       "                    timestamp  file_number  \n",
       "0  2022-12-08 19:29:45.320117            0  \n",
       "1  2022-12-08 19:29:45.877640            0  \n",
       "2  2022-12-08 19:29:46.396444            0  \n",
       "3  2022-12-08 19:29:47.255967            0  \n",
       "4  2022-12-08 19:29:48.004431            0  "
      ]
     },
     "execution_count": 27,
     "metadata": {},
     "output_type": "execute_result"
    }
   ],
   "source": [
    "train_status_df.head(5)"
   ]
  },
  {
   "cell_type": "code",
   "execution_count": 39,
   "metadata": {},
   "outputs": [
    {
     "data": {
      "text/plain": [
       "29013"
      ]
     },
     "execution_count": 39,
     "metadata": {},
     "output_type": "execute_result"
    }
   ],
   "source": [
    "train_status_df[train_status_df['status_code'] == 0].index[0]"
   ]
  },
  {
   "cell_type": "code",
   "execution_count": 14,
   "metadata": {},
   "outputs": [
    {
     "data": {
      "text/plain": [
       "(22013, 3)"
      ]
     },
     "execution_count": 14,
     "metadata": {},
     "output_type": "execute_result"
    }
   ],
   "source": [
    "train_status_df[train_status_df['status_code'] == 200].shape"
   ]
  },
  {
   "cell_type": "code",
   "execution_count": 40,
   "metadata": {},
   "outputs": [],
   "source": [
    "json_path = 'data/virustotal/train_file_data_0.json'\n",
    "with open(json_path, 'r') as f:\n",
    "    data_dic = json.load(f)"
   ]
  },
  {
   "cell_type": "code",
   "execution_count": 44,
   "metadata": {},
   "outputs": [],
   "source": [
    "train_status_df.loc[~train_status_df.sha256.isin(data_dic.keys()),'status_code'] = 0\n",
    "train_status_df.loc[~train_status_df.sha256.isin(data_dic.keys()),'timestamp'] = None\n",
    "train_status_df.loc[~train_status_df.sha256.isin(data_dic.keys()),'file_number'] = -1"
   ]
  },
  {
   "cell_type": "code",
   "execution_count": 47,
   "metadata": {},
   "outputs": [
    {
     "data": {
      "text/plain": [
       "sha256         57987\n",
       "status_code    57987\n",
       "timestamp          0\n",
       "file_number    57987\n",
       "dtype: int64"
      ]
     },
     "execution_count": 47,
     "metadata": {},
     "output_type": "execute_result"
    }
   ],
   "source": [
    "train_status_df[train_status_df['status_code']<200].count()"
   ]
  },
  {
   "cell_type": "code",
   "execution_count": 38,
   "metadata": {},
   "outputs": [
    {
     "data": {
      "text/html": [
       "<div>\n",
       "<style scoped>\n",
       "    .dataframe tbody tr th:only-of-type {\n",
       "        vertical-align: middle;\n",
       "    }\n",
       "\n",
       "    .dataframe tbody tr th {\n",
       "        vertical-align: top;\n",
       "    }\n",
       "\n",
       "    .dataframe thead th {\n",
       "        text-align: right;\n",
       "    }\n",
       "</style>\n",
       "<table border=\"1\" class=\"dataframe\">\n",
       "  <thead>\n",
       "    <tr style=\"text-align: right;\">\n",
       "      <th></th>\n",
       "      <th>sha256</th>\n",
       "      <th>status_code</th>\n",
       "      <th>timestamp</th>\n",
       "      <th>file_number</th>\n",
       "    </tr>\n",
       "  </thead>\n",
       "  <tbody>\n",
       "    <tr>\n",
       "      <th>29420</th>\n",
       "      <td>9ba1e1cb3e80d4bca26035709d3ecff3a8cca3fa461ee2...</td>\n",
       "      <td>0</td>\n",
       "      <td>NaN</td>\n",
       "      <td>-1</td>\n",
       "    </tr>\n",
       "    <tr>\n",
       "      <th>29421</th>\n",
       "      <td>a288b97eb730fc356acfde101ac43f40d290021e39859f...</td>\n",
       "      <td>0</td>\n",
       "      <td>NaN</td>\n",
       "      <td>-1</td>\n",
       "    </tr>\n",
       "    <tr>\n",
       "      <th>29422</th>\n",
       "      <td>9381b8e6a0363387c65e76be23768ca4af3b6bf494c95b...</td>\n",
       "      <td>0</td>\n",
       "      <td>NaN</td>\n",
       "      <td>-1</td>\n",
       "    </tr>\n",
       "    <tr>\n",
       "      <th>29423</th>\n",
       "      <td>5d0d8aee1babd17d3ab651e01dc8ddfe01bd83ec0404bd...</td>\n",
       "      <td>0</td>\n",
       "      <td>NaN</td>\n",
       "      <td>-1</td>\n",
       "    </tr>\n",
       "    <tr>\n",
       "      <th>29424</th>\n",
       "      <td>77fcc05b1864097b424c0c0de6446f0b98f086b947c66c...</td>\n",
       "      <td>0</td>\n",
       "      <td>NaN</td>\n",
       "      <td>-1</td>\n",
       "    </tr>\n",
       "    <tr>\n",
       "      <th>29425</th>\n",
       "      <td>a08bd75cfa59f72b44ed12f0d6fbca2cf26c1bdd4eff59...</td>\n",
       "      <td>0</td>\n",
       "      <td>NaN</td>\n",
       "      <td>-1</td>\n",
       "    </tr>\n",
       "    <tr>\n",
       "      <th>29426</th>\n",
       "      <td>d7e3bea5062bc2e1e1464a1ec993fb02248142da61b093...</td>\n",
       "      <td>0</td>\n",
       "      <td>NaN</td>\n",
       "      <td>-1</td>\n",
       "    </tr>\n",
       "    <tr>\n",
       "      <th>29427</th>\n",
       "      <td>0c0c40927984b444450c4bbc82c2867ad08d7809480916...</td>\n",
       "      <td>0</td>\n",
       "      <td>NaN</td>\n",
       "      <td>-1</td>\n",
       "    </tr>\n",
       "    <tr>\n",
       "      <th>29428</th>\n",
       "      <td>a2a48b2c7d74494345470915eb680106faa0ec8aceb975...</td>\n",
       "      <td>0</td>\n",
       "      <td>NaN</td>\n",
       "      <td>-1</td>\n",
       "    </tr>\n",
       "    <tr>\n",
       "      <th>29429</th>\n",
       "      <td>1f094f8d28d5c04bb0ed905f3b83437c9cb2262688e72a...</td>\n",
       "      <td>0</td>\n",
       "      <td>NaN</td>\n",
       "      <td>-1</td>\n",
       "    </tr>\n",
       "    <tr>\n",
       "      <th>29430</th>\n",
       "      <td>60786b2479318628680209b3a49d2e339022b72b62c953...</td>\n",
       "      <td>0</td>\n",
       "      <td>NaN</td>\n",
       "      <td>-1</td>\n",
       "    </tr>\n",
       "  </tbody>\n",
       "</table>\n",
       "</div>"
      ],
      "text/plain": [
       "                                                  sha256  status_code  \\\n",
       "29420  9ba1e1cb3e80d4bca26035709d3ecff3a8cca3fa461ee2...            0   \n",
       "29421  a288b97eb730fc356acfde101ac43f40d290021e39859f...            0   \n",
       "29422  9381b8e6a0363387c65e76be23768ca4af3b6bf494c95b...            0   \n",
       "29423  5d0d8aee1babd17d3ab651e01dc8ddfe01bd83ec0404bd...            0   \n",
       "29424  77fcc05b1864097b424c0c0de6446f0b98f086b947c66c...            0   \n",
       "29425  a08bd75cfa59f72b44ed12f0d6fbca2cf26c1bdd4eff59...            0   \n",
       "29426  d7e3bea5062bc2e1e1464a1ec993fb02248142da61b093...            0   \n",
       "29427  0c0c40927984b444450c4bbc82c2867ad08d7809480916...            0   \n",
       "29428  a2a48b2c7d74494345470915eb680106faa0ec8aceb975...            0   \n",
       "29429  1f094f8d28d5c04bb0ed905f3b83437c9cb2262688e72a...            0   \n",
       "29430  60786b2479318628680209b3a49d2e339022b72b62c953...            0   \n",
       "\n",
       "      timestamp  file_number  \n",
       "29420       NaN           -1  \n",
       "29421       NaN           -1  \n",
       "29422       NaN           -1  \n",
       "29423       NaN           -1  \n",
       "29424       NaN           -1  \n",
       "29425       NaN           -1  \n",
       "29426       NaN           -1  \n",
       "29427       NaN           -1  \n",
       "29428       NaN           -1  \n",
       "29429       NaN           -1  \n",
       "29430       NaN           -1  "
      ]
     },
     "execution_count": 38,
     "metadata": {},
     "output_type": "execute_result"
    }
   ],
   "source": [
    "sha = 'd7e3bea5062bc2e1e1464a1ec993fb02248142da61b0932662a8fb16d3632f52'\n",
    "train_status_df.loc[29420:29430]"
   ]
  },
  {
   "cell_type": "code",
   "execution_count": 23,
   "metadata": {},
   "outputs": [],
   "source": [
    "train_status_df['file_number'] = 0"
   ]
  },
  {
   "cell_type": "code",
   "execution_count": 34,
   "metadata": {},
   "outputs": [
    {
     "data": {
      "text/plain": [
       "0"
      ]
     },
     "execution_count": 34,
     "metadata": {},
     "output_type": "execute_result"
    }
   ],
   "source": [
    "train_status_df.loc[220136,'file_number'] = -1\n",
    "int(train_status_df['file_number'].max())"
   ]
  },
  {
   "cell_type": "code",
   "execution_count": 48,
   "metadata": {},
   "outputs": [],
   "source": [
    "# train_status_df.to_csv('data/virustotal/train_file_status.csv', index=False)"
   ]
  }
 ],
 "metadata": {
  "kernelspec": {
   "display_name": "base",
   "language": "python",
   "name": "python3"
  },
  "language_info": {
   "codemirror_mode": {
    "name": "ipython",
    "version": 3
   },
   "file_extension": ".py",
   "mimetype": "text/x-python",
   "name": "python",
   "nbconvert_exporter": "python",
   "pygments_lexer": "ipython3",
   "version": "3.8.8"
  },
  "orig_nbformat": 4,
  "vscode": {
   "interpreter": {
    "hash": "d0d24260c26781aab6a6247b3ae992ece4f26fd75ea3713b7a84756a27d5e272"
   }
  }
 },
 "nbformat": 4,
 "nbformat_minor": 2
}
