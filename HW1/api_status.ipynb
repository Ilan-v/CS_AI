{
 "cells": [
  {
   "cell_type": "code",
   "execution_count": 3,
   "metadata": {},
   "outputs": [],
   "source": [
    "import pandas as pd\n",
    "import json"
   ]
  },
  {
   "cell_type": "code",
   "execution_count": 26,
   "metadata": {},
   "outputs": [],
   "source": [
    "train_status_df = pd.read_csv('data/virustotal/train_file_status.csv')"
   ]
  },
  {
   "cell_type": "code",
   "execution_count": 27,
   "metadata": {},
   "outputs": [
    {
     "data": {
      "text/html": [
       "<div>\n",
       "<style scoped>\n",
       "    .dataframe tbody tr th:only-of-type {\n",
       "        vertical-align: middle;\n",
       "    }\n",
       "\n",
       "    .dataframe tbody tr th {\n",
       "        vertical-align: top;\n",
       "    }\n",
       "\n",
       "    .dataframe thead th {\n",
       "        text-align: right;\n",
       "    }\n",
       "</style>\n",
       "<table border=\"1\" class=\"dataframe\">\n",
       "  <thead>\n",
       "    <tr style=\"text-align: right;\">\n",
       "      <th></th>\n",
       "      <th>sha256</th>\n",
       "      <th>status_code</th>\n",
       "      <th>timestamp</th>\n",
       "      <th>file_number</th>\n",
       "    </tr>\n",
       "  </thead>\n",
       "  <tbody>\n",
       "    <tr>\n",
       "      <th>0</th>\n",
       "      <td>4e95598af9069d1bd6e3d4ebce8cedcdb6f0cb2dcde256...</td>\n",
       "      <td>200</td>\n",
       "      <td>2022-12-08 19:29:45.320117</td>\n",
       "      <td>0</td>\n",
       "    </tr>\n",
       "    <tr>\n",
       "      <th>1</th>\n",
       "      <td>95418ae82b6df09e74a4a61465456c9cdd3a837be31591...</td>\n",
       "      <td>200</td>\n",
       "      <td>2022-12-08 19:29:45.877640</td>\n",
       "      <td>0</td>\n",
       "    </tr>\n",
       "    <tr>\n",
       "      <th>2</th>\n",
       "      <td>5775b3768a1cbfade40ebdf80ede44f56d13c486ac758c...</td>\n",
       "      <td>200</td>\n",
       "      <td>2022-12-08 19:29:46.396444</td>\n",
       "      <td>0</td>\n",
       "    </tr>\n",
       "    <tr>\n",
       "      <th>3</th>\n",
       "      <td>8295854d7621d23d22a12f27834b3a0c72558e9d7f5302...</td>\n",
       "      <td>200</td>\n",
       "      <td>2022-12-08 19:29:47.255967</td>\n",
       "      <td>0</td>\n",
       "    </tr>\n",
       "    <tr>\n",
       "      <th>4</th>\n",
       "      <td>caa78b62d2b99ccc02f01c2fda1cf83144703845c87c92...</td>\n",
       "      <td>200</td>\n",
       "      <td>2022-12-08 19:29:48.004431</td>\n",
       "      <td>0</td>\n",
       "    </tr>\n",
       "  </tbody>\n",
       "</table>\n",
       "</div>"
      ],
      "text/plain": [
       "                                              sha256  status_code  \\\n",
       "0  4e95598af9069d1bd6e3d4ebce8cedcdb6f0cb2dcde256...          200   \n",
       "1  95418ae82b6df09e74a4a61465456c9cdd3a837be31591...          200   \n",
       "2  5775b3768a1cbfade40ebdf80ede44f56d13c486ac758c...          200   \n",
       "3  8295854d7621d23d22a12f27834b3a0c72558e9d7f5302...          200   \n",
       "4  caa78b62d2b99ccc02f01c2fda1cf83144703845c87c92...          200   \n",
       "\n",
       "                    timestamp  file_number  \n",
       "0  2022-12-08 19:29:45.320117            0  \n",
       "1  2022-12-08 19:29:45.877640            0  \n",
       "2  2022-12-08 19:29:46.396444            0  \n",
       "3  2022-12-08 19:29:47.255967            0  \n",
       "4  2022-12-08 19:29:48.004431            0  "
      ]
     },
     "execution_count": 27,
     "metadata": {},
     "output_type": "execute_result"
    }
   ],
   "source": [
    "train_status_df.head(5)"
   ]
  },
  {
   "cell_type": "code",
   "execution_count": 13,
   "metadata": {},
   "outputs": [
    {
     "data": {
      "text/plain": [
       "22013"
      ]
     },
     "execution_count": 13,
     "metadata": {},
     "output_type": "execute_result"
    }
   ],
   "source": [
    "train_status_df[train_status_df['status_code'] == 0].index[0]"
   ]
  },
  {
   "cell_type": "code",
   "execution_count": 14,
   "metadata": {},
   "outputs": [
    {
     "data": {
      "text/plain": [
       "(22013, 3)"
      ]
     },
     "execution_count": 14,
     "metadata": {},
     "output_type": "execute_result"
    }
   ],
   "source": [
    "train_status_df[train_status_df['status_code'] == 200].shape"
   ]
  },
  {
   "cell_type": "code",
   "execution_count": 15,
   "metadata": {},
   "outputs": [],
   "source": [
    "json_path = 'data/virustotal/train_file_data.json'\n",
    "with open(json_path, 'r') as f:\n",
    "    data_dic = json.load(f)"
   ]
  },
  {
   "cell_type": "code",
   "execution_count": 28,
   "metadata": {},
   "outputs": [
    {
     "data": {
      "text/html": [
       "<div>\n",
       "<style scoped>\n",
       "    .dataframe tbody tr th:only-of-type {\n",
       "        vertical-align: middle;\n",
       "    }\n",
       "\n",
       "    .dataframe tbody tr th {\n",
       "        vertical-align: top;\n",
       "    }\n",
       "\n",
       "    .dataframe thead th {\n",
       "        text-align: right;\n",
       "    }\n",
       "</style>\n",
       "<table border=\"1\" class=\"dataframe\">\n",
       "  <thead>\n",
       "    <tr style=\"text-align: right;\">\n",
       "      <th></th>\n",
       "      <th>sha256</th>\n",
       "      <th>status_code</th>\n",
       "      <th>timestamp</th>\n",
       "      <th>file_number</th>\n",
       "    </tr>\n",
       "  </thead>\n",
       "  <tbody>\n",
       "    <tr>\n",
       "      <th>22008</th>\n",
       "      <td>35f5506abd113ac050607828bdf1731d1b88bdf46e1ab0...</td>\n",
       "      <td>200</td>\n",
       "      <td>2022-12-10 20:01:23.954252</td>\n",
       "      <td>0</td>\n",
       "    </tr>\n",
       "    <tr>\n",
       "      <th>22009</th>\n",
       "      <td>8641e9e5d05dff60ed76805201031956755b50d89a6b0c...</td>\n",
       "      <td>200</td>\n",
       "      <td>2022-12-10 20:01:24.693214</td>\n",
       "      <td>0</td>\n",
       "    </tr>\n",
       "    <tr>\n",
       "      <th>22010</th>\n",
       "      <td>4d2d3b76198decc1ee5cbf2dfb540b2483b36d680acd77...</td>\n",
       "      <td>200</td>\n",
       "      <td>2022-12-10 20:01:25.447132</td>\n",
       "      <td>0</td>\n",
       "    </tr>\n",
       "    <tr>\n",
       "      <th>22011</th>\n",
       "      <td>95fc90feb29c543fb4109a314cf66b071a5f121f5bd52c...</td>\n",
       "      <td>200</td>\n",
       "      <td>2022-12-10 20:01:26.253625</td>\n",
       "      <td>0</td>\n",
       "    </tr>\n",
       "    <tr>\n",
       "      <th>22012</th>\n",
       "      <td>f723b69208996b5f4dcc7e38a7ace80d11d829a71bd650...</td>\n",
       "      <td>200</td>\n",
       "      <td>2022-12-10 20:01:27.136704</td>\n",
       "      <td>0</td>\n",
       "    </tr>\n",
       "  </tbody>\n",
       "</table>\n",
       "</div>"
      ],
      "text/plain": [
       "                                                  sha256  status_code  \\\n",
       "22008  35f5506abd113ac050607828bdf1731d1b88bdf46e1ab0...          200   \n",
       "22009  8641e9e5d05dff60ed76805201031956755b50d89a6b0c...          200   \n",
       "22010  4d2d3b76198decc1ee5cbf2dfb540b2483b36d680acd77...          200   \n",
       "22011  95fc90feb29c543fb4109a314cf66b071a5f121f5bd52c...          200   \n",
       "22012  f723b69208996b5f4dcc7e38a7ace80d11d829a71bd650...          200   \n",
       "\n",
       "                        timestamp  file_number  \n",
       "22008  2022-12-10 20:01:23.954252            0  \n",
       "22009  2022-12-10 20:01:24.693214            0  \n",
       "22010  2022-12-10 20:01:25.447132            0  \n",
       "22011  2022-12-10 20:01:26.253625            0  \n",
       "22012  2022-12-10 20:01:27.136704            0  "
      ]
     },
     "execution_count": 28,
     "metadata": {},
     "output_type": "execute_result"
    }
   ],
   "source": [
    "train_status_df[train_status_df.sha256.isin(data_dic.keys())].tail()"
   ]
  },
  {
   "cell_type": "code",
   "execution_count": 30,
   "metadata": {},
   "outputs": [
    {
     "data": {
      "text/html": [
       "<div>\n",
       "<style scoped>\n",
       "    .dataframe tbody tr th:only-of-type {\n",
       "        vertical-align: middle;\n",
       "    }\n",
       "\n",
       "    .dataframe tbody tr th {\n",
       "        vertical-align: top;\n",
       "    }\n",
       "\n",
       "    .dataframe thead th {\n",
       "        text-align: right;\n",
       "    }\n",
       "</style>\n",
       "<table border=\"1\" class=\"dataframe\">\n",
       "  <thead>\n",
       "    <tr style=\"text-align: right;\">\n",
       "      <th></th>\n",
       "      <th>sha256</th>\n",
       "      <th>status_code</th>\n",
       "      <th>timestamp</th>\n",
       "      <th>file_number</th>\n",
       "    </tr>\n",
       "  </thead>\n",
       "  <tbody>\n",
       "    <tr>\n",
       "      <th>79995</th>\n",
       "      <td>cb0ecd6f4eb6dd38bcdf8932a78a8ca56f2613ac7cc42b...</td>\n",
       "      <td>0</td>\n",
       "      <td>NaN</td>\n",
       "      <td>-1</td>\n",
       "    </tr>\n",
       "    <tr>\n",
       "      <th>79996</th>\n",
       "      <td>bbd52e370be258d1b002a1475c9ab7e2fe03cb6df7f9bf...</td>\n",
       "      <td>0</td>\n",
       "      <td>NaN</td>\n",
       "      <td>-1</td>\n",
       "    </tr>\n",
       "    <tr>\n",
       "      <th>79997</th>\n",
       "      <td>23f37c80c79171d4ffae352282e44c9c556724c2189067...</td>\n",
       "      <td>0</td>\n",
       "      <td>NaN</td>\n",
       "      <td>-1</td>\n",
       "    </tr>\n",
       "    <tr>\n",
       "      <th>79998</th>\n",
       "      <td>78ed22a19f1502dabe4309d473832be22b03c41cc107b7...</td>\n",
       "      <td>0</td>\n",
       "      <td>NaN</td>\n",
       "      <td>-1</td>\n",
       "    </tr>\n",
       "    <tr>\n",
       "      <th>79999</th>\n",
       "      <td>88a884b6d619c49676b5c9e3ddbd7dddb7255600389cbd...</td>\n",
       "      <td>0</td>\n",
       "      <td>NaN</td>\n",
       "      <td>-1</td>\n",
       "    </tr>\n",
       "  </tbody>\n",
       "</table>\n",
       "</div>"
      ],
      "text/plain": [
       "                                                  sha256  status_code  \\\n",
       "79995  cb0ecd6f4eb6dd38bcdf8932a78a8ca56f2613ac7cc42b...            0   \n",
       "79996  bbd52e370be258d1b002a1475c9ab7e2fe03cb6df7f9bf...            0   \n",
       "79997  23f37c80c79171d4ffae352282e44c9c556724c2189067...            0   \n",
       "79998  78ed22a19f1502dabe4309d473832be22b03c41cc107b7...            0   \n",
       "79999  88a884b6d619c49676b5c9e3ddbd7dddb7255600389cbd...            0   \n",
       "\n",
       "      timestamp  file_number  \n",
       "79995       NaN           -1  \n",
       "79996       NaN           -1  \n",
       "79997       NaN           -1  \n",
       "79998       NaN           -1  \n",
       "79999       NaN           -1  "
      ]
     },
     "execution_count": 30,
     "metadata": {},
     "output_type": "execute_result"
    }
   ],
   "source": [
    "train_status_df.tail()"
   ]
  },
  {
   "cell_type": "code",
   "execution_count": 23,
   "metadata": {},
   "outputs": [],
   "source": [
    "train_status_df['file_number'] = 0"
   ]
  },
  {
   "cell_type": "code",
   "execution_count": 34,
   "metadata": {},
   "outputs": [
    {
     "data": {
      "text/plain": [
       "0"
      ]
     },
     "execution_count": 34,
     "metadata": {},
     "output_type": "execute_result"
    }
   ],
   "source": [
    "train_status_df.loc[220136,'file_number'] = -1\n",
    "int(train_status_df['file_number'].max())"
   ]
  },
  {
   "cell_type": "code",
   "execution_count": 25,
   "metadata": {},
   "outputs": [],
   "source": [
    "train_status_df.to_csv('data/virustotal/train_file_status.csv', index=False)"
   ]
  }
 ],
 "metadata": {
  "kernelspec": {
   "display_name": "base",
   "language": "python",
   "name": "python3"
  },
  "language_info": {
   "codemirror_mode": {
    "name": "ipython",
    "version": 3
   },
   "file_extension": ".py",
   "mimetype": "text/x-python",
   "name": "python",
   "nbconvert_exporter": "python",
   "pygments_lexer": "ipython3",
   "version": "3.8.8"
  },
  "orig_nbformat": 4,
  "vscode": {
   "interpreter": {
    "hash": "d0d24260c26781aab6a6247b3ae992ece4f26fd75ea3713b7a84756a27d5e272"
   }
  }
 },
 "nbformat": 4,
 "nbformat_minor": 2
}
