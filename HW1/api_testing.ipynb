{
 "cells": [
  {
   "cell_type": "code",
   "execution_count": 1,
   "metadata": {},
   "outputs": [],
   "source": [
    "import requests\n",
    "import pandas as pd\n",
    "import json\n",
    "import time\n",
    "from tqdm import tqdm\n",
    "from vt_api_key import api_key"
   ]
  },
  {
   "cell_type": "code",
   "execution_count": 86,
   "metadata": {},
   "outputs": [
    {
     "name": "stderr",
     "output_type": "stream",
     "text": [
      "C:\\Users\\ilanv\\AppData\\Local\\Temp/ipykernel_31604/1024237520.py:1: DtypeWarning: Columns (4) have mixed types. Specify dtype option on import or set low_memory=False.\n",
      "  train_data = pd.read_csv('data/processed/sample_train.csv')\n"
     ]
    }
   ],
   "source": [
    "train_data = pd.read_csv('data/processed/sample_train.csv')"
   ]
  },
  {
   "cell_type": "code",
   "execution_count": 92,
   "metadata": {},
   "outputs": [],
   "source": [
    "train_malwares = pd.DataFrame(train_data[train_data['label'] == 1]['sha256'].copy())\n",
    "train_malwares['status_code'] = 0\n",
    "train_malwares['timestamp'] = None\n",
    "train_malwares['file_number'] = -1"
   ]
  },
  {
   "cell_type": "code",
   "execution_count": 117,
   "metadata": {},
   "outputs": [],
   "source": [
    "# DO NOT RUN THIS CODE!\n",
    "# train_malwares.to_csv('data/virustotal/train_file_status.csv', index=False)"
   ]
  },
  {
   "cell_type": "code",
   "execution_count": 118,
   "metadata": {},
   "outputs": [],
   "source": [
    "# DO NOT RUN THIS CODE!\n",
    "# with open('data/virustotal/train_file_data.json', 'w') as f:\n",
    "    # json.dump({}, f)"
   ]
  },
  {
   "cell_type": "code",
   "execution_count": 13,
   "metadata": {},
   "outputs": [
    {
     "data": {
      "text/plain": [
       "1001"
      ]
     },
     "execution_count": 13,
     "metadata": {},
     "output_type": "execute_result"
    }
   ],
   "source": [
    "# index of last file that wasn't checked\n",
    "last_index = train_malwares[train_malwares['status_code'] == 0].index[0]\n",
    "last_index"
   ]
  },
  {
   "cell_type": "code",
   "execution_count": 8,
   "metadata": {},
   "outputs": [
    {
     "name": "stderr",
     "output_type": "stream",
     "text": [
      "C:\\Users\\ilanv\\AppData\\Local\\Temp/ipykernel_14956/3229735755.py:1: DtypeWarning: Columns (4) have mixed types. Specify dtype option on import or set low_memory=False.\n",
      "  test_data = pd.read_csv('data/processed/sample_test.csv')\n"
     ]
    }
   ],
   "source": [
    "test_data = pd.read_csv('data/processed/sample_test.csv')"
   ]
  },
  {
   "cell_type": "code",
   "execution_count": 9,
   "metadata": {},
   "outputs": [],
   "source": [
    "test_malwares = pd.DataFrame(test_data[test_data['label'] == 1]['sha256'].copy())\n",
    "test_malwares['status_code'] = 0\n",
    "test_malwares['timestamp'] = None\n",
    "test_malwares['file_number'] = -1"
   ]
  },
  {
   "cell_type": "code",
   "execution_count": 11,
   "metadata": {},
   "outputs": [],
   "source": [
    "# DO NOT RUN THIS CODE!\n",
    "# test_malwares.to_csv('data/virustotal/test_file_status.csv', index=False)"
   ]
  },
  {
   "cell_type": "code",
   "execution_count": 4,
   "metadata": {},
   "outputs": [
    {
     "data": {
      "text/html": [
       "<div>\n",
       "<style scoped>\n",
       "    .dataframe tbody tr th:only-of-type {\n",
       "        vertical-align: middle;\n",
       "    }\n",
       "\n",
       "    .dataframe tbody tr th {\n",
       "        vertical-align: top;\n",
       "    }\n",
       "\n",
       "    .dataframe thead th {\n",
       "        text-align: right;\n",
       "    }\n",
       "</style>\n",
       "<table border=\"1\" class=\"dataframe\">\n",
       "  <thead>\n",
       "    <tr style=\"text-align: right;\">\n",
       "      <th></th>\n",
       "      <th>sha256</th>\n",
       "      <th>md5</th>\n",
       "      <th>appeared</th>\n",
       "      <th>label</th>\n",
       "      <th>avclass</th>\n",
       "      <th>size</th>\n",
       "      <th>vsize</th>\n",
       "      <th>has_debug</th>\n",
       "      <th>exports</th>\n",
       "      <th>imports</th>\n",
       "      <th>...</th>\n",
       "      <th>avlength</th>\n",
       "      <th>printables</th>\n",
       "      <th>entropy</th>\n",
       "      <th>paths</th>\n",
       "      <th>urls</th>\n",
       "      <th>registry</th>\n",
       "      <th>MZ</th>\n",
       "      <th>status_code</th>\n",
       "      <th>timestamp</th>\n",
       "      <th>file_number</th>\n",
       "    </tr>\n",
       "  </thead>\n",
       "  <tbody>\n",
       "    <tr>\n",
       "      <th>0</th>\n",
       "      <td>8d32f3535d31795886bf62523ec9035d843ef0e2c7032b...</td>\n",
       "      <td>5714e1c1af7c89ff73e397398868632c</td>\n",
       "      <td>2018-11</td>\n",
       "      <td>0</td>\n",
       "      <td>NaN</td>\n",
       "      <td>45568</td>\n",
       "      <td>65536</td>\n",
       "      <td>0</td>\n",
       "      <td>4</td>\n",
       "      <td>108</td>\n",
       "      <td>...</td>\n",
       "      <td>13.124611</td>\n",
       "      <td>4213</td>\n",
       "      <td>5.744219</td>\n",
       "      <td>0</td>\n",
       "      <td>0</td>\n",
       "      <td>0</td>\n",
       "      <td>1</td>\n",
       "      <td>0</td>\n",
       "      <td>None</td>\n",
       "      <td>-1</td>\n",
       "    </tr>\n",
       "    <tr>\n",
       "      <th>1</th>\n",
       "      <td>f9fbcd42e4dc36bec2fb093b8e7479211def628553e2ac...</td>\n",
       "      <td>9ed302dc291bd0062ac8b4aa588e9012</td>\n",
       "      <td>2018-11</td>\n",
       "      <td>0</td>\n",
       "      <td>NaN</td>\n",
       "      <td>167936</td>\n",
       "      <td>262144</td>\n",
       "      <td>0</td>\n",
       "      <td>0</td>\n",
       "      <td>0</td>\n",
       "      <td>...</td>\n",
       "      <td>6.963756</td>\n",
       "      <td>4227</td>\n",
       "      <td>6.415260</td>\n",
       "      <td>0</td>\n",
       "      <td>0</td>\n",
       "      <td>0</td>\n",
       "      <td>2</td>\n",
       "      <td>0</td>\n",
       "      <td>None</td>\n",
       "      <td>-1</td>\n",
       "    </tr>\n",
       "    <tr>\n",
       "      <th>2</th>\n",
       "      <td>f5bbd3a215e4e62e12ad43b6e05e3bbae2ae5632910cbd...</td>\n",
       "      <td>035c0ebe04d3803aae1f36f02c810441</td>\n",
       "      <td>2018-11</td>\n",
       "      <td>0</td>\n",
       "      <td>NaN</td>\n",
       "      <td>817518</td>\n",
       "      <td>3952640</td>\n",
       "      <td>0</td>\n",
       "      <td>0</td>\n",
       "      <td>0</td>\n",
       "      <td>...</td>\n",
       "      <td>18.224425</td>\n",
       "      <td>97446</td>\n",
       "      <td>5.710346</td>\n",
       "      <td>0</td>\n",
       "      <td>2</td>\n",
       "      <td>14</td>\n",
       "      <td>4</td>\n",
       "      <td>0</td>\n",
       "      <td>None</td>\n",
       "      <td>-1</td>\n",
       "    </tr>\n",
       "    <tr>\n",
       "      <th>3</th>\n",
       "      <td>fb937d1d32cb75e41e162f694fe3ba77ada98ae4e7f44b...</td>\n",
       "      <td>9694d64e55df2a75e080a57aadbd8977</td>\n",
       "      <td>2018-11</td>\n",
       "      <td>0</td>\n",
       "      <td>NaN</td>\n",
       "      <td>16384</td>\n",
       "      <td>32768</td>\n",
       "      <td>0</td>\n",
       "      <td>0</td>\n",
       "      <td>1</td>\n",
       "      <td>...</td>\n",
       "      <td>11.139785</td>\n",
       "      <td>2072</td>\n",
       "      <td>5.036963</td>\n",
       "      <td>0</td>\n",
       "      <td>0</td>\n",
       "      <td>0</td>\n",
       "      <td>1</td>\n",
       "      <td>0</td>\n",
       "      <td>None</td>\n",
       "      <td>-1</td>\n",
       "    </tr>\n",
       "    <tr>\n",
       "      <th>4</th>\n",
       "      <td>c8dd919a9fe6d27e6d30333a0ce55c4bed602f7d51f79d...</td>\n",
       "      <td>38cd23930e6c759ed42ae7b7935c4154</td>\n",
       "      <td>2018-11</td>\n",
       "      <td>0</td>\n",
       "      <td>NaN</td>\n",
       "      <td>773044</td>\n",
       "      <td>25337856</td>\n",
       "      <td>1</td>\n",
       "      <td>0</td>\n",
       "      <td>0</td>\n",
       "      <td>...</td>\n",
       "      <td>7.841193</td>\n",
       "      <td>25774</td>\n",
       "      <td>6.406318</td>\n",
       "      <td>0</td>\n",
       "      <td>0</td>\n",
       "      <td>0</td>\n",
       "      <td>4</td>\n",
       "      <td>0</td>\n",
       "      <td>None</td>\n",
       "      <td>-1</td>\n",
       "    </tr>\n",
       "    <tr>\n",
       "      <th>...</th>\n",
       "      <td>...</td>\n",
       "      <td>...</td>\n",
       "      <td>...</td>\n",
       "      <td>...</td>\n",
       "      <td>...</td>\n",
       "      <td>...</td>\n",
       "      <td>...</td>\n",
       "      <td>...</td>\n",
       "      <td>...</td>\n",
       "      <td>...</td>\n",
       "      <td>...</td>\n",
       "      <td>...</td>\n",
       "      <td>...</td>\n",
       "      <td>...</td>\n",
       "      <td>...</td>\n",
       "      <td>...</td>\n",
       "      <td>...</td>\n",
       "      <td>...</td>\n",
       "      <td>...</td>\n",
       "      <td>...</td>\n",
       "      <td>...</td>\n",
       "    </tr>\n",
       "    <tr>\n",
       "      <th>119995</th>\n",
       "      <td>5af09459d1bddc385677b3d1019fdfd3fcfc3530c1c561...</td>\n",
       "      <td>fe3b194f5e0f46cbfae46cd192613c83</td>\n",
       "      <td>2018-11</td>\n",
       "      <td>1</td>\n",
       "      <td>sality</td>\n",
       "      <td>123392</td>\n",
       "      <td>131072</td>\n",
       "      <td>0</td>\n",
       "      <td>0</td>\n",
       "      <td>11</td>\n",
       "      <td>...</td>\n",
       "      <td>5.910448</td>\n",
       "      <td>2772</td>\n",
       "      <td>6.545131</td>\n",
       "      <td>0</td>\n",
       "      <td>0</td>\n",
       "      <td>0</td>\n",
       "      <td>1</td>\n",
       "      <td>0</td>\n",
       "      <td>None</td>\n",
       "      <td>-1</td>\n",
       "    </tr>\n",
       "    <tr>\n",
       "      <th>119996</th>\n",
       "      <td>9d1a96817df0c23a64347bc9548146fc3a801b8f7b1170...</td>\n",
       "      <td>2e9c3ea6f93cb46e967b911c65ec774c</td>\n",
       "      <td>2018-11</td>\n",
       "      <td>1</td>\n",
       "      <td>high</td>\n",
       "      <td>309760</td>\n",
       "      <td>327680</td>\n",
       "      <td>0</td>\n",
       "      <td>0</td>\n",
       "      <td>3</td>\n",
       "      <td>...</td>\n",
       "      <td>5.980769</td>\n",
       "      <td>6842</td>\n",
       "      <td>6.530765</td>\n",
       "      <td>0</td>\n",
       "      <td>0</td>\n",
       "      <td>0</td>\n",
       "      <td>1</td>\n",
       "      <td>0</td>\n",
       "      <td>None</td>\n",
       "      <td>-1</td>\n",
       "    </tr>\n",
       "    <tr>\n",
       "      <th>119997</th>\n",
       "      <td>4f93bd34cdfb450b0705043170daa916739c6b3044b6ff...</td>\n",
       "      <td>aa41f376a8af983f1aab1e16e4f6259c</td>\n",
       "      <td>2018-11</td>\n",
       "      <td>1</td>\n",
       "      <td>emotet</td>\n",
       "      <td>222741</td>\n",
       "      <td>856064</td>\n",
       "      <td>1</td>\n",
       "      <td>0</td>\n",
       "      <td>20</td>\n",
       "      <td>...</td>\n",
       "      <td>7.735366</td>\n",
       "      <td>6343</td>\n",
       "      <td>3.669333</td>\n",
       "      <td>0</td>\n",
       "      <td>0</td>\n",
       "      <td>0</td>\n",
       "      <td>6</td>\n",
       "      <td>0</td>\n",
       "      <td>None</td>\n",
       "      <td>-1</td>\n",
       "    </tr>\n",
       "    <tr>\n",
       "      <th>119998</th>\n",
       "      <td>c16133fcc74483a984ed72f53dffa6721ad013a6e59a65...</td>\n",
       "      <td>533728b2d6e4b87596205e36479917a4</td>\n",
       "      <td>2018-12</td>\n",
       "      <td>1</td>\n",
       "      <td>sality</td>\n",
       "      <td>294726</td>\n",
       "      <td>266240</td>\n",
       "      <td>0</td>\n",
       "      <td>0</td>\n",
       "      <td>119</td>\n",
       "      <td>...</td>\n",
       "      <td>8.412698</td>\n",
       "      <td>7950</td>\n",
       "      <td>5.879615</td>\n",
       "      <td>2</td>\n",
       "      <td>0</td>\n",
       "      <td>0</td>\n",
       "      <td>1</td>\n",
       "      <td>0</td>\n",
       "      <td>None</td>\n",
       "      <td>-1</td>\n",
       "    </tr>\n",
       "    <tr>\n",
       "      <th>119999</th>\n",
       "      <td>bd01384ae2a04b5d7235c15ad4301e730aaef5809e4839...</td>\n",
       "      <td>d5fd30554f3e90d3335cbde72b389c90</td>\n",
       "      <td>2018-12</td>\n",
       "      <td>1</td>\n",
       "      <td>zbot</td>\n",
       "      <td>360819</td>\n",
       "      <td>77824</td>\n",
       "      <td>0</td>\n",
       "      <td>0</td>\n",
       "      <td>1</td>\n",
       "      <td>...</td>\n",
       "      <td>14.000000</td>\n",
       "      <td>32844</td>\n",
       "      <td>5.770924</td>\n",
       "      <td>2</td>\n",
       "      <td>0</td>\n",
       "      <td>0</td>\n",
       "      <td>9</td>\n",
       "      <td>0</td>\n",
       "      <td>None</td>\n",
       "      <td>-1</td>\n",
       "    </tr>\n",
       "  </tbody>\n",
       "</table>\n",
       "<p>120000 rows × 26 columns</p>\n",
       "</div>"
      ],
      "text/plain": [
       "                                                   sha256  \\\n",
       "0       8d32f3535d31795886bf62523ec9035d843ef0e2c7032b...   \n",
       "1       f9fbcd42e4dc36bec2fb093b8e7479211def628553e2ac...   \n",
       "2       f5bbd3a215e4e62e12ad43b6e05e3bbae2ae5632910cbd...   \n",
       "3       fb937d1d32cb75e41e162f694fe3ba77ada98ae4e7f44b...   \n",
       "4       c8dd919a9fe6d27e6d30333a0ce55c4bed602f7d51f79d...   \n",
       "...                                                   ...   \n",
       "119995  5af09459d1bddc385677b3d1019fdfd3fcfc3530c1c561...   \n",
       "119996  9d1a96817df0c23a64347bc9548146fc3a801b8f7b1170...   \n",
       "119997  4f93bd34cdfb450b0705043170daa916739c6b3044b6ff...   \n",
       "119998  c16133fcc74483a984ed72f53dffa6721ad013a6e59a65...   \n",
       "119999  bd01384ae2a04b5d7235c15ad4301e730aaef5809e4839...   \n",
       "\n",
       "                                     md5 appeared  label avclass    size  \\\n",
       "0       5714e1c1af7c89ff73e397398868632c  2018-11      0     NaN   45568   \n",
       "1       9ed302dc291bd0062ac8b4aa588e9012  2018-11      0     NaN  167936   \n",
       "2       035c0ebe04d3803aae1f36f02c810441  2018-11      0     NaN  817518   \n",
       "3       9694d64e55df2a75e080a57aadbd8977  2018-11      0     NaN   16384   \n",
       "4       38cd23930e6c759ed42ae7b7935c4154  2018-11      0     NaN  773044   \n",
       "...                                  ...      ...    ...     ...     ...   \n",
       "119995  fe3b194f5e0f46cbfae46cd192613c83  2018-11      1  sality  123392   \n",
       "119996  2e9c3ea6f93cb46e967b911c65ec774c  2018-11      1    high  309760   \n",
       "119997  aa41f376a8af983f1aab1e16e4f6259c  2018-11      1  emotet  222741   \n",
       "119998  533728b2d6e4b87596205e36479917a4  2018-12      1  sality  294726   \n",
       "119999  d5fd30554f3e90d3335cbde72b389c90  2018-12      1    zbot  360819   \n",
       "\n",
       "           vsize  has_debug  exports  imports  ...   avlength  printables  \\\n",
       "0          65536          0        4      108  ...  13.124611        4213   \n",
       "1         262144          0        0        0  ...   6.963756        4227   \n",
       "2        3952640          0        0        0  ...  18.224425       97446   \n",
       "3          32768          0        0        1  ...  11.139785        2072   \n",
       "4       25337856          1        0        0  ...   7.841193       25774   \n",
       "...          ...        ...      ...      ...  ...        ...         ...   \n",
       "119995    131072          0        0       11  ...   5.910448        2772   \n",
       "119996    327680          0        0        3  ...   5.980769        6842   \n",
       "119997    856064          1        0       20  ...   7.735366        6343   \n",
       "119998    266240          0        0      119  ...   8.412698        7950   \n",
       "119999     77824          0        0        1  ...  14.000000       32844   \n",
       "\n",
       "         entropy  paths  urls  registry  MZ  status_code  timestamp  \\\n",
       "0       5.744219      0     0         0   1            0       None   \n",
       "1       6.415260      0     0         0   2            0       None   \n",
       "2       5.710346      0     2        14   4            0       None   \n",
       "3       5.036963      0     0         0   1            0       None   \n",
       "4       6.406318      0     0         0   4            0       None   \n",
       "...          ...    ...   ...       ...  ..          ...        ...   \n",
       "119995  6.545131      0     0         0   1            0       None   \n",
       "119996  6.530765      0     0         0   1            0       None   \n",
       "119997  3.669333      0     0         0   6            0       None   \n",
       "119998  5.879615      2     0         0   1            0       None   \n",
       "119999  5.770924      2     0         0   9            0       None   \n",
       "\n",
       "        file_number  \n",
       "0                -1  \n",
       "1                -1  \n",
       "2                -1  \n",
       "3                -1  \n",
       "4                -1  \n",
       "...             ...  \n",
       "119995           -1  \n",
       "119996           -1  \n",
       "119997           -1  \n",
       "119998           -1  \n",
       "119999           -1  \n",
       "\n",
       "[120000 rows x 26 columns]"
      ]
     },
     "execution_count": 4,
     "metadata": {},
     "output_type": "execute_result"
    }
   ],
   "source": [
    "test_data"
   ]
  },
  {
   "cell_type": "code",
   "execution_count": 27,
   "metadata": {},
   "outputs": [
    {
     "name": "stdout",
     "output_type": "stream",
     "text": [
      "{\"error\":{\"code\":\"NotFoundError\",\"message\":\"Resource not found.\"}}\n",
      "\n"
     ]
    }
   ],
   "source": [
    "file_hash = 'moti'\n",
    "url = f\"https://www.virustotal.com/api/v3/files/{file_hash}\"\n",
    "\n",
    "headers = {\n",
    "    \"accept\": \"application/json\",\n",
    "    \"x-apikey\": \"5adf3682d43ee1cb47ffc91c8e04e520be5637f4df6a1fee1190d964b806f4fa\"\n",
    "}\n",
    "\n",
    "response = requests.get(url, headers=headers)\n",
    "\n",
    "print(response.text)"
   ]
  },
  {
   "cell_type": "code",
   "execution_count": 23,
   "metadata": {},
   "outputs": [],
   "source": [
    "def get_remaning_daily_quota(api_key):\n",
    "    url = f\"https://www.virustotal.com/api/v3/users/{api_key}/overall_quotas\"\n",
    "\n",
    "    headers = {\n",
    "        \"accept\": \"application/json\",\n",
    "        \"x-apikey\": api_key\n",
    "    }\n",
    "\n",
    "    response = requests.get(url, headers=headers)\n",
    "    user_daily_quota = response.json()['data']['api_requests_daily']['user']\n",
    "    used = user_daily_quota['used']\n",
    "    allowed = user_daily_quota['allowed']\n",
    "    return allowed - used"
   ]
  },
  {
   "cell_type": "code",
   "execution_count": 14,
   "metadata": {},
   "outputs": [],
   "source": [
    "url = f\"https://www.virustotal.com/api/v3/users/{api_key}/overall_quotas\"\n",
    "\n",
    "headers = {\n",
    "    \"accept\": \"application/json\",\n",
    "    \"x-apikey\": api_key\n",
    "}\n",
    "\n",
    "response = requests.get(url, headers=headers)"
   ]
  },
  {
   "cell_type": "code",
   "execution_count": 56,
   "metadata": {},
   "outputs": [
    {
     "data": {
      "text/plain": [
       "19936"
      ]
     },
     "execution_count": 56,
     "metadata": {},
     "output_type": "execute_result"
    }
   ],
   "source": [
    "get_remaning_daily_quota(api_key)"
   ]
  },
  {
   "cell_type": "code",
   "execution_count": 113,
   "metadata": {},
   "outputs": [],
   "source": [
    "def create_batches(start_index, df_size):\n",
    "    # num_avilable_requests = get_remaning_daily_quota(api_key)\n",
    "    num_avilable_requests = 20000\n",
    "    num_requests = 0 \n",
    "    batches = []\n",
    "    while num_requests < num_avilable_requests and start_index < df_size:\n",
    "        batch_samples = min([3, num_avilable_requests - num_requests, df_size - start_index])\n",
    "        end_index = start_index + batch_samples \n",
    "        batches.append(range(start_index, end_index))\n",
    "        num_requests += 3\n",
    "        start_index = end_index\n",
    "    return batches"
   ]
  },
  {
   "cell_type": "code",
   "execution_count": 81,
   "metadata": {},
   "outputs": [
    {
     "data": {
      "text/plain": [
       "range(0, 3)"
      ]
     },
     "execution_count": 81,
     "metadata": {},
     "output_type": "execute_result"
    }
   ],
   "source": [
    "batches = create_batches(train_malwares, 0)\n",
    "batches[0]"
   ]
  },
  {
   "cell_type": "code",
   "execution_count": 82,
   "metadata": {},
   "outputs": [
    {
     "name": "stderr",
     "output_type": "stream",
     "text": [
      "batch 0: 100%|██████████| 3/3 [00:02<00:00,  1.38it/s]\n",
      "batch 1: 100%|██████████| 3/3 [00:01<00:00,  1.61it/s]\n",
      "batch 2: 100%|██████████| 3/3 [00:02<00:00,  1.43it/s]\n",
      "batch 3: 100%|██████████| 2/2 [00:01<00:00,  1.67it/s]\n"
     ]
    }
   ],
   "source": [
    "data_json = {}\n",
    "batches = create_batches(train_malwares, 0)\n",
    "for b in range(len(batches)):\n",
    "    for idx in tqdm(batches[b], desc = f\"batch {b}\"):\n",
    "        \n",
    "        sha256 = train_malwares.loc[idx, 'sha256']\n",
    "        # get response\n",
    "        url = f\"https://www.virustotal.com/api/v3/files/{sha256}\"\n",
    "        headers = {\n",
    "            \"accept\": \"application/json\",\n",
    "            \"x-apikey\": api_key\n",
    "        }\n",
    "        response = requests.get(url, headers=headers)\n",
    "        # update status and timestamp\n",
    "        train_malwares.loc[idx, 'timestamp'] = pd.Timestamp.now()\n",
    "        train_malwares.loc[idx, 'status_code'] = response.status_code\n",
    "        # save response json\n",
    "        data_json[sha256] = response.json()\n",
    "\n",
    "    # save progress\n",
    "    train_malwares.to_csv('data/virustotal/train_file_status.csv', index=False)\n",
    "    with open('data/virustotal/train_file_data.json', 'w') as f:\n",
    "            json.dump(data_json, f)\n",
    "\n",
    "    if b != len(batches) - 1:\n",
    "        # sleep for 1 minute\n",
    "        time.sleep(3)\n",
    "\n",
    "\n",
    "\n",
    "        "
   ]
  },
  {
   "cell_type": "code",
   "execution_count": 85,
   "metadata": {},
   "outputs": [
    {
     "data": {
      "text/plain": [
       "11"
      ]
     },
     "execution_count": 85,
     "metadata": {},
     "output_type": "execute_result"
    }
   ],
   "source": [
    "# open json file\n",
    "with open('data/virustotal/train_file_data.json', 'r') as f:\n",
    "    data_json_shmulik = json.load(f)\n",
    "len(data_json_shmulik)"
   ]
  },
  {
   "cell_type": "code",
   "execution_count": 19,
   "metadata": {},
   "outputs": [
    {
     "data": {
      "text/plain": [
       "{'harmless': 0,\n",
       " 'type-unsupported': 4,\n",
       " 'suspicious': 0,\n",
       " 'confirmed-timeout': 0,\n",
       " 'timeout': 0,\n",
       " 'failure': 5,\n",
       " 'malicious': 53,\n",
       " 'undetected': 9}"
      ]
     },
     "execution_count": 19,
     "metadata": {},
     "output_type": "execute_result"
    }
   ],
   "source": [
    "# get number of malicious and undected votes \n",
    "malicious_votes = response.json()['data']['attributes']['last_analysis_stats']['malicious']\n",
    "undetected_votes = response.json()['data']['attributes']['last_analysis_stats']['undetected']\n",
    "response.json()['data']['attributes']['last_analysis_stats']"
   ]
  },
  {
   "cell_type": "code",
   "execution_count": 21,
   "metadata": {},
   "outputs": [],
   "source": [
    "json_dic = {}\n",
    "json_dic[file_hash] = response.json()\n",
    "# convert to json \n",
    "json_dic = json.dumps(json_dic) "
   ]
  },
  {
   "cell_type": "code",
   "execution_count": 28,
   "metadata": {},
   "outputs": [
    {
     "data": {
      "text/plain": [
       "404"
      ]
     },
     "execution_count": 28,
     "metadata": {},
     "output_type": "execute_result"
    }
   ],
   "source": [
    "# get response code\n",
    "response.status_code"
   ]
  },
  {
   "cell_type": "code",
   "execution_count": 114,
   "metadata": {},
   "outputs": [],
   "source": [
    "len(train_malwares)\n",
    "batches = create_batches(79950, len(train_malwares))"
   ]
  },
  {
   "cell_type": "code",
   "execution_count": 119,
   "metadata": {},
   "outputs": [
    {
     "data": {
      "text/plain": [
       "18863"
      ]
     },
     "execution_count": 119,
     "metadata": {},
     "output_type": "execute_result"
    }
   ],
   "source": [
    "get_remaning_daily_quota(api_key)"
   ]
  }
 ],
 "metadata": {
  "kernelspec": {
   "display_name": "base",
   "language": "python",
   "name": "python3"
  },
  "language_info": {
   "codemirror_mode": {
    "name": "ipython",
    "version": 3
   },
   "file_extension": ".py",
   "mimetype": "text/x-python",
   "name": "python",
   "nbconvert_exporter": "python",
   "pygments_lexer": "ipython3",
   "version": "3.8.8 (default, Apr 13 2021, 15:08:03) [MSC v.1916 64 bit (AMD64)]"
  },
  "orig_nbformat": 4,
  "vscode": {
   "interpreter": {
    "hash": "d0d24260c26781aab6a6247b3ae992ece4f26fd75ea3713b7a84756a27d5e272"
   }
  }
 },
 "nbformat": 4,
 "nbformat_minor": 2
}
