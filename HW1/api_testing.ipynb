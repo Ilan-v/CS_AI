{
 "cells": [
  {
   "cell_type": "code",
   "execution_count": 52,
   "metadata": {},
   "outputs": [],
   "source": [
    "import requests\n",
    "import pandas as pd\n",
    "import json\n",
    "import time\n",
    "from tqdm import tqdm\n",
    "from vt_api_key import api_key"
   ]
  },
  {
   "cell_type": "code",
   "execution_count": 86,
   "metadata": {},
   "outputs": [
    {
     "name": "stderr",
     "output_type": "stream",
     "text": [
      "C:\\Users\\ilanv\\AppData\\Local\\Temp/ipykernel_31604/1024237520.py:1: DtypeWarning: Columns (4) have mixed types. Specify dtype option on import or set low_memory=False.\n",
      "  train_data = pd.read_csv('data/processed/sample_train.csv')\n"
     ]
    }
   ],
   "source": [
    "train_data = pd.read_csv('data/processed/sample_train.csv')"
   ]
  },
  {
   "cell_type": "code",
   "execution_count": 92,
   "metadata": {},
   "outputs": [],
   "source": [
    "train_malwares = pd.DataFrame(train_data[train_data['label'] == 1]['sha256'].copy())\n",
    "train_malwares['status_code'] = 0\n",
    "train_malwares['timestamp'] = None"
   ]
  },
  {
   "cell_type": "code",
   "execution_count": 117,
   "metadata": {},
   "outputs": [],
   "source": [
    "# DO NOT RUN THIS CODE!\n",
    "# train_malwares.to_csv('data/virustotal/train_file_status.csv', index=False)"
   ]
  },
  {
   "cell_type": "code",
   "execution_count": 118,
   "metadata": {},
   "outputs": [],
   "source": [
    "# DO NOT RUN THIS CODE!\n",
    "# with open('data/virustotal/train_file_data.json', 'w') as f:\n",
    "    # json.dump({}, f)"
   ]
  },
  {
   "cell_type": "code",
   "execution_count": 13,
   "metadata": {},
   "outputs": [
    {
     "data": {
      "text/plain": [
       "1001"
      ]
     },
     "execution_count": 13,
     "metadata": {},
     "output_type": "execute_result"
    }
   ],
   "source": [
    "# index of last file that wasn't checked\n",
    "last_index = train_malwares[train_malwares['status_code'] == 0].index[0]\n",
    "last_index"
   ]
  },
  {
   "cell_type": "code",
   "execution_count": 27,
   "metadata": {},
   "outputs": [
    {
     "name": "stdout",
     "output_type": "stream",
     "text": [
      "{\"error\":{\"code\":\"NotFoundError\",\"message\":\"Resource not found.\"}}\n",
      "\n"
     ]
    }
   ],
   "source": [
    "file_hash = 'moti'\n",
    "url = f\"https://www.virustotal.com/api/v3/files/{file_hash}\"\n",
    "\n",
    "headers = {\n",
    "    \"accept\": \"application/json\",\n",
    "    \"x-apikey\": \"5adf3682d43ee1cb47ffc91c8e04e520be5637f4df6a1fee1190d964b806f4fa\"\n",
    "}\n",
    "\n",
    "response = requests.get(url, headers=headers)\n",
    "\n",
    "print(response.text)"
   ]
  },
  {
   "cell_type": "code",
   "execution_count": 23,
   "metadata": {},
   "outputs": [],
   "source": [
    "def get_remaning_daily_quota(api_key):\n",
    "    url = f\"https://www.virustotal.com/api/v3/users/{api_key}/overall_quotas\"\n",
    "\n",
    "    headers = {\n",
    "        \"accept\": \"application/json\",\n",
    "        \"x-apikey\": api_key\n",
    "    }\n",
    "\n",
    "    response = requests.get(url, headers=headers)\n",
    "    user_daily_quota = response.json()['data']['api_requests_daily']['user']\n",
    "    used = user_daily_quota['used']\n",
    "    allowed = user_daily_quota['allowed']\n",
    "    return allowed - used"
   ]
  },
  {
   "cell_type": "code",
   "execution_count": 14,
   "metadata": {},
   "outputs": [],
   "source": [
    "url = f\"https://www.virustotal.com/api/v3/users/{api_key}/overall_quotas\"\n",
    "\n",
    "headers = {\n",
    "    \"accept\": \"application/json\",\n",
    "    \"x-apikey\": api_key\n",
    "}\n",
    "\n",
    "response = requests.get(url, headers=headers)"
   ]
  },
  {
   "cell_type": "code",
   "execution_count": 56,
   "metadata": {},
   "outputs": [
    {
     "data": {
      "text/plain": [
       "19936"
      ]
     },
     "execution_count": 56,
     "metadata": {},
     "output_type": "execute_result"
    }
   ],
   "source": [
    "get_remaning_daily_quota(api_key)"
   ]
  },
  {
   "cell_type": "code",
   "execution_count": 113,
   "metadata": {},
   "outputs": [],
   "source": [
    "def create_batches(start_index, df_size):\n",
    "    # num_avilable_requests = get_remaning_daily_quota(api_key)\n",
    "    num_avilable_requests = 20000\n",
    "    num_requests = 0 \n",
    "    batches = []\n",
    "    while num_requests < num_avilable_requests and start_index < df_size:\n",
    "        batch_samples = min([3, num_avilable_requests - num_requests, df_size - start_index])\n",
    "        end_index = start_index + batch_samples \n",
    "        batches.append(range(start_index, end_index))\n",
    "        num_requests += 3\n",
    "        start_index = end_index\n",
    "    return batches"
   ]
  },
  {
   "cell_type": "code",
   "execution_count": 81,
   "metadata": {},
   "outputs": [
    {
     "data": {
      "text/plain": [
       "range(0, 3)"
      ]
     },
     "execution_count": 81,
     "metadata": {},
     "output_type": "execute_result"
    }
   ],
   "source": [
    "batches = create_batches(train_malwares, 0)\n",
    "batches[0]"
   ]
  },
  {
   "cell_type": "code",
   "execution_count": 82,
   "metadata": {},
   "outputs": [
    {
     "name": "stderr",
     "output_type": "stream",
     "text": [
      "batch 0: 100%|██████████| 3/3 [00:02<00:00,  1.38it/s]\n",
      "batch 1: 100%|██████████| 3/3 [00:01<00:00,  1.61it/s]\n",
      "batch 2: 100%|██████████| 3/3 [00:02<00:00,  1.43it/s]\n",
      "batch 3: 100%|██████████| 2/2 [00:01<00:00,  1.67it/s]\n"
     ]
    }
   ],
   "source": [
    "data_json = {}\n",
    "batches = create_batches(train_malwares, 0)\n",
    "for b in range(len(batches)):\n",
    "    for idx in tqdm(batches[b], desc = f\"batch {b}\"):\n",
    "        \n",
    "        sha256 = train_malwares.loc[idx, 'sha256']\n",
    "        # get response\n",
    "        url = f\"https://www.virustotal.com/api/v3/files/{sha256}\"\n",
    "        headers = {\n",
    "            \"accept\": \"application/json\",\n",
    "            \"x-apikey\": api_key\n",
    "        }\n",
    "        response = requests.get(url, headers=headers)\n",
    "        # update status and timestamp\n",
    "        train_malwares.loc[idx, 'timestamp'] = pd.Timestamp.now()\n",
    "        train_malwares.loc[idx, 'status_code'] = response.status_code\n",
    "        # save response json\n",
    "        data_json[sha256] = response.json()\n",
    "\n",
    "    # save progress\n",
    "    train_malwares.to_csv('data/virustotal/train_file_status.csv', index=False)\n",
    "    with open('data/virustotal/train_file_data.json', 'w') as f:\n",
    "            json.dump(data_json, f)\n",
    "\n",
    "    if b != len(batches) - 1:\n",
    "        # sleep for 1 minute\n",
    "        time.sleep(3)\n",
    "\n",
    "\n",
    "\n",
    "        "
   ]
  },
  {
   "cell_type": "code",
   "execution_count": 85,
   "metadata": {},
   "outputs": [
    {
     "data": {
      "text/plain": [
       "11"
      ]
     },
     "execution_count": 85,
     "metadata": {},
     "output_type": "execute_result"
    }
   ],
   "source": [
    "# open json file\n",
    "with open('data/virustotal/train_file_data.json', 'r') as f:\n",
    "    data_json_shmulik = json.load(f)\n",
    "len(data_json_shmulik)"
   ]
  },
  {
   "cell_type": "code",
   "execution_count": 19,
   "metadata": {},
   "outputs": [
    {
     "data": {
      "text/plain": [
       "{'harmless': 0,\n",
       " 'type-unsupported': 4,\n",
       " 'suspicious': 0,\n",
       " 'confirmed-timeout': 0,\n",
       " 'timeout': 0,\n",
       " 'failure': 5,\n",
       " 'malicious': 53,\n",
       " 'undetected': 9}"
      ]
     },
     "execution_count": 19,
     "metadata": {},
     "output_type": "execute_result"
    }
   ],
   "source": [
    "# get number of malicious and undected votes \n",
    "malicious_votes = response.json()['data']['attributes']['last_analysis_stats']['malicious']\n",
    "undetected_votes = response.json()['data']['attributes']['last_analysis_stats']['undetected']\n",
    "response.json()['data']['attributes']['last_analysis_stats']"
   ]
  },
  {
   "cell_type": "code",
   "execution_count": 21,
   "metadata": {},
   "outputs": [],
   "source": [
    "json_dic = {}\n",
    "json_dic[file_hash] = response.json()\n",
    "# convert to json \n",
    "json_dic = json.dumps(json_dic) "
   ]
  },
  {
   "cell_type": "code",
   "execution_count": 28,
   "metadata": {},
   "outputs": [
    {
     "data": {
      "text/plain": [
       "404"
      ]
     },
     "execution_count": 28,
     "metadata": {},
     "output_type": "execute_result"
    }
   ],
   "source": [
    "# get response code\n",
    "response.status_code"
   ]
  },
  {
   "cell_type": "code",
   "execution_count": 114,
   "metadata": {},
   "outputs": [],
   "source": [
    "len(train_malwares)\n",
    "batches = create_batches(79950, len(train_malwares))"
   ]
  }
 ],
 "metadata": {
  "kernelspec": {
   "display_name": "base",
   "language": "python",
   "name": "python3"
  },
  "language_info": {
   "codemirror_mode": {
    "name": "ipython",
    "version": 3
   },
   "file_extension": ".py",
   "mimetype": "text/x-python",
   "name": "python",
   "nbconvert_exporter": "python",
   "pygments_lexer": "ipython3",
   "version": "3.8.8"
  },
  "orig_nbformat": 4,
  "vscode": {
   "interpreter": {
    "hash": "d0d24260c26781aab6a6247b3ae992ece4f26fd75ea3713b7a84756a27d5e272"
   }
  }
 },
 "nbformat": 4,
 "nbformat_minor": 2
}
